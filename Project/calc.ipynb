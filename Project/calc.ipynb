{
 "cells": [
  {
   "cell_type": "code",
   "execution_count": 45,
   "metadata": {},
   "outputs": [
    {
     "ename": "ValueError",
     "evalue": "either both or neither of x and y should be given",
     "output_type": "error",
     "traceback": [
      "\u001b[1;31m---------------------------------------------------------------------------\u001b[0m",
      "\u001b[1;31mValueError\u001b[0m                                Traceback (most recent call last)",
      "Cell \u001b[1;32mIn [45], line 37\u001b[0m\n\u001b[0;32m     23\u001b[0m \u001b[39m# for i in range(1, len(Z)+1):\u001b[39;00m\n\u001b[0;32m     24\u001b[0m \u001b[39m#     diffZ = Z[-i] - Z[-i-1]\u001b[39;00m\n\u001b[0;32m     25\u001b[0m \u001b[39m#     print(diffZ)\u001b[39;00m\n\u001b[1;32m   (...)\u001b[0m\n\u001b[0;32m     34\u001b[0m \u001b[39m# print(bestDist2)\u001b[39;00m\n\u001b[0;32m     35\u001b[0m \u001b[39m# print(newZ)\u001b[39;00m\n\u001b[0;32m     36\u001b[0m distZ \u001b[39m=\u001b[39m Z \u001b[39m-\u001b[39m Z2\n\u001b[1;32m---> 37\u001b[0m maxDist \u001b[39m=\u001b[39m np\u001b[39m.\u001b[39;49mwhere(distZ\u001b[39m.\u001b[39;49mflatten() \u001b[39m==\u001b[39;49m (distZ)\u001b[39m.\u001b[39;49mmax(), distZ)[\u001b[39m0\u001b[39m]\u001b[39m.\u001b[39mitem()\n\u001b[0;32m     38\u001b[0m maxDist2 \u001b[39m=\u001b[39m np\u001b[39m.\u001b[39mwhere(distZ\u001b[39m.\u001b[39mflatten() \u001b[39m==\u001b[39m np\u001b[39m.\u001b[39msort(distZ\u001b[39m.\u001b[39mflatten())[\u001b[39m-\u001b[39m\u001b[39m2\u001b[39m])[\u001b[39m0\u001b[39m]\u001b[39m.\u001b[39mitem()\n\u001b[0;32m     39\u001b[0m \u001b[39mprint\u001b[39m(Z[maxDist], maxDist)\n",
      "File \u001b[1;32m<__array_function__ internals>:180\u001b[0m, in \u001b[0;36mwhere\u001b[1;34m(*args, **kwargs)\u001b[0m\n",
      "\u001b[1;31mValueError\u001b[0m: either both or neither of x and y should be given"
     ]
    }
   ],
   "source": [
    "import numpy as np\n",
    "Z = np.array([[115.46100153],\n",
    "                [144.38813127],\n",
    "                [157.05686374],\n",
    "                [206.15430072],\n",
    "                [213.14307322],\n",
    "                [227.03508813],\n",
    "                [272.9404683 ],\n",
    "                [492.85828262]])\n",
    "\n",
    "Z2 = np.array([[111.82],\n",
    "                [115.46100153],\n",
    "                [144.38813127],\n",
    "                [157.05686374],\n",
    "                [206.15430072],\n",
    "                [213.14307322],\n",
    "                [227.03508813],\n",
    "                [272.9404683 ]])\n",
    "\n",
    "bestDiff = 0\n",
    "bestDist = 0\n",
    "\n",
    "# for i in range(1, len(Z)+1):\n",
    "#     diffZ = Z[-i] - Z[-i-1]\n",
    "#     print(diffZ)\n",
    "#     if diffZ > bestDiff:\n",
    "#         bestDiff = diffZ\n",
    "#         bestDist2 = bestDist\n",
    "#         bestDist = ((Z[-i-1]/100).round(1) * 100) + 10\n",
    "#         newZ = Z[:-i]\n",
    "# print((Z[besti]/100).round(1) * 100)\n",
    "# print(bestDiff)\n",
    "# print(bestDist)\n",
    "# print(bestDist2)\n",
    "# print(newZ)\n",
    "distZ = Z - Z2\n",
    "maxDist = np.where(distZ.flatten() == (distZ).max())[0].item()\n",
    "maxDist2 = np.where(distZ.flatten() == np.sort(distZ.flatten())[-2])[0].item()\n",
    "print(Z[maxDist], maxDist)"
   ]
  },
  {
   "cell_type": "code",
   "execution_count": 24,
   "metadata": {},
   "outputs": [
    {
     "name": "stdout",
     "output_type": "stream",
     "text": [
      "[ 6  3  3  3 30  6 10  8  9]\n",
      "30\n"
     ]
    }
   ],
   "source": [
    "test = np.array([[6],[3],[3],[3],[30],[6],[10],[8],[9]])\n",
    "print(test.flatten())\n",
    "# test = np.sort(test.flatten())[-2]\n",
    "test = test.max()\n",
    "print(test)\n"
   ]
  },
  {
   "cell_type": "code",
   "execution_count": 29,
   "metadata": {},
   "outputs": [],
   "source": [
    "import json\n",
    "\n",
    "with open('test.json', 'w') as f:\n",
    "    json.dump({}, f)"
   ]
  },
  {
   "cell_type": "code",
   "execution_count": 28,
   "metadata": {},
   "outputs": [
    {
     "name": "stdout",
     "output_type": "stream",
     "text": [
      "hi\n"
     ]
    }
   ],
   "source": [
    "with open('test.json', 'r') as f:\n",
    "    test = json.load(f)\n",
    "    test['test2'] = 'hi'\n",
    "    test3 = test['test2'] if 'test2' in test else 'test3'\n",
    "    print(test3)\n",
    "\n",
    "with open('test.json', 'w') as f:\n",
    "    json.dump(test, f)"
   ]
  }
 ],
 "metadata": {
  "kernelspec": {
   "display_name": "Python 3.9.13 64-bit",
   "language": "python",
   "name": "python3"
  },
  "language_info": {
   "codemirror_mode": {
    "name": "ipython",
    "version": 3
   },
   "file_extension": ".py",
   "mimetype": "text/x-python",
   "name": "python",
   "nbconvert_exporter": "python",
   "pygments_lexer": "ipython3",
   "version": "3.9.13"
  },
  "orig_nbformat": 4,
  "vscode": {
   "interpreter": {
    "hash": "11938c6bc6919ae2720b4d5011047913343b08a43b18698fd82dedb0d4417594"
   }
  }
 },
 "nbformat": 4,
 "nbformat_minor": 2
}
