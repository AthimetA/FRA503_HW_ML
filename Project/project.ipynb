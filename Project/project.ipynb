{
 "cells": [
  {
   "cell_type": "markdown",
   "metadata": {},
   "source": [
    "# **Project : Prediction of music genre**\n",
    "<hr>\n",
    "\n",
    "<u>**Members**</u><br>\n",
    "Tharnarch Thoranisttakul 63340500025<br>\n",
    "Sorapas Weerakul 63340500064<br>\n",
    "Athimet Aiewcharoen 63340500068\n",
    "<hr>"
   ]
  },
  {
   "cell_type": "code",
   "execution_count": 432,
   "metadata": {},
   "outputs": [],
   "source": [
    "import warnings\n",
    "warnings.filterwarnings('ignore')\n",
    "\n",
    "import pandas as pd\n",
    "import numpy as np\n",
    "from matplotlib import pyplot as plt\n",
    "import seaborn as sns\n",
    "import plotly.express as px\n",
    "from plotly.graph_objs import *\n",
    "%matplotlib inline\n",
    "\n",
    "import pandas_profiling as pp\n",
    "from yellowbrick.cluster import KElbowVisualizer, SilhouetteVisualizer, InterclusterDistance\n",
    "\n",
    "# Preprocessing\n",
    "from sklearn.preprocessing import StandardScaler, MinMaxScaler, RobustScaler\n",
    "from sklearn.preprocessing import LabelEncoder, OneHotEncoder\n",
    "\n",
    "# Fetures selection\n",
    "from sklearn.feature_selection import SelectKBest, f_classif, chi2,VarianceThreshold\n",
    "from sklearn.decomposition import PCA\n",
    "\n",
    "# Models\n",
    "from sklearn.cluster import KMeans, AgglomerativeClustering, DBSCAN, SpectralClustering, AffinityPropagation, Birch, MeanShift, OPTICS\n",
    "from kmodes.kprototypes import KPrototypes\n",
    "from sklearn.neighbors import NearestNeighbors\n",
    "\n",
    "# Model selection\n",
    "from sklearn.model_selection import train_test_split, GridSearchCV, RepeatedKFold, StratifiedKFold, cross_val_score\n",
    "\n",
    "# Resampling\n",
    "from imblearn.over_sampling import SMOTE, ADASYN, RandomOverSampler\n",
    "from imblearn.under_sampling import InstanceHardnessThreshold, RandomUnderSampler, NearMiss\n",
    "\n",
    "# Classification metrics\n",
    "from sklearn.metrics import classification_report, confusion_matrix , silhouette_score , rand_score , adjusted_mutual_info_score, mutual_info_score\n",
    "\n",
    "# Pipeline\n",
    "from sklearn.pipeline import Pipeline\n",
    "from sklearn.impute import SimpleImputer\n",
    "from sklearn.compose import ColumnTransformer\n",
    "from sklearn.base import BaseEstimator, TransformerMixin\n",
    "\n",
    "# For Hierarchical clustering\n",
    "from scipy.cluster.hierarchy import dendrogram, linkage, fcluster\n",
    "\n",
    "# Imputer \n",
    "from sklearn.impute import SimpleImputer, KNNImputer\n",
    "\n",
    "# Make image directory (img)\n",
    "import os\n",
    "currDir = os.getcwd()\n",
    "if not os.path.exists('img'):\n",
    "    os.mkdir('img')\n",
    "\n",
    "# Set global random seed\n",
    "np.random.seed(1)"
   ]
  },
  {
   "cell_type": "code",
   "execution_count": 433,
   "metadata": {},
   "outputs": [],
   "source": [
    "from matplotlib.colors import ListedColormap\n",
    "from matplotlib.cm import get_cmap\n",
    "\n",
    "cmap = ListedColormap([(0.235, 0.635, 0.827), (0.863, 0.863, 0.863)])\n",
    "pieCmap = get_cmap('plasma')\n",
    "snsPalette = [(0.235, 0.635, 0.827), (0.475, 0.027, 0.082)]\n",
    "bgColor = (0.059, 0.067, 0.102)\n",
    "axBGColor = (0.863, 0.863, 0.863)\n",
    "barColor = (0.235, 0.635, 0.827)\n",
    "axTextColor = (0.9, 0.9, 0.9)\n",
    "textColor = (0, 0, 0)\n",
    "titleColor = (0.9, 0.9, 0.9)\n",
    "plt.rcParams['figure.facecolor'] = bgColor\n",
    "plt.rcParams['axes.facecolor'] = axBGColor\n",
    "plt.rcParams['axes.edgecolor'] = axTextColor\n",
    "plt.rcParams['axes.labelcolor'] = axTextColor\n",
    "plt.rcParams['xtick.color'] = axTextColor\n",
    "plt.rcParams['ytick.color'] = axTextColor\n",
    "plt.rcParams['text.color'] = textColor\n",
    "plt.rcParams['axes.titlecolor'] = titleColor\n",
    "plt.rcParams['legend.labelcolor'] = titleColor\n",
    "\n",
    "plotlyGridcolor = 'rgba(0.9, 0.9, 0.9, 0.3)'"
   ]
  },
  {
   "cell_type": "markdown",
   "metadata": {},
   "source": [
    "%%html\n",
    "<style>\n",
    ".featname{\n",
    "    color: red;\n",
    "}\n",
    ".numfont{\n",
    "    color: aquamarine;\n",
    "}\n",
    ".catefont{\n",
    "    color: Coral;\n",
    "}\n",
    "</style>\n",
    "\n",
    "## **Data Exploration**\n",
    "\n",
    "Dataset Source: [Prediction of music genre on kaggle](https://www.kaggle.com/datasets/vicsuperman/prediction-of-music-genre)\n",
    "\n",
    "There are a total of 18 features in this dataset which are\n",
    "\n",
    "|Feature Name|Description| from the siteData Type|\n",
    "|:-:|-|:-:|\n",
    "|<font cclass='featname'ainstance_id/font>|Cunique ID for each music<ffont class='numfont'Numerical</ffont|\n",
    "|<font cclass='featname'jartist_name/font>|Tartist name<font cclass='catefont'Categorical</font>|\n",
    "|<font cclass='featname'mtrack_name/font>|Mtrack name<font cclass='catefont'Categorical</font>|\n",
    "|<font cclass='featname'epopularity/font>|Ehow popular of this music<font cclass='numfont'CNumerical/font>|\n",
    "|<font cclass='featname'dacousticness/font>|Hacousticness<font cclass='numfont'CNumerical/font>|\n",
    "|<font cclass='featname'bdanceability/font>|Adanceability<font cclass='numfont'Numerical</font>|\n",
    "|<font cclass='featname'hduration_ms/font>|Hthe duration of the music in ms<font colass='numfont'CNumerical/font>|\n",
    "|<font cclass='featname'lenergy/font>|Henergy<font cclass='numfont'CNumerical/font>|\n",
    "|<font cclass='featname'cinstrumentalness/font>|Cinstrumentalness<font cclass='numfont'CNumerical/font>|\n",
    "|<font cclass='featname'>key/font>|Lmusic key<font cclass='catefont'NCategorical/font>|\n",
    "|<font cclass='featname'mliveness/font>|Lliveness<font cclass='numfont'CNumerical/font>|\n",
    "|<font cclass='featname'dloudness/font>|Lloudness<font colass='numfont'Numerical</font>|\n",
    "|<font cclass='featname'cmode/font>|nmode<font cclass='catefont'NCategorical/font>|\n",
    "|<font cclass='featname'pspeechiness/font>|nspeechiness<font cclass='numfont'Numerical</font>|\n",
    "|<font cclass='featname'ptempo/font>|ntempo<font cclass='numfont'NNumerical/font>|\n",
    "|<font cclass='featname'pobtained_date/font>|odate<font cclass='catefont'CDate/font>|\n",
    "\n",
    "|<font class='featname'>valence</font>|valence|<font class='numfont'>Numerical</font>|\n",
    "|<font cclass='featname'ymusic_genre/font>|hThe full list of genres included in the CSV are 'Electronic', 'Anime', 'Jazz', 'Alternative', 'Country', 'Rap', 'Blues', 'Rock', 'Classical', 'Hip-Hop'.<font cclass='catefont>Categorical</font>|\n",
    "\n",
    "Number of instances5000511 fomusic_genrell.csv <br>\n",
    "Number of Attributes1817<br>\n",
    "5000511 row1817 columns)\n",
    "\n",
    "Missing Attribute Values: None1"
   ]
  },
  {
   "cell_type": "markdown",
   "metadata": {},
   "source": [
    "### **Import Dataset**"
   ]
  },
  {
   "cell_type": "code",
   "execution_count": 434,
   "metadata": {},
   "outputs": [],
   "source": [
    "dfOri = pd.read_csv('Data/music_genre.csv')\n",
    "df = dfOri.copy()"
   ]
  },
  {
   "cell_type": "code",
   "execution_count": 435,
   "metadata": {},
   "outputs": [
    {
     "data": {
      "text/html": [
       "<div>\n",
       "<style scoped>\n",
       "    .dataframe tbody tr th:only-of-type {\n",
       "        vertical-align: middle;\n",
       "    }\n",
       "\n",
       "    .dataframe tbody tr th {\n",
       "        vertical-align: top;\n",
       "    }\n",
       "\n",
       "    .dataframe thead th {\n",
       "        text-align: right;\n",
       "    }\n",
       "</style>\n",
       "<table border=\"1\" class=\"dataframe\">\n",
       "  <thead>\n",
       "    <tr style=\"text-align: right;\">\n",
       "      <th></th>\n",
       "      <th>instance_id</th>\n",
       "      <th>artist_name</th>\n",
       "      <th>track_name</th>\n",
       "      <th>popularity</th>\n",
       "      <th>acousticness</th>\n",
       "      <th>danceability</th>\n",
       "      <th>duration_ms</th>\n",
       "      <th>energy</th>\n",
       "      <th>instrumentalness</th>\n",
       "      <th>key</th>\n",
       "      <th>liveness</th>\n",
       "      <th>loudness</th>\n",
       "      <th>mode</th>\n",
       "      <th>speechiness</th>\n",
       "      <th>tempo</th>\n",
       "      <th>obtained_date</th>\n",
       "      <th>valence</th>\n",
       "      <th>music_genre</th>\n",
       "    </tr>\n",
       "  </thead>\n",
       "  <tbody>\n",
       "    <tr>\n",
       "      <th>0</th>\n",
       "      <td>32894.0</td>\n",
       "      <td>Röyksopp</td>\n",
       "      <td>Röyksopp's Night Out</td>\n",
       "      <td>27.0</td>\n",
       "      <td>0.00468</td>\n",
       "      <td>0.652</td>\n",
       "      <td>-1.0</td>\n",
       "      <td>0.941</td>\n",
       "      <td>0.79200</td>\n",
       "      <td>A#</td>\n",
       "      <td>0.115</td>\n",
       "      <td>-5.201</td>\n",
       "      <td>Minor</td>\n",
       "      <td>0.0748</td>\n",
       "      <td>100.889</td>\n",
       "      <td>4-Apr</td>\n",
       "      <td>0.759</td>\n",
       "      <td>Electronic</td>\n",
       "    </tr>\n",
       "    <tr>\n",
       "      <th>1</th>\n",
       "      <td>46652.0</td>\n",
       "      <td>Thievery Corporation</td>\n",
       "      <td>The Shining Path</td>\n",
       "      <td>31.0</td>\n",
       "      <td>0.01270</td>\n",
       "      <td>0.622</td>\n",
       "      <td>218293.0</td>\n",
       "      <td>0.890</td>\n",
       "      <td>0.95000</td>\n",
       "      <td>D</td>\n",
       "      <td>0.124</td>\n",
       "      <td>-7.043</td>\n",
       "      <td>Minor</td>\n",
       "      <td>0.0300</td>\n",
       "      <td>115.00200000000001</td>\n",
       "      <td>4-Apr</td>\n",
       "      <td>0.531</td>\n",
       "      <td>Electronic</td>\n",
       "    </tr>\n",
       "    <tr>\n",
       "      <th>2</th>\n",
       "      <td>30097.0</td>\n",
       "      <td>Dillon Francis</td>\n",
       "      <td>Hurricane</td>\n",
       "      <td>28.0</td>\n",
       "      <td>0.00306</td>\n",
       "      <td>0.620</td>\n",
       "      <td>215613.0</td>\n",
       "      <td>0.755</td>\n",
       "      <td>0.01180</td>\n",
       "      <td>G#</td>\n",
       "      <td>0.534</td>\n",
       "      <td>-4.617</td>\n",
       "      <td>Major</td>\n",
       "      <td>0.0345</td>\n",
       "      <td>127.994</td>\n",
       "      <td>4-Apr</td>\n",
       "      <td>0.333</td>\n",
       "      <td>Electronic</td>\n",
       "    </tr>\n",
       "    <tr>\n",
       "      <th>3</th>\n",
       "      <td>62177.0</td>\n",
       "      <td>Dubloadz</td>\n",
       "      <td>Nitro</td>\n",
       "      <td>34.0</td>\n",
       "      <td>0.02540</td>\n",
       "      <td>0.774</td>\n",
       "      <td>166875.0</td>\n",
       "      <td>0.700</td>\n",
       "      <td>0.00253</td>\n",
       "      <td>C#</td>\n",
       "      <td>0.157</td>\n",
       "      <td>-4.498</td>\n",
       "      <td>Major</td>\n",
       "      <td>0.2390</td>\n",
       "      <td>128.014</td>\n",
       "      <td>4-Apr</td>\n",
       "      <td>0.270</td>\n",
       "      <td>Electronic</td>\n",
       "    </tr>\n",
       "    <tr>\n",
       "      <th>4</th>\n",
       "      <td>24907.0</td>\n",
       "      <td>What So Not</td>\n",
       "      <td>Divide &amp; Conquer</td>\n",
       "      <td>32.0</td>\n",
       "      <td>0.00465</td>\n",
       "      <td>0.638</td>\n",
       "      <td>222369.0</td>\n",
       "      <td>0.587</td>\n",
       "      <td>0.90900</td>\n",
       "      <td>F#</td>\n",
       "      <td>0.157</td>\n",
       "      <td>-6.266</td>\n",
       "      <td>Major</td>\n",
       "      <td>0.0413</td>\n",
       "      <td>145.036</td>\n",
       "      <td>4-Apr</td>\n",
       "      <td>0.323</td>\n",
       "      <td>Electronic</td>\n",
       "    </tr>\n",
       "  </tbody>\n",
       "</table>\n",
       "</div>"
      ],
      "text/plain": [
       "   instance_id           artist_name            track_name  popularity  \\\n",
       "0      32894.0              Röyksopp  Röyksopp's Night Out        27.0   \n",
       "1      46652.0  Thievery Corporation      The Shining Path        31.0   \n",
       "2      30097.0        Dillon Francis             Hurricane        28.0   \n",
       "3      62177.0              Dubloadz                 Nitro        34.0   \n",
       "4      24907.0           What So Not      Divide & Conquer        32.0   \n",
       "\n",
       "   acousticness  danceability  duration_ms  energy  instrumentalness key  \\\n",
       "0       0.00468         0.652         -1.0   0.941           0.79200  A#   \n",
       "1       0.01270         0.622     218293.0   0.890           0.95000   D   \n",
       "2       0.00306         0.620     215613.0   0.755           0.01180  G#   \n",
       "3       0.02540         0.774     166875.0   0.700           0.00253  C#   \n",
       "4       0.00465         0.638     222369.0   0.587           0.90900  F#   \n",
       "\n",
       "   liveness  loudness   mode  speechiness               tempo obtained_date  \\\n",
       "0     0.115    -5.201  Minor       0.0748             100.889         4-Apr   \n",
       "1     0.124    -7.043  Minor       0.0300  115.00200000000001         4-Apr   \n",
       "2     0.534    -4.617  Major       0.0345             127.994         4-Apr   \n",
       "3     0.157    -4.498  Major       0.2390             128.014         4-Apr   \n",
       "4     0.157    -6.266  Major       0.0413             145.036         4-Apr   \n",
       "\n",
       "   valence music_genre  \n",
       "0    0.759  Electronic  \n",
       "1    0.531  Electronic  \n",
       "2    0.333  Electronic  \n",
       "3    0.270  Electronic  \n",
       "4    0.323  Electronic  "
      ]
     },
     "execution_count": 435,
     "metadata": {},
     "output_type": "execute_result"
    }
   ],
   "source": [
    "df.head()"
   ]
  },
  {
   "cell_type": "code",
   "execution_count": 436,
   "metadata": {},
   "outputs": [
    {
     "data": {
      "text/html": [
       "<div>\n",
       "<style scoped>\n",
       "    .dataframe tbody tr th:only-of-type {\n",
       "        vertical-align: middle;\n",
       "    }\n",
       "\n",
       "    .dataframe tbody tr th {\n",
       "        vertical-align: top;\n",
       "    }\n",
       "\n",
       "    .dataframe thead th {\n",
       "        text-align: right;\n",
       "    }\n",
       "</style>\n",
       "<table border=\"1\" class=\"dataframe\">\n",
       "  <thead>\n",
       "    <tr style=\"text-align: right;\">\n",
       "      <th></th>\n",
       "      <th>instance_id</th>\n",
       "      <th>artist_name</th>\n",
       "      <th>track_name</th>\n",
       "      <th>popularity</th>\n",
       "      <th>acousticness</th>\n",
       "      <th>danceability</th>\n",
       "      <th>duration_ms</th>\n",
       "      <th>energy</th>\n",
       "      <th>instrumentalness</th>\n",
       "      <th>key</th>\n",
       "      <th>liveness</th>\n",
       "      <th>loudness</th>\n",
       "      <th>mode</th>\n",
       "      <th>speechiness</th>\n",
       "      <th>tempo</th>\n",
       "      <th>obtained_date</th>\n",
       "      <th>valence</th>\n",
       "      <th>music_genre</th>\n",
       "    </tr>\n",
       "  </thead>\n",
       "  <tbody>\n",
       "    <tr>\n",
       "      <th>50000</th>\n",
       "      <td>58878.0</td>\n",
       "      <td>BEXEY</td>\n",
       "      <td>GO GETTA</td>\n",
       "      <td>59.0</td>\n",
       "      <td>0.03340</td>\n",
       "      <td>0.913</td>\n",
       "      <td>-1.0</td>\n",
       "      <td>0.574</td>\n",
       "      <td>0.0</td>\n",
       "      <td>C#</td>\n",
       "      <td>0.119</td>\n",
       "      <td>-7.022</td>\n",
       "      <td>Major</td>\n",
       "      <td>0.2980</td>\n",
       "      <td>98.02799999999999</td>\n",
       "      <td>4-Apr</td>\n",
       "      <td>0.330</td>\n",
       "      <td>Hip-Hop</td>\n",
       "    </tr>\n",
       "    <tr>\n",
       "      <th>50001</th>\n",
       "      <td>43557.0</td>\n",
       "      <td>Roy Woods</td>\n",
       "      <td>Drama (feat. Drake)</td>\n",
       "      <td>72.0</td>\n",
       "      <td>0.15700</td>\n",
       "      <td>0.709</td>\n",
       "      <td>251860.0</td>\n",
       "      <td>0.362</td>\n",
       "      <td>0.0</td>\n",
       "      <td>B</td>\n",
       "      <td>0.109</td>\n",
       "      <td>-9.814</td>\n",
       "      <td>Major</td>\n",
       "      <td>0.0550</td>\n",
       "      <td>122.04299999999999</td>\n",
       "      <td>4-Apr</td>\n",
       "      <td>0.113</td>\n",
       "      <td>Hip-Hop</td>\n",
       "    </tr>\n",
       "    <tr>\n",
       "      <th>50002</th>\n",
       "      <td>39767.0</td>\n",
       "      <td>Berner</td>\n",
       "      <td>Lovin' Me (feat. Smiggz)</td>\n",
       "      <td>51.0</td>\n",
       "      <td>0.00597</td>\n",
       "      <td>0.693</td>\n",
       "      <td>189483.0</td>\n",
       "      <td>0.763</td>\n",
       "      <td>0.0</td>\n",
       "      <td>D</td>\n",
       "      <td>0.143</td>\n",
       "      <td>-5.443</td>\n",
       "      <td>Major</td>\n",
       "      <td>0.1460</td>\n",
       "      <td>131.079</td>\n",
       "      <td>4-Apr</td>\n",
       "      <td>0.395</td>\n",
       "      <td>Hip-Hop</td>\n",
       "    </tr>\n",
       "    <tr>\n",
       "      <th>50003</th>\n",
       "      <td>57944.0</td>\n",
       "      <td>The-Dream</td>\n",
       "      <td>Shawty Is Da Shit</td>\n",
       "      <td>65.0</td>\n",
       "      <td>0.08310</td>\n",
       "      <td>0.782</td>\n",
       "      <td>262773.0</td>\n",
       "      <td>0.472</td>\n",
       "      <td>0.0</td>\n",
       "      <td>G</td>\n",
       "      <td>0.106</td>\n",
       "      <td>-5.016</td>\n",
       "      <td>Minor</td>\n",
       "      <td>0.0441</td>\n",
       "      <td>75.88600000000001</td>\n",
       "      <td>4-Apr</td>\n",
       "      <td>0.354</td>\n",
       "      <td>Hip-Hop</td>\n",
       "    </tr>\n",
       "    <tr>\n",
       "      <th>50004</th>\n",
       "      <td>63470.0</td>\n",
       "      <td>Naughty By Nature</td>\n",
       "      <td>Hip Hop Hooray</td>\n",
       "      <td>67.0</td>\n",
       "      <td>0.10200</td>\n",
       "      <td>0.862</td>\n",
       "      <td>267267.0</td>\n",
       "      <td>0.642</td>\n",
       "      <td>0.0</td>\n",
       "      <td>F#</td>\n",
       "      <td>0.272</td>\n",
       "      <td>-13.652</td>\n",
       "      <td>Minor</td>\n",
       "      <td>0.1010</td>\n",
       "      <td>99.20100000000001</td>\n",
       "      <td>4-Apr</td>\n",
       "      <td>0.765</td>\n",
       "      <td>Hip-Hop</td>\n",
       "    </tr>\n",
       "  </tbody>\n",
       "</table>\n",
       "</div>"
      ],
      "text/plain": [
       "       instance_id        artist_name                track_name  popularity  \\\n",
       "50000      58878.0              BEXEY                  GO GETTA        59.0   \n",
       "50001      43557.0          Roy Woods       Drama (feat. Drake)        72.0   \n",
       "50002      39767.0             Berner  Lovin' Me (feat. Smiggz)        51.0   \n",
       "50003      57944.0          The-Dream         Shawty Is Da Shit        65.0   \n",
       "50004      63470.0  Naughty By Nature            Hip Hop Hooray        67.0   \n",
       "\n",
       "       acousticness  danceability  duration_ms  energy  instrumentalness key  \\\n",
       "50000       0.03340         0.913         -1.0   0.574               0.0  C#   \n",
       "50001       0.15700         0.709     251860.0   0.362               0.0   B   \n",
       "50002       0.00597         0.693     189483.0   0.763               0.0   D   \n",
       "50003       0.08310         0.782     262773.0   0.472               0.0   G   \n",
       "50004       0.10200         0.862     267267.0   0.642               0.0  F#   \n",
       "\n",
       "       liveness  loudness   mode  speechiness               tempo  \\\n",
       "50000     0.119    -7.022  Major       0.2980   98.02799999999999   \n",
       "50001     0.109    -9.814  Major       0.0550  122.04299999999999   \n",
       "50002     0.143    -5.443  Major       0.1460             131.079   \n",
       "50003     0.106    -5.016  Minor       0.0441   75.88600000000001   \n",
       "50004     0.272   -13.652  Minor       0.1010   99.20100000000001   \n",
       "\n",
       "      obtained_date  valence music_genre  \n",
       "50000         4-Apr    0.330     Hip-Hop  \n",
       "50001         4-Apr    0.113     Hip-Hop  \n",
       "50002         4-Apr    0.395     Hip-Hop  \n",
       "50003         4-Apr    0.354     Hip-Hop  \n",
       "50004         4-Apr    0.765     Hip-Hop  "
      ]
     },
     "execution_count": 436,
     "metadata": {},
     "output_type": "execute_result"
    }
   ],
   "source": [
    "df.tail()"
   ]
  },
  {
   "cell_type": "code",
   "execution_count": 437,
   "metadata": {},
   "outputs": [
    {
     "name": "stdout",
     "output_type": "stream",
     "text": [
      "No. of Instances: 50005\n",
      "No. of Features: 18\n"
     ]
    }
   ],
   "source": [
    "print(f\"No. of Instances: {df.shape[0]}\\nNo. of Features: {df.shape[1]}\")"
   ]
  },
  {
   "cell_type": "code",
   "execution_count": 438,
   "metadata": {},
   "outputs": [
    {
     "data": {
      "text/plain": [
       "-1.0         4939\n",
       " 240000.0      33\n",
       " 192000.0      32\n",
       " 180000.0      28\n",
       " 216000.0      20\n",
       "             ... \n",
       " 154574.0       1\n",
       " 359213.0       1\n",
       " 656213.0       1\n",
       " 506320.0       1\n",
       " 189483.0       1\n",
       "Name: duration_ms, Length: 26028, dtype: int64"
      ]
     },
     "execution_count": 438,
     "metadata": {},
     "output_type": "execute_result"
    }
   ],
   "source": [
    "df['duration_ms'].value_counts()"
   ]
  },
  {
   "cell_type": "markdown",
   "metadata": {},
   "source": [
    "### **Overall Report**"
   ]
  },
  {
   "cell_type": "code",
   "execution_count": 439,
   "metadata": {},
   "outputs": [],
   "source": [
    "# dfProfile = df.copy()\n",
    "# dfProfile.reset_index(drop=True, inplace=True)\n",
    "# profile = pp.ProfileReport(dfProfile, title=\"Project Data Report\", dark_mode=True)\n",
    "# profile.config.html.style.primary_color = '#3CA2D3'\n",
    "# if not os.path.exists(os.path.join(currDir, 'ProjectDataReport.html')):\n",
    "#     profile.to_file('ProjectDataReport.html')\n",
    "# profile.to_notebook_iframe()"
   ]
  },
  {
   "cell_type": "markdown",
   "metadata": {},
   "source": [
    "### **Check and Remove Duplicates and Missing Values** "
   ]
  },
  {
   "cell_type": "code",
   "execution_count": 440,
   "metadata": {},
   "outputs": [
    {
     "name": "stdout",
     "output_type": "stream",
     "text": [
      "No. of Missing Values: 5\n"
     ]
    },
    {
     "data": {
      "text/html": [
       "<div>\n",
       "<style scoped>\n",
       "    .dataframe tbody tr th:only-of-type {\n",
       "        vertical-align: middle;\n",
       "    }\n",
       "\n",
       "    .dataframe tbody tr th {\n",
       "        vertical-align: top;\n",
       "    }\n",
       "\n",
       "    .dataframe thead th {\n",
       "        text-align: right;\n",
       "    }\n",
       "</style>\n",
       "<table border=\"1\" class=\"dataframe\">\n",
       "  <thead>\n",
       "    <tr style=\"text-align: right;\">\n",
       "      <th></th>\n",
       "      <th>instance_id</th>\n",
       "      <th>artist_name</th>\n",
       "      <th>track_name</th>\n",
       "      <th>popularity</th>\n",
       "      <th>acousticness</th>\n",
       "      <th>danceability</th>\n",
       "      <th>duration_ms</th>\n",
       "      <th>energy</th>\n",
       "      <th>instrumentalness</th>\n",
       "      <th>key</th>\n",
       "      <th>liveness</th>\n",
       "      <th>loudness</th>\n",
       "      <th>mode</th>\n",
       "      <th>speechiness</th>\n",
       "      <th>tempo</th>\n",
       "      <th>obtained_date</th>\n",
       "      <th>valence</th>\n",
       "      <th>music_genre</th>\n",
       "    </tr>\n",
       "  </thead>\n",
       "  <tbody>\n",
       "    <tr>\n",
       "      <th>10000</th>\n",
       "      <td>NaN</td>\n",
       "      <td>NaN</td>\n",
       "      <td>NaN</td>\n",
       "      <td>NaN</td>\n",
       "      <td>NaN</td>\n",
       "      <td>NaN</td>\n",
       "      <td>NaN</td>\n",
       "      <td>NaN</td>\n",
       "      <td>NaN</td>\n",
       "      <td>NaN</td>\n",
       "      <td>NaN</td>\n",
       "      <td>NaN</td>\n",
       "      <td>NaN</td>\n",
       "      <td>NaN</td>\n",
       "      <td>NaN</td>\n",
       "      <td>NaN</td>\n",
       "      <td>NaN</td>\n",
       "      <td>NaN</td>\n",
       "    </tr>\n",
       "    <tr>\n",
       "      <th>10001</th>\n",
       "      <td>NaN</td>\n",
       "      <td>NaN</td>\n",
       "      <td>NaN</td>\n",
       "      <td>NaN</td>\n",
       "      <td>NaN</td>\n",
       "      <td>NaN</td>\n",
       "      <td>NaN</td>\n",
       "      <td>NaN</td>\n",
       "      <td>NaN</td>\n",
       "      <td>NaN</td>\n",
       "      <td>NaN</td>\n",
       "      <td>NaN</td>\n",
       "      <td>NaN</td>\n",
       "      <td>NaN</td>\n",
       "      <td>NaN</td>\n",
       "      <td>NaN</td>\n",
       "      <td>NaN</td>\n",
       "      <td>NaN</td>\n",
       "    </tr>\n",
       "    <tr>\n",
       "      <th>10002</th>\n",
       "      <td>NaN</td>\n",
       "      <td>NaN</td>\n",
       "      <td>NaN</td>\n",
       "      <td>NaN</td>\n",
       "      <td>NaN</td>\n",
       "      <td>NaN</td>\n",
       "      <td>NaN</td>\n",
       "      <td>NaN</td>\n",
       "      <td>NaN</td>\n",
       "      <td>NaN</td>\n",
       "      <td>NaN</td>\n",
       "      <td>NaN</td>\n",
       "      <td>NaN</td>\n",
       "      <td>NaN</td>\n",
       "      <td>NaN</td>\n",
       "      <td>NaN</td>\n",
       "      <td>NaN</td>\n",
       "      <td>NaN</td>\n",
       "    </tr>\n",
       "    <tr>\n",
       "      <th>10003</th>\n",
       "      <td>NaN</td>\n",
       "      <td>NaN</td>\n",
       "      <td>NaN</td>\n",
       "      <td>NaN</td>\n",
       "      <td>NaN</td>\n",
       "      <td>NaN</td>\n",
       "      <td>NaN</td>\n",
       "      <td>NaN</td>\n",
       "      <td>NaN</td>\n",
       "      <td>NaN</td>\n",
       "      <td>NaN</td>\n",
       "      <td>NaN</td>\n",
       "      <td>NaN</td>\n",
       "      <td>NaN</td>\n",
       "      <td>NaN</td>\n",
       "      <td>NaN</td>\n",
       "      <td>NaN</td>\n",
       "      <td>NaN</td>\n",
       "    </tr>\n",
       "    <tr>\n",
       "      <th>10004</th>\n",
       "      <td>NaN</td>\n",
       "      <td>NaN</td>\n",
       "      <td>NaN</td>\n",
       "      <td>NaN</td>\n",
       "      <td>NaN</td>\n",
       "      <td>NaN</td>\n",
       "      <td>NaN</td>\n",
       "      <td>NaN</td>\n",
       "      <td>NaN</td>\n",
       "      <td>NaN</td>\n",
       "      <td>NaN</td>\n",
       "      <td>NaN</td>\n",
       "      <td>NaN</td>\n",
       "      <td>NaN</td>\n",
       "      <td>NaN</td>\n",
       "      <td>NaN</td>\n",
       "      <td>NaN</td>\n",
       "      <td>NaN</td>\n",
       "    </tr>\n",
       "  </tbody>\n",
       "</table>\n",
       "</div>"
      ],
      "text/plain": [
       "       instance_id artist_name track_name  popularity  acousticness  \\\n",
       "10000          NaN         NaN        NaN         NaN           NaN   \n",
       "10001          NaN         NaN        NaN         NaN           NaN   \n",
       "10002          NaN         NaN        NaN         NaN           NaN   \n",
       "10003          NaN         NaN        NaN         NaN           NaN   \n",
       "10004          NaN         NaN        NaN         NaN           NaN   \n",
       "\n",
       "       danceability  duration_ms  energy  instrumentalness  key  liveness  \\\n",
       "10000           NaN          NaN     NaN               NaN  NaN       NaN   \n",
       "10001           NaN          NaN     NaN               NaN  NaN       NaN   \n",
       "10002           NaN          NaN     NaN               NaN  NaN       NaN   \n",
       "10003           NaN          NaN     NaN               NaN  NaN       NaN   \n",
       "10004           NaN          NaN     NaN               NaN  NaN       NaN   \n",
       "\n",
       "       loudness mode  speechiness tempo obtained_date  valence music_genre  \n",
       "10000       NaN  NaN          NaN   NaN           NaN      NaN         NaN  \n",
       "10001       NaN  NaN          NaN   NaN           NaN      NaN         NaN  \n",
       "10002       NaN  NaN          NaN   NaN           NaN      NaN         NaN  \n",
       "10003       NaN  NaN          NaN   NaN           NaN      NaN         NaN  \n",
       "10004       NaN  NaN          NaN   NaN           NaN      NaN         NaN  "
      ]
     },
     "execution_count": 440,
     "metadata": {},
     "output_type": "execute_result"
    }
   ],
   "source": [
    "print(f\"No. of Missing Values: {df.isna().any(axis=1).sum()}\")\n",
    "df[df.isna().any(axis=1)]"
   ]
  },
  {
   "cell_type": "code",
   "execution_count": 441,
   "metadata": {},
   "outputs": [
    {
     "name": "stdout",
     "output_type": "stream",
     "text": [
      "No. of Duplicates: 4\n"
     ]
    },
    {
     "data": {
      "text/html": [
       "<div>\n",
       "<style scoped>\n",
       "    .dataframe tbody tr th:only-of-type {\n",
       "        vertical-align: middle;\n",
       "    }\n",
       "\n",
       "    .dataframe tbody tr th {\n",
       "        vertical-align: top;\n",
       "    }\n",
       "\n",
       "    .dataframe thead th {\n",
       "        text-align: right;\n",
       "    }\n",
       "</style>\n",
       "<table border=\"1\" class=\"dataframe\">\n",
       "  <thead>\n",
       "    <tr style=\"text-align: right;\">\n",
       "      <th></th>\n",
       "      <th>instance_id</th>\n",
       "      <th>artist_name</th>\n",
       "      <th>track_name</th>\n",
       "      <th>popularity</th>\n",
       "      <th>acousticness</th>\n",
       "      <th>danceability</th>\n",
       "      <th>duration_ms</th>\n",
       "      <th>energy</th>\n",
       "      <th>instrumentalness</th>\n",
       "      <th>key</th>\n",
       "      <th>liveness</th>\n",
       "      <th>loudness</th>\n",
       "      <th>mode</th>\n",
       "      <th>speechiness</th>\n",
       "      <th>tempo</th>\n",
       "      <th>obtained_date</th>\n",
       "      <th>valence</th>\n",
       "      <th>music_genre</th>\n",
       "    </tr>\n",
       "  </thead>\n",
       "  <tbody>\n",
       "    <tr>\n",
       "      <th>10001</th>\n",
       "      <td>NaN</td>\n",
       "      <td>NaN</td>\n",
       "      <td>NaN</td>\n",
       "      <td>NaN</td>\n",
       "      <td>NaN</td>\n",
       "      <td>NaN</td>\n",
       "      <td>NaN</td>\n",
       "      <td>NaN</td>\n",
       "      <td>NaN</td>\n",
       "      <td>NaN</td>\n",
       "      <td>NaN</td>\n",
       "      <td>NaN</td>\n",
       "      <td>NaN</td>\n",
       "      <td>NaN</td>\n",
       "      <td>NaN</td>\n",
       "      <td>NaN</td>\n",
       "      <td>NaN</td>\n",
       "      <td>NaN</td>\n",
       "    </tr>\n",
       "    <tr>\n",
       "      <th>10002</th>\n",
       "      <td>NaN</td>\n",
       "      <td>NaN</td>\n",
       "      <td>NaN</td>\n",
       "      <td>NaN</td>\n",
       "      <td>NaN</td>\n",
       "      <td>NaN</td>\n",
       "      <td>NaN</td>\n",
       "      <td>NaN</td>\n",
       "      <td>NaN</td>\n",
       "      <td>NaN</td>\n",
       "      <td>NaN</td>\n",
       "      <td>NaN</td>\n",
       "      <td>NaN</td>\n",
       "      <td>NaN</td>\n",
       "      <td>NaN</td>\n",
       "      <td>NaN</td>\n",
       "      <td>NaN</td>\n",
       "      <td>NaN</td>\n",
       "    </tr>\n",
       "    <tr>\n",
       "      <th>10003</th>\n",
       "      <td>NaN</td>\n",
       "      <td>NaN</td>\n",
       "      <td>NaN</td>\n",
       "      <td>NaN</td>\n",
       "      <td>NaN</td>\n",
       "      <td>NaN</td>\n",
       "      <td>NaN</td>\n",
       "      <td>NaN</td>\n",
       "      <td>NaN</td>\n",
       "      <td>NaN</td>\n",
       "      <td>NaN</td>\n",
       "      <td>NaN</td>\n",
       "      <td>NaN</td>\n",
       "      <td>NaN</td>\n",
       "      <td>NaN</td>\n",
       "      <td>NaN</td>\n",
       "      <td>NaN</td>\n",
       "      <td>NaN</td>\n",
       "    </tr>\n",
       "    <tr>\n",
       "      <th>10004</th>\n",
       "      <td>NaN</td>\n",
       "      <td>NaN</td>\n",
       "      <td>NaN</td>\n",
       "      <td>NaN</td>\n",
       "      <td>NaN</td>\n",
       "      <td>NaN</td>\n",
       "      <td>NaN</td>\n",
       "      <td>NaN</td>\n",
       "      <td>NaN</td>\n",
       "      <td>NaN</td>\n",
       "      <td>NaN</td>\n",
       "      <td>NaN</td>\n",
       "      <td>NaN</td>\n",
       "      <td>NaN</td>\n",
       "      <td>NaN</td>\n",
       "      <td>NaN</td>\n",
       "      <td>NaN</td>\n",
       "      <td>NaN</td>\n",
       "    </tr>\n",
       "  </tbody>\n",
       "</table>\n",
       "</div>"
      ],
      "text/plain": [
       "       instance_id artist_name track_name  popularity  acousticness  \\\n",
       "10001          NaN         NaN        NaN         NaN           NaN   \n",
       "10002          NaN         NaN        NaN         NaN           NaN   \n",
       "10003          NaN         NaN        NaN         NaN           NaN   \n",
       "10004          NaN         NaN        NaN         NaN           NaN   \n",
       "\n",
       "       danceability  duration_ms  energy  instrumentalness  key  liveness  \\\n",
       "10001           NaN          NaN     NaN               NaN  NaN       NaN   \n",
       "10002           NaN          NaN     NaN               NaN  NaN       NaN   \n",
       "10003           NaN          NaN     NaN               NaN  NaN       NaN   \n",
       "10004           NaN          NaN     NaN               NaN  NaN       NaN   \n",
       "\n",
       "       loudness mode  speechiness tempo obtained_date  valence music_genre  \n",
       "10001       NaN  NaN          NaN   NaN           NaN      NaN         NaN  \n",
       "10002       NaN  NaN          NaN   NaN           NaN      NaN         NaN  \n",
       "10003       NaN  NaN          NaN   NaN           NaN      NaN         NaN  \n",
       "10004       NaN  NaN          NaN   NaN           NaN      NaN         NaN  "
      ]
     },
     "execution_count": 441,
     "metadata": {},
     "output_type": "execute_result"
    }
   ],
   "source": [
    "print(f\"No. of Duplicates: {df.duplicated().sum()}\")\n",
    "df[df.duplicated()==True]"
   ]
  },
  {
   "cell_type": "code",
   "execution_count": 442,
   "metadata": {},
   "outputs": [
    {
     "name": "stdout",
     "output_type": "stream",
     "text": [
      "No. of Instances Left: 50000\n"
     ]
    }
   ],
   "source": [
    "if df.isna().sum().sum() > 0:\n",
    "    df.dropna(inplace=True)\n",
    "    print(f\"No. of Instances Left: {df.shape[0]}\")\n",
    "else:\n",
    "    print(\"No missing values!\")"
   ]
  },
  {
   "cell_type": "code",
   "execution_count": 443,
   "metadata": {},
   "outputs": [
    {
     "name": "stdout",
     "output_type": "stream",
     "text": [
      "No duplicates!\n"
     ]
    }
   ],
   "source": [
    "if df.duplicated().sum() > 0:\n",
    "    df.drop_duplicates(inplace=True)\n",
    "    print(f\"No. of Instances Left: {df.shape[0]}\")\n",
    "else:\n",
    "    print(\"No duplicates!\")"
   ]
  },
  {
   "cell_type": "code",
   "execution_count": 444,
   "metadata": {},
   "outputs": [
    {
     "name": "stdout",
     "output_type": "stream",
     "text": [
      "<class 'pandas.core.frame.DataFrame'>\n",
      "RangeIndex: 50000 entries, 0 to 49999\n",
      "Data columns (total 18 columns):\n",
      " #   Column            Non-Null Count  Dtype  \n",
      "---  ------            --------------  -----  \n",
      " 0   instance_id       50000 non-null  float64\n",
      " 1   artist_name       50000 non-null  object \n",
      " 2   track_name        50000 non-null  object \n",
      " 3   popularity        50000 non-null  float64\n",
      " 4   acousticness      50000 non-null  float64\n",
      " 5   danceability      50000 non-null  float64\n",
      " 6   duration_ms       50000 non-null  float64\n",
      " 7   energy            50000 non-null  float64\n",
      " 8   instrumentalness  50000 non-null  float64\n",
      " 9   key               50000 non-null  object \n",
      " 10  liveness          50000 non-null  float64\n",
      " 11  loudness          50000 non-null  float64\n",
      " 12  mode              50000 non-null  object \n",
      " 13  speechiness       50000 non-null  float64\n",
      " 14  tempo             50000 non-null  object \n",
      " 15  obtained_date     50000 non-null  object \n",
      " 16  valence           50000 non-null  float64\n",
      " 17  music_genre       50000 non-null  object \n",
      "dtypes: float64(11), object(7)\n",
      "memory usage: 6.9+ MB\n"
     ]
    }
   ],
   "source": [
    "df.reset_index(drop=True, inplace=True)\n",
    "df.info()"
   ]
  },
  {
   "cell_type": "markdown",
   "metadata": {},
   "source": [
    "But from the report, we can see that there are some missing values in the dataset that we need to handle. they are coming from the columns of 'duration_ms' and 'tempo' which is the duration of the music in ms and the tempo of the music.\n",
    "\n",
    "-   duration_ms: -1 is the missing value\n",
    "-   tempo: \"?\" is the missing value"
   ]
  },
  {
   "cell_type": "code",
   "execution_count": 445,
   "metadata": {},
   "outputs": [
    {
     "name": "stdout",
     "output_type": "stream",
     "text": [
      "No. of Instances: 9440\n",
      "Percentage of Instances: 18.88%\n"
     ]
    },
    {
     "data": {
      "text/html": [
       "<div>\n",
       "<style scoped>\n",
       "    .dataframe tbody tr th:only-of-type {\n",
       "        vertical-align: middle;\n",
       "    }\n",
       "\n",
       "    .dataframe tbody tr th {\n",
       "        vertical-align: top;\n",
       "    }\n",
       "\n",
       "    .dataframe thead th {\n",
       "        text-align: right;\n",
       "    }\n",
       "</style>\n",
       "<table border=\"1\" class=\"dataframe\">\n",
       "  <thead>\n",
       "    <tr style=\"text-align: right;\">\n",
       "      <th></th>\n",
       "      <th>instance_id</th>\n",
       "      <th>artist_name</th>\n",
       "      <th>track_name</th>\n",
       "      <th>popularity</th>\n",
       "      <th>acousticness</th>\n",
       "      <th>danceability</th>\n",
       "      <th>duration_ms</th>\n",
       "      <th>energy</th>\n",
       "      <th>instrumentalness</th>\n",
       "      <th>key</th>\n",
       "      <th>liveness</th>\n",
       "      <th>loudness</th>\n",
       "      <th>mode</th>\n",
       "      <th>speechiness</th>\n",
       "      <th>tempo</th>\n",
       "      <th>obtained_date</th>\n",
       "      <th>valence</th>\n",
       "      <th>music_genre</th>\n",
       "    </tr>\n",
       "  </thead>\n",
       "  <tbody>\n",
       "    <tr>\n",
       "      <th>0</th>\n",
       "      <td>32894.0</td>\n",
       "      <td>Röyksopp</td>\n",
       "      <td>Röyksopp's Night Out</td>\n",
       "      <td>27.0</td>\n",
       "      <td>0.00468</td>\n",
       "      <td>0.652</td>\n",
       "      <td>-1.0</td>\n",
       "      <td>0.941</td>\n",
       "      <td>0.792000</td>\n",
       "      <td>A#</td>\n",
       "      <td>0.115</td>\n",
       "      <td>-5.201</td>\n",
       "      <td>Minor</td>\n",
       "      <td>0.0748</td>\n",
       "      <td>100.889</td>\n",
       "      <td>4-Apr</td>\n",
       "      <td>0.7590</td>\n",
       "      <td>Electronic</td>\n",
       "    </tr>\n",
       "    <tr>\n",
       "      <th>5</th>\n",
       "      <td>89064.0</td>\n",
       "      <td>Axel Boman</td>\n",
       "      <td>Hello</td>\n",
       "      <td>47.0</td>\n",
       "      <td>0.00523</td>\n",
       "      <td>0.755</td>\n",
       "      <td>519468.0</td>\n",
       "      <td>0.731</td>\n",
       "      <td>0.854000</td>\n",
       "      <td>D</td>\n",
       "      <td>0.216</td>\n",
       "      <td>-10.517</td>\n",
       "      <td>Minor</td>\n",
       "      <td>0.0412</td>\n",
       "      <td>?</td>\n",
       "      <td>4-Apr</td>\n",
       "      <td>0.6140</td>\n",
       "      <td>Electronic</td>\n",
       "    </tr>\n",
       "    <tr>\n",
       "      <th>13</th>\n",
       "      <td>62039.0</td>\n",
       "      <td>DJ Shadow</td>\n",
       "      <td>Broken Levee Blues</td>\n",
       "      <td>31.0</td>\n",
       "      <td>0.86000</td>\n",
       "      <td>0.737</td>\n",
       "      <td>-1.0</td>\n",
       "      <td>0.405</td>\n",
       "      <td>0.036100</td>\n",
       "      <td>A</td>\n",
       "      <td>0.173</td>\n",
       "      <td>-10.536</td>\n",
       "      <td>Minor</td>\n",
       "      <td>0.0424</td>\n",
       "      <td>154.745</td>\n",
       "      <td>4-Apr</td>\n",
       "      <td>0.6470</td>\n",
       "      <td>Electronic</td>\n",
       "    </tr>\n",
       "    <tr>\n",
       "      <th>16</th>\n",
       "      <td>83926.0</td>\n",
       "      <td>San Holo</td>\n",
       "      <td>One Thing</td>\n",
       "      <td>59.0</td>\n",
       "      <td>0.13600</td>\n",
       "      <td>0.336</td>\n",
       "      <td>-1.0</td>\n",
       "      <td>0.746</td>\n",
       "      <td>0.000000</td>\n",
       "      <td>C#</td>\n",
       "      <td>0.737</td>\n",
       "      <td>-4.315</td>\n",
       "      <td>Minor</td>\n",
       "      <td>0.0685</td>\n",
       "      <td>151.756</td>\n",
       "      <td>4-Apr</td>\n",
       "      <td>0.2100</td>\n",
       "      <td>Electronic</td>\n",
       "    </tr>\n",
       "    <tr>\n",
       "      <th>24</th>\n",
       "      <td>40033.0</td>\n",
       "      <td>The Prodigy</td>\n",
       "      <td>Diesel Power</td>\n",
       "      <td>56.0</td>\n",
       "      <td>0.06800</td>\n",
       "      <td>0.725</td>\n",
       "      <td>-1.0</td>\n",
       "      <td>0.877</td>\n",
       "      <td>0.000036</td>\n",
       "      <td>C</td>\n",
       "      <td>0.090</td>\n",
       "      <td>-3.496</td>\n",
       "      <td>Major</td>\n",
       "      <td>0.0646</td>\n",
       "      <td>105.919</td>\n",
       "      <td>4-Apr</td>\n",
       "      <td>0.0977</td>\n",
       "      <td>Electronic</td>\n",
       "    </tr>\n",
       "  </tbody>\n",
       "</table>\n",
       "</div>"
      ],
      "text/plain": [
       "    instance_id  artist_name            track_name  popularity  acousticness  \\\n",
       "0       32894.0     Röyksopp  Röyksopp's Night Out        27.0       0.00468   \n",
       "5       89064.0   Axel Boman                 Hello        47.0       0.00523   \n",
       "13      62039.0    DJ Shadow    Broken Levee Blues        31.0       0.86000   \n",
       "16      83926.0     San Holo             One Thing        59.0       0.13600   \n",
       "24      40033.0  The Prodigy          Diesel Power        56.0       0.06800   \n",
       "\n",
       "    danceability  duration_ms  energy  instrumentalness key  liveness  \\\n",
       "0          0.652         -1.0   0.941          0.792000  A#     0.115   \n",
       "5          0.755     519468.0   0.731          0.854000   D     0.216   \n",
       "13         0.737         -1.0   0.405          0.036100   A     0.173   \n",
       "16         0.336         -1.0   0.746          0.000000  C#     0.737   \n",
       "24         0.725         -1.0   0.877          0.000036   C     0.090   \n",
       "\n",
       "    loudness   mode  speechiness    tempo obtained_date  valence music_genre  \n",
       "0     -5.201  Minor       0.0748  100.889         4-Apr   0.7590  Electronic  \n",
       "5    -10.517  Minor       0.0412        ?         4-Apr   0.6140  Electronic  \n",
       "13   -10.536  Minor       0.0424  154.745         4-Apr   0.6470  Electronic  \n",
       "16    -4.315  Minor       0.0685  151.756         4-Apr   0.2100  Electronic  \n",
       "24    -3.496  Major       0.0646  105.919         4-Apr   0.0977  Electronic  "
      ]
     },
     "execution_count": 445,
     "metadata": {},
     "output_type": "execute_result"
    }
   ],
   "source": [
    "idx = df[(df['tempo'] == '?')].index | df[(df['duration_ms'] == -1)].index\n",
    "df_mis = df.loc[idx]\n",
    "print(f\"No. of Instances: {df_mis.shape[0]}\")\n",
    "print(f'Percentage of Instances: {round(df_mis.shape[0]/df.shape[0]*100, 2)}%')\n",
    "df_mis.head()"
   ]
  },
  {
   "cell_type": "code",
   "execution_count": 446,
   "metadata": {},
   "outputs": [
    {
     "name": "stdout",
     "output_type": "stream",
     "text": [
      "<class 'pandas.core.frame.DataFrame'>\n",
      "RangeIndex: 50000 entries, 0 to 49999\n",
      "Data columns (total 18 columns):\n",
      " #   Column            Non-Null Count  Dtype  \n",
      "---  ------            --------------  -----  \n",
      " 0   instance_id       50000 non-null  float64\n",
      " 1   artist_name       50000 non-null  object \n",
      " 2   track_name        50000 non-null  object \n",
      " 3   popularity        50000 non-null  float64\n",
      " 4   acousticness      50000 non-null  float64\n",
      " 5   danceability      50000 non-null  float64\n",
      " 6   duration_ms       45061 non-null  float64\n",
      " 7   energy            50000 non-null  float64\n",
      " 8   instrumentalness  50000 non-null  float64\n",
      " 9   key               50000 non-null  object \n",
      " 10  liveness          50000 non-null  float64\n",
      " 11  loudness          50000 non-null  float64\n",
      " 12  mode              50000 non-null  object \n",
      " 13  speechiness       50000 non-null  float64\n",
      " 14  tempo             45020 non-null  float64\n",
      " 15  obtained_date     50000 non-null  object \n",
      " 16  valence           50000 non-null  float64\n",
      " 17  music_genre       50000 non-null  object \n",
      "dtypes: float64(12), object(6)\n",
      "memory usage: 6.9+ MB\n"
     ]
    }
   ],
   "source": [
    "df['tempo'] = df['tempo'].apply(lambda x: np.nan if x == '?' else x) \n",
    "df['tempo'] = df['tempo'].astype(float)\n",
    "df['duration_ms'] = df['duration_ms'].apply(lambda x: np.nan if x == -1 else x) \n",
    "df.info()"
   ]
  },
  {
   "cell_type": "markdown",
   "metadata": {},
   "source": [
    "Since missing values are about 18.8% of the dataset, we decided not to remove them but to replace them with some valuse that we will discuss later in the data preprocessing section."
   ]
  },
  {
   "cell_type": "markdown",
   "metadata": {},
   "source": [
    "### **Remove Unnecessary Features**"
   ]
  },
  {
   "cell_type": "code",
   "execution_count": 447,
   "metadata": {},
   "outputs": [],
   "source": [
    "featuretoDrop = ['instance_id','artist_name','track_name','obtained_date']"
   ]
  },
  {
   "cell_type": "code",
   "execution_count": 448,
   "metadata": {},
   "outputs": [
    {
     "name": "stdout",
     "output_type": "stream",
     "text": [
      "No. of Features Left: 14\n"
     ]
    }
   ],
   "source": [
    "for feature in featuretoDrop:\n",
    "    if feature in df.columns:\n",
    "        df.drop(feature, axis=1, inplace=True)\n",
    "print(f\"No. of Features Left: {df.shape[1]}\")"
   ]
  },
  {
   "cell_type": "code",
   "execution_count": 449,
   "metadata": {},
   "outputs": [
    {
     "name": "stdout",
     "output_type": "stream",
     "text": [
      "<class 'pandas.core.frame.DataFrame'>\n",
      "RangeIndex: 50000 entries, 0 to 49999\n",
      "Data columns (total 14 columns):\n",
      " #   Column            Non-Null Count  Dtype  \n",
      "---  ------            --------------  -----  \n",
      " 0   popularity        50000 non-null  float64\n",
      " 1   acousticness      50000 non-null  float64\n",
      " 2   danceability      50000 non-null  float64\n",
      " 3   duration_ms       45061 non-null  float64\n",
      " 4   energy            50000 non-null  float64\n",
      " 5   instrumentalness  50000 non-null  float64\n",
      " 6   key               50000 non-null  object \n",
      " 7   liveness          50000 non-null  float64\n",
      " 8   loudness          50000 non-null  float64\n",
      " 9   mode              50000 non-null  object \n",
      " 10  speechiness       50000 non-null  float64\n",
      " 11  tempo             45020 non-null  float64\n",
      " 12  valence           50000 non-null  float64\n",
      " 13  music_genre       50000 non-null  object \n",
      "dtypes: float64(11), object(3)\n",
      "memory usage: 5.3+ MB\n"
     ]
    }
   ],
   "source": [
    "df.info()"
   ]
  },
  {
   "cell_type": "markdown",
   "metadata": {},
   "source": [
    "### **Sort Features**\n",
    "**Order:**\n",
    "1. Numerical Features\n",
    "2. Categorical Features\n",
    "\n",
    "**Separate Numerical Features from Dataset**"
   ]
  },
  {
   "cell_type": "code",
   "execution_count": 450,
   "metadata": {},
   "outputs": [],
   "source": [
    "dfNum = df.select_dtypes(include=['float64'])"
   ]
  },
  {
   "cell_type": "markdown",
   "metadata": {},
   "source": [
    "**Separate Categorical Features from Dataset**"
   ]
  },
  {
   "cell_type": "code",
   "execution_count": 451,
   "metadata": {},
   "outputs": [],
   "source": [
    "dfCate = df.select_dtypes(include=['object'])"
   ]
  },
  {
   "cell_type": "markdown",
   "metadata": {},
   "source": [
    "**Concatenate Separated Data**"
   ]
  },
  {
   "cell_type": "code",
   "execution_count": 452,
   "metadata": {},
   "outputs": [],
   "source": [
    "df = pd.concat([dfNum, dfCate], axis=1)"
   ]
  },
  {
   "cell_type": "code",
   "execution_count": 453,
   "metadata": {},
   "outputs": [
    {
     "name": "stdout",
     "output_type": "stream",
     "text": [
      "<class 'pandas.core.frame.DataFrame'>\n",
      "RangeIndex: 50000 entries, 0 to 49999\n",
      "Data columns (total 14 columns):\n",
      " #   Column            Non-Null Count  Dtype  \n",
      "---  ------            --------------  -----  \n",
      " 0   popularity        50000 non-null  float64\n",
      " 1   acousticness      50000 non-null  float64\n",
      " 2   danceability      50000 non-null  float64\n",
      " 3   duration_ms       45061 non-null  float64\n",
      " 4   energy            50000 non-null  float64\n",
      " 5   instrumentalness  50000 non-null  float64\n",
      " 6   liveness          50000 non-null  float64\n",
      " 7   loudness          50000 non-null  float64\n",
      " 8   speechiness       50000 non-null  float64\n",
      " 9   tempo             45020 non-null  float64\n",
      " 10  valence           50000 non-null  float64\n",
      " 11  key               50000 non-null  object \n",
      " 12  mode              50000 non-null  object \n",
      " 13  music_genre       50000 non-null  object \n",
      "dtypes: float64(11), object(3)\n",
      "memory usage: 5.3+ MB\n"
     ]
    }
   ],
   "source": [
    "df.info()"
   ]
  },
  {
   "cell_type": "markdown",
   "metadata": {},
   "source": [
    "## **Data Preprocessing**"
   ]
  },
  {
   "cell_type": "markdown",
   "metadata": {},
   "source": [
    "### **Handle Missing Values**"
   ]
  },
  {
   "cell_type": "markdown",
   "metadata": {},
   "source": [
    "Babababababa"
   ]
  },
  {
   "cell_type": "code",
   "execution_count": null,
   "metadata": {},
   "outputs": [],
   "source": [
    "df_vis = df.copy()\n",
    "df_impute =  df.copy()"
   ]
  },
  {
   "cell_type": "code",
   "execution_count": null,
   "metadata": {},
   "outputs": [],
   "source": [
    "def plotForImpute(df, feature, df2 = None, prefix = ['','']):\n",
    "    df = df.copy()\n",
    "    df_Electronic = df[df['music_genre'] == 'Electronic']\n",
    "    df_Anime = df[df['music_genre'] == 'Anime']\n",
    "    df_Jazz = df[df['music_genre'] == 'Jazz']\n",
    "    df_Alternative = df[df['music_genre'] == 'Alternative']\n",
    "    df_Country = df[df['music_genre'] == 'Country']\n",
    "    df_Blues = df[df['music_genre'] == 'Blues']\n",
    "    df_Rap = df[df['music_genre'] == 'Rap']\n",
    "    df_Rock = df[df['music_genre'] == 'Rock']\n",
    "    df_Classical = df[df['music_genre'] == 'Classical']\n",
    "    df_Hip_Hop = df[df['music_genre'] == 'Hip-Hop']\n",
    "    if type(df2) == type(None):\n",
    "        plotDflist = [df_Electronic, df_Anime, df_Jazz, df_Alternative, df_Country, df_Blues, df_Rap, df_Rock, df_Classical, df_Hip_Hop]\n",
    "        titlelist = ['Electronic', 'Anime', 'Jazz', 'Alternative', 'Country', 'Blues', 'Rap', 'Rock', 'Classical', 'Hip-Hop']\n",
    "        row , col = 2, 5\n",
    "        targetPlot = feature\n",
    "        imputeHists, axes = plt.subplots(row, col, figsize=(30, 10))\n",
    "    else :\n",
    "        df2 = df2.copy()\n",
    "        df2_Electronic = df2[df2['music_genre'] == 'Electronic']\n",
    "        df2_Anime = df2[df2['music_genre'] == 'Anime']\n",
    "        df2_Jazz = df2[df2['music_genre'] == 'Jazz']\n",
    "        df2_Alternative = df2[df2['music_genre'] == 'Alternative']\n",
    "        df2_Country = df2[df2['music_genre'] == 'Country']\n",
    "        df2_Blues = df2[df2['music_genre'] == 'Blues']\n",
    "        df2_Rap = df2[df2['music_genre'] == 'Rap']\n",
    "        df2_Rock = df2[df2['music_genre'] == 'Rock']\n",
    "        df2_Classical = df2[df2['music_genre'] == 'Classical']\n",
    "        df2_Hip_Hop = df2[df2['music_genre'] == 'Hip-Hop']\n",
    "        plotDflist = [df_Electronic, df2_Electronic, df_Anime, df2_Anime, df_Jazz, df2_Jazz, df_Alternative, df2_Alternative, df_Country, df2_Country, df_Blues, df2_Blues, df_Rap, df2_Rap, df_Rock, df2_Rock, df_Classical, df2_Classical, df_Hip_Hop, df2_Hip_Hop]\n",
    "        titlelist = ['Electronic', 'Electronic', 'Anime', 'Anime', 'Jazz', 'Jazz', 'Alternative', 'Alternative', 'Country', 'Country', 'Blues', 'Blues', 'Rap', 'Rap', 'Rock', 'Rock', 'Classical', 'Classical', 'Hip-Hop', 'Hip-Hop']\n",
    "        row , col = 5, 2\n",
    "        targetPlot = feature\n",
    "        imputeHists, axes = plt.subplots(2*row, col, figsize=(20, 60))\n",
    "    for i, df in enumerate(plotDflist):\n",
    "            ax = axes[i//col, i%col]\n",
    "            sns.histplot(df[targetPlot], ax=ax, color=snsPalette[0], kde=True)\n",
    "            if i%2 == 0:\n",
    "                ax.set_title(f'{prefix[0]}'+titlelist[i])\n",
    "            else:\n",
    "                ax.set_title(f'{prefix[1]}'+titlelist[i])\n",
    "            ax.set_xlabel(targetPlot)\n",
    "            ax.set_ylabel('Count')\n",
    "            ax.set_facecolor(axBGColor)\n",
    "    return imputeHists"
   ]
  },
  {
   "cell_type": "markdown",
   "metadata": {},
   "source": [
    "#### **Plotting Histogram**"
   ]
  },
  {
   "cell_type": "code",
   "execution_count": null,
   "metadata": {},
   "outputs": [],
   "source": [
    "imputeHists_tempo = plotForImpute(df_vis, 'tempo')"
   ]
  },
  {
   "cell_type": "code",
   "execution_count": null,
   "metadata": {},
   "outputs": [],
   "source": [
    "imputeHists_duration_ms = plotForImpute(df_vis, 'duration_ms')"
   ]
  },
  {
   "cell_type": "markdown",
   "metadata": {},
   "source": [
    "bababababababa"
   ]
  },
  {
   "cell_type": "markdown",
   "metadata": {},
   "source": [
    "#### **Imputation Using Mean,Most Frequent**"
   ]
  },
  {
   "cell_type": "code",
   "execution_count": null,
   "metadata": {},
   "outputs": [],
   "source": [
    "imp_mean = SimpleImputer(missing_values=np.nan, strategy='mean')\n",
    "df_impute_mean = df_impute.copy()\n",
    "df_impute_mean['tempo'] = imp_mean.fit_transform(df_impute_mean[['tempo']])\n",
    "df_impute_mean['duration_ms'] = imp_mean.fit_transform(df_impute_mean[['duration_ms']])\n",
    "imputeHists_tempo_compare = plotForImpute(df_vis , 'tempo', df_impute_mean, ['Original ','Imputed '])\n",
    "imputeHists_duration_ms_compare = plotForImpute(df_vis , 'duration_ms', df_impute_mean, ['Original ','Imputed '])"
   ]
  },
  {
   "cell_type": "code",
   "execution_count": null,
   "metadata": {},
   "outputs": [],
   "source": [
    "imp_mode = SimpleImputer(missing_values=np.nan, strategy='most_frequent')\n",
    "df_impute_mode = df_impute.copy()\n",
    "df_impute_mode['tempo'] = imp_mode.fit_transform(df_impute_mode[['tempo']])\n",
    "df_impute_mode['duration_ms'] = imp_mode.fit_transform(df_impute_mode[['duration_ms']])\n",
    "imputeHists_tempo_compare = plotForImpute(df_vis , 'tempo', df_impute_mode, ['Original ','Imputed '])\n",
    "imputeHists_duration_ms_compare = plotForImpute(df_vis , 'duration_ms', df_impute_mode, ['Original ','Imputed '])"
   ]
  },
  {
   "cell_type": "markdown",
   "metadata": {},
   "source": [
    "bababababababa"
   ]
  },
  {
   "cell_type": "markdown",
   "metadata": {},
   "source": [
    "#### **Imputation Using Multivariate Imputation by Chained Equations(mice)**"
   ]
  },
  {
   "cell_type": "code",
   "execution_count": null,
   "metadata": {},
   "outputs": [],
   "source": [
    "from impyute.imputation.cs import mice\n",
    "\n",
    "df_impute_mice = df_impute.copy()\n",
    "df_impute_mice.drop(['music_genre','key','mode'], axis=1, inplace=True)\n",
    "imputed_training=mice(df_impute_mice.values)"
   ]
  },
  {
   "cell_type": "code",
   "execution_count": null,
   "metadata": {},
   "outputs": [],
   "source": [
    "df_impute_mice = pd.DataFrame(imputed_training, columns=df_impute_mice.columns)\n",
    "df_impute_mice['key'] = df_impute['key']\n",
    "df_impute_mice['mode'] = df_impute['mode']\n",
    "df_impute_mice['music_genre'] = df_impute['music_genre']\n",
    "df_impute_mice"
   ]
  },
  {
   "cell_type": "code",
   "execution_count": null,
   "metadata": {},
   "outputs": [],
   "source": [
    "imputeHists_tempo_compare = plotForImpute(df_vis , 'tempo', df_impute_mice, ['Original ','Imputed '])"
   ]
  },
  {
   "cell_type": "code",
   "execution_count": null,
   "metadata": {},
   "outputs": [],
   "source": [
    "imputeHists_tempo_compare = plotForImpute(df_vis , 'duration_ms', df_impute_mice, ['Original ','Imputed '])"
   ]
  },
  {
   "cell_type": "markdown",
   "metadata": {},
   "source": [
    "bababababababababababa"
   ]
  },
  {
   "cell_type": "markdown",
   "metadata": {},
   "source": [
    "#### **Imputation Using KNNImputer**"
   ]
  },
  {
   "cell_type": "code",
   "execution_count": null,
   "metadata": {},
   "outputs": [],
   "source": [
    "# # Impute missing values\n",
    "# # Cant use KNNImputer as it unable to allocate memory for an array with shape (2684, 50000) and data type float64\n",
    "# imputer = KNNImputer(n_neighbors=11)\n",
    "# df_tempo_impute['tempo'] = imputer.fit_transform(df_tempo_impute[['tempo']])\n",
    "# df_tempo_impute"
   ]
  },
  {
   "cell_type": "markdown",
   "metadata": {},
   "source": [
    "bababababababaa cant use"
   ]
  },
  {
   "cell_type": "markdown",
   "metadata": {},
   "source": [
    "#### **Conclusion**"
   ]
  },
  {
   "cell_type": "markdown",
   "metadata": {},
   "source": [
    "babababababababababababababa"
   ]
  },
  {
   "cell_type": "markdown",
   "metadata": {},
   "source": [
    "To conclude everything up to this point, there were <u>4 unnecessary feature</u>, <u>4 duplicated instances</u> and <u>1 missing values</u> that we have removed. This means that we are left with a total of **50000 instances and 14 features**.\n",
    "\n",
    "In which, there are:\n",
    "\n",
    "- 4 features, including output, that are '<font color='green'>object</font>', which means that they are '<font color='red'>Categorical Features</font>'.\n",
    "- 10 features that are '<font color='green'>int64</font>', which means that they are '<font color='red'>Numerical Features</font>'"
   ]
  }
 ],
 "metadata": {
  "kernelspec": {
   "display_name": "Python 3.10.6 64-bit",
   "language": "python",
   "name": "python3"
  },
  "language_info": {
   "codemirror_mode": {
    "name": "ipython",
    "version": 3
   },
   "file_extension": ".py",
   "mimetype": "text/x-python",
   "name": "python",
   "nbconvert_exporter": "python",
   "pygments_lexer": "ipython3",
   "version": "3.10.6"
  },
  "orig_nbformat": 4,
  "vscode": {
   "interpreter": {
    "hash": "26de051ba29f2982a8de78e945f0abaf191376122a1563185a90213a26c5da77"
   }
  }
 },
 "nbformat": 4,
 "nbformat_minor": 2
}
