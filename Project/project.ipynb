{
 "cells": [
  {
   "cell_type": "markdown",
   "metadata": {},
   "source": [
    "# **Project : Prediction of music genre**\n",
    "<hr>\n",
    "\n",
    "<u>**Members**</u><br>\n",
    "Tharnarch Thoranisttakul 63340500025<br>\n",
    "Sorapas Weerakul 63340500064<br>\n",
    "Athimet Aiewcharoen 63340500068\n",
    "<hr>"
   ]
  },
  {
   "cell_type": "code",
   "execution_count": 1,
   "metadata": {},
   "outputs": [],
   "source": [
    "import warnings\n",
    "warnings.filterwarnings('ignore')\n",
    "\n",
    "import pandas as pd\n",
    "import numpy as np\n",
    "from matplotlib import pyplot as plt\n",
    "import seaborn as sns\n",
    "import plotly.express as px\n",
    "from plotly.graph_objs import *\n",
    "%matplotlib inline\n",
    "\n",
    "import pandas_profiling as pp\n",
    "from yellowbrick.cluster import KElbowVisualizer, SilhouetteVisualizer, InterclusterDistance\n",
    "\n",
    "# Preprocessing\n",
    "from sklearn.preprocessing import StandardScaler, MinMaxScaler, RobustScaler\n",
    "from sklearn.preprocessing import LabelEncoder, OneHotEncoder\n",
    "\n",
    "# Fetures selection\n",
    "from sklearn.feature_selection import SelectKBest, f_classif, chi2,VarianceThreshold\n",
    "from sklearn.decomposition import PCA\n",
    "\n",
    "# Models\n",
    "from sklearn.cluster import KMeans, AgglomerativeClustering, DBSCAN, SpectralClustering, AffinityPropagation, Birch, MeanShift, OPTICS\n",
    "from kmodes.kprototypes import KPrototypes\n",
    "from sklearn.neighbors import NearestCentroid , KNeighborsClassifier, NearestNeighbors, RadiusNeighborsClassifier\n",
    "from sklearn.linear_model import LogisticRegression\n",
    "from sklearn.tree import DecisionTreeClassifier, ExtraTreeClassifier\n",
    "from sklearn.ensemble import RandomForestClassifier\n",
    "from sklearn.ensemble import IsolationForest\n",
    "from sklearn.svm import LinearSVC\n",
    "from sklearn.neural_network import MLPClassifier\n",
    "\n",
    "# Model selection\n",
    "from sklearn.model_selection import train_test_split, GridSearchCV, RepeatedKFold, StratifiedKFold, cross_val_score\n",
    "from sklearn.metrics import make_scorer, f1_score, accuracy_score, precision_score, recall_score, roc_auc_score, roc_curve, confusion_matrix, classification_report\n",
    "\n",
    "# Resampling\n",
    "from imblearn.over_sampling import SMOTE, ADASYN, RandomOverSampler\n",
    "from imblearn.under_sampling import InstanceHardnessThreshold, RandomUnderSampler, NearMiss\n",
    "\n",
    "# Classification metrics\n",
    "from sklearn.metrics import classification_report, confusion_matrix , silhouette_score , rand_score , adjusted_mutual_info_score, mutual_info_score, auc\n",
    "\n",
    "# Pipeline\n",
    "from sklearn.pipeline import Pipeline\n",
    "from sklearn.impute import SimpleImputer\n",
    "from sklearn.compose import ColumnTransformer\n",
    "from sklearn.base import BaseEstimator, TransformerMixin\n",
    "\n",
    "# For Hierarchical clustering\n",
    "from scipy.cluster.hierarchy import dendrogram, linkage, fcluster\n",
    "\n",
    "# Imputer \n",
    "from sklearn.impute import SimpleImputer, KNNImputer\n",
    "\n",
    "# Make image directory (img)\n",
    "import os\n",
    "currDir = os.getcwd()\n",
    "if not os.path.exists('img'):\n",
    "    os.mkdir('img')\n",
    "\n",
    "# Set global random seed\n",
    "np.random.seed(1)\n",
    "pd.options.display.float_format = \"{:.4f}\".format"
   ]
  },
  {
   "cell_type": "code",
   "execution_count": 2,
   "metadata": {},
   "outputs": [],
   "source": [
    "from matplotlib.colors import ListedColormap\n",
    "from matplotlib.cm import get_cmap\n",
    "\n",
    "cmap = ListedColormap([(0.235, 0.635, 0.827), (0.863, 0.863, 0.863)])\n",
    "pieCmap = get_cmap('plasma')\n",
    "snsPalette = [(0.235, 0.635, 0.827), (0.475, 0.027, 0.082)]\n",
    "bgColor = (0.059, 0.067, 0.102)\n",
    "axBGColor = (0.863, 0.863, 0.863)\n",
    "barColor = (0.235, 0.635, 0.827)\n",
    "axTextColor = (0.9, 0.9, 0.9)\n",
    "textColor = (0, 0, 0)\n",
    "titleColor = (0.9, 0.9, 0.9)\n",
    "plt.rcParams['figure.facecolor'] = bgColor\n",
    "plt.rcParams['axes.facecolor'] = axBGColor\n",
    "plt.rcParams['axes.edgecolor'] = axTextColor\n",
    "plt.rcParams['axes.labelcolor'] = axTextColor\n",
    "plt.rcParams['xtick.color'] = axTextColor\n",
    "plt.rcParams['ytick.color'] = axTextColor\n",
    "plt.rcParams['text.color'] = textColor\n",
    "plt.rcParams['axes.titlecolor'] = titleColor\n",
    "plt.rcParams['legend.labelcolor'] = titleColor\n",
    "\n",
    "plotlyGridcolor = 'rgba(0.9, 0.9, 0.9, 0.3)'"
   ]
  },
  {
   "cell_type": "code",
   "execution_count": 3,
   "metadata": {},
   "outputs": [],
   "source": [
    "def modelTestProcess(df, getdummy = 0,tranform =1 ,verbose=0):\n",
    "    verboseprint = print if verbose==1 else lambda *a, **k: None\n",
    "    df_model = df.copy()\n",
    "    if getdummy == 1:\n",
    "        df_model = pd.get_dummies(df_model, columns=['key','mode'],drop_first=True)\n",
    "    X = df_model.drop(['music_genre'], axis=1)\n",
    "    y = df_model['music_genre']\n",
    "    # Scaling\n",
    "    if tranform == 1:\n",
    "        scaler = StandardScaler()\n",
    "        X = scaler.fit_transform(X)\n",
    "    # Splitting\n",
    "    X_train, X_test, y_train, y_test = train_test_split(X, y, test_size=0.2, random_state=1)\n",
    "    # Model\n",
    "    LR_clf = LogisticRegression(n_jobs=-1, random_state=1,multi_class='multinomial')\n",
    "    DT_clf = DecisionTreeClassifier(random_state=1)\n",
    "    RF_clf = RandomForestClassifier(n_jobs=-1, random_state=1)\n",
    "    KNN_clf = KNeighborsClassifier(n_jobs=-1)\n",
    "    MLPC_clf = MLPClassifier(random_state=1)\n",
    "    # SVC_clf = LinearSVC(random_state=1,multi_class='crammer_singer') # U take too much time\n",
    "    modeldict = {'Logistic Regression Model':LR_clf, 'Decision Tree Model':DT_clf, 'Random Forest Model':RF_clf,\n",
    "                'KNN Model':KNN_clf, 'MLPC Model':MLPC_clf}\n",
    "    # Training\n",
    "    for modelname, model in modeldict.items():\n",
    "        model.fit(X_train, y_train)\n",
    "        verboseprint(f'{modelname} trained.')\n",
    "    # Testing\n",
    "    resultdict = {}\n",
    "    confusion_matrix_dict = {}\n",
    "    f1scoredict = {}\n",
    "    for modelname, model in modeldict.items():\n",
    "        y_pred = model.predict(X_test)\n",
    "        resultdict[modelname] = classification_report(y_test, y_pred)\n",
    "        confusion_matrix_dict[modelname] = confusion_matrix(y_test, y_pred)\n",
    "        f1scoredict[modelname] = f1_score(y_test, y_pred, average='weighted')\n",
    "    for key, value in resultdict.items():\n",
    "        verboseprint(f'Classification report of {key}',':\\n',value)\n",
    "        verboseprint(f'F1 score of {key} is {f1scoredict[key]}\\n','-'*50)\n",
    "    for key, value in f1scoredict.items():\n",
    "        print(f'{key} (F1 score) : {value}')\n",
    "    return modeldict,resultdict,confusion_matrix_dict,f1scoredict"
   ]
  },
  {
   "cell_type": "markdown",
   "metadata": {},
   "source": [
    "%%html\n",
    "<style>\n",
    ".featname{\n",
    "    color: red;\n",
    "}\n",
    ".numfont{\n",
    "    color: aquamarine;\n",
    "}\n",
    ".catefont{\n",
    "    color: Coral;\n",
    "}\n",
    "</style>\n",
    "\n",
    "## **Data Exploration**\n",
    "\n",
    "Dataset Source: [Prediction of music genre on kaggle](https://www.kaggle.com/datasets/vicsuperman/prediction-of-music-genre)\n",
    "\n",
    "There are a total of 18 features in this dataset which are:\n",
    "\n",
    "Data Description from the site:\n",
    "\n",
    "|Feature Name|Description from the site|Data Type|\n",
    "|:-:|-|:-:|\n",
    "|<font class='featname'>instance_id</font>|unique ID for each music|<font class='numfont'>Numerical</font>|\n",
    "|<font class='featname'>artist_name</font>|artist name|<font class='catefont'>Categorical</font>|\n",
    "|<font class='featname'>track_name</font>|track name|<font class='catefont'>Categorical</font>|\n",
    "|<font class='featname'>popularity</font>|how popular of this music|<font class='numfont'>Numerical</font>|\n",
    "|<font class='featname'>acousticness</font>|acousticness|<font class='numfont'>Numerical</font>|\n",
    "|<font class='featname'>danceability</font>|danceability|<font class='numfont'>Numerical</font>|\n",
    "|<font class='featname'>duration_ms</font>|the duration of the music in ms|<font class='numfont'>Numerical</font>|\n",
    "|<font class='featname'>energy</font>|energy|<font class='numfont'>Numerical</font>|\n",
    "|<font class='featname'>instrumentalness</font>|instrumentalness|<font class='numfont'>Numerical</font>|\n",
    "|<font class='featname'>key</font>|music key|<font class='catefont'>Categorical</font>|\n",
    "|<font class='featname'>liveness</font>|liveness|<font class='numfont'>Numerical</font>|\n",
    "|<font class='featname'>loudness</font>|loudness|<font class='numfont'>Numerical</font>|\n",
    "|<font class='featname'>mode</font>|mode|<font class='catefont'>Categorical</font>|\n",
    "|<font class='featname'>speechiness</font>|speechiness|<font class='numfont'>Numerical</font>|\n",
    "|<font class='featname'>tempo</font>|tempo|<font class='numfont'>Numerical</font>|\n",
    "|<font class='featname'>obtained_date</font>|date|<font class='catefont'>Date</font>|\n",
    "|<font class='featname'>valence</font>|valence|<font class='numfont'>Numerical</font>|\n",
    "|<font class='featname'>music_genre</font>|The full list of genres included in the CSV are 'Electronic', 'Anime', 'Jazz', 'Alternative', 'Country', 'Rap', 'Blues', 'Rock', 'Classical', 'Hip-Hop'.|<font class='catefont'>Categorical</font>|\n",
    "\n",
    "Number of instances: 50005  \n",
    "Number of Attribute: 18"
   ]
  },
  {
   "cell_type": "markdown",
   "metadata": {},
   "source": [
    "### **Import Dataset**"
   ]
  },
  {
   "cell_type": "code",
   "execution_count": null,
   "metadata": {},
   "outputs": [],
   "source": [
    "dfOri = pd.read_csv('Data/music_genre.csv')\n",
    "df = dfOri.copy()"
   ]
  },
  {
   "cell_type": "code",
   "execution_count": null,
   "metadata": {},
   "outputs": [],
   "source": [
    "df.head()"
   ]
  },
  {
   "cell_type": "code",
   "execution_count": null,
   "metadata": {},
   "outputs": [],
   "source": [
    "df.tail()"
   ]
  },
  {
   "cell_type": "code",
   "execution_count": null,
   "metadata": {},
   "outputs": [],
   "source": [
    "print(f\"No. of Instances: {df.shape[0]}\\nNo. of Features: {df.shape[1]}\")"
   ]
  },
  {
   "cell_type": "code",
   "execution_count": null,
   "metadata": {},
   "outputs": [],
   "source": [
    "df['duration_ms'].value_counts()"
   ]
  },
  {
   "cell_type": "markdown",
   "metadata": {},
   "source": [
    "### **Overall Report**"
   ]
  },
  {
   "cell_type": "code",
   "execution_count": null,
   "metadata": {},
   "outputs": [],
   "source": [
    "# dfProfile = df.copy()\n",
    "# dfProfile.reset_index(drop=True, inplace=True)\n",
    "# profile = pp.ProfileReport(dfProfile, title=\"Project Data Report\", dark_mode=True)\n",
    "# profile.config.html.style.primary_color = '#3CA2D3'\n",
    "# if not os.path.exists(os.path.join(currDir, 'ProjectDataReport.html')):\n",
    "#     profile.to_file('ProjectDataReport.html')\n",
    "# profile.to_notebook_iframe()"
   ]
  },
  {
   "cell_type": "markdown",
   "metadata": {},
   "source": [
    "### **Check and Remove Duplicates and Missing Values** "
   ]
  },
  {
   "cell_type": "code",
   "execution_count": null,
   "metadata": {},
   "outputs": [],
   "source": [
    "print(f\"No. of Missing Values: {df.isna().any(axis=1).sum()}\")\n",
    "df[df.isna().any(axis=1)]"
   ]
  },
  {
   "cell_type": "code",
   "execution_count": null,
   "metadata": {},
   "outputs": [],
   "source": [
    "print(f\"No. of Duplicates: {df.duplicated().sum()}\")\n",
    "df[df.duplicated()==True]"
   ]
  },
  {
   "cell_type": "code",
   "execution_count": null,
   "metadata": {},
   "outputs": [],
   "source": [
    "if df.isna().sum().sum() > 0:\n",
    "    df.dropna(inplace=True)\n",
    "    print(f\"No. of Instances Left: {df.shape[0]}\")\n",
    "else:\n",
    "    print(\"No missing values!\")"
   ]
  },
  {
   "cell_type": "code",
   "execution_count": null,
   "metadata": {},
   "outputs": [],
   "source": [
    "if df.duplicated().sum() > 0:\n",
    "    df.drop_duplicates(inplace=True)\n",
    "    print(f\"No. of Instances Left: {df.shape[0]}\")\n",
    "else:\n",
    "    print(\"No duplicates!\")"
   ]
  },
  {
   "cell_type": "code",
   "execution_count": null,
   "metadata": {},
   "outputs": [],
   "source": [
    "df.reset_index(drop=True, inplace=True)\n",
    "df.info()"
   ]
  },
  {
   "cell_type": "markdown",
   "metadata": {},
   "source": [
    "But from the report, we can see that there are some missing values in the dataset that we need to handle. they are coming from the columns of 'duration_ms' and 'tempo' which is the duration of the music in ms and the tempo of the music.\n",
    "\n",
    "-   duration_ms: -1 is the missing value\n",
    "-   tempo: \"?\" is the missing value"
   ]
  },
  {
   "cell_type": "code",
   "execution_count": null,
   "metadata": {},
   "outputs": [],
   "source": [
    "idx = df[(df['tempo'] == '?')].index | df[(df['duration_ms'] == -1)].index\n",
    "df_mis = df.loc[idx]\n",
    "print(f\"No. of Instances: {df_mis.shape[0]}\")\n",
    "print(f'Percentage of Instances: {round(df_mis.shape[0]/df.shape[0]*100, 2)}%')\n",
    "df_mis.head()"
   ]
  },
  {
   "cell_type": "code",
   "execution_count": null,
   "metadata": {},
   "outputs": [],
   "source": [
    "df['tempo'] = df['tempo'].apply(lambda x: np.nan if x == '?' else x) \n",
    "df['tempo'] = df['tempo'].astype(float)\n",
    "df['duration_ms'] = df['duration_ms'].apply(lambda x: np.nan if x == -1 else x) \n",
    "df.info()"
   ]
  },
  {
   "cell_type": "markdown",
   "metadata": {},
   "source": [
    "Since missing values are about 18.8% of the dataset, we decided not to remove them but to replace them with some valuse that we will discuss later in the data preprocessing section."
   ]
  },
  {
   "cell_type": "markdown",
   "metadata": {},
   "source": [
    "### **Remove Unnecessary Features**"
   ]
  },
  {
   "cell_type": "code",
   "execution_count": null,
   "metadata": {},
   "outputs": [],
   "source": [
    "featuretoDrop = ['instance_id','artist_name','track_name','obtained_date']"
   ]
  },
  {
   "cell_type": "code",
   "execution_count": null,
   "metadata": {},
   "outputs": [],
   "source": [
    "for feature in featuretoDrop:\n",
    "    if feature in df.columns:\n",
    "        df.drop(feature, axis=1, inplace=True)\n",
    "print(f\"No. of Features Left: {df.shape[1]}\")"
   ]
  },
  {
   "cell_type": "code",
   "execution_count": null,
   "metadata": {},
   "outputs": [],
   "source": [
    "df.info()"
   ]
  },
  {
   "cell_type": "markdown",
   "metadata": {},
   "source": [
    "### **Sort Features**\n",
    "**Order:**\n",
    "1. Numerical Features\n",
    "2. Categorical Features\n",
    "\n",
    "**Separate Numerical Features from Dataset**"
   ]
  },
  {
   "cell_type": "code",
   "execution_count": null,
   "metadata": {},
   "outputs": [],
   "source": [
    "dfNum = df.select_dtypes(include=['float64'])"
   ]
  },
  {
   "cell_type": "markdown",
   "metadata": {},
   "source": [
    "**Separate Categorical Features from Dataset**"
   ]
  },
  {
   "cell_type": "code",
   "execution_count": null,
   "metadata": {},
   "outputs": [],
   "source": [
    "dfCate = df.select_dtypes(include=['object'])"
   ]
  },
  {
   "cell_type": "markdown",
   "metadata": {},
   "source": [
    "**Concatenate Separated Data**"
   ]
  },
  {
   "cell_type": "code",
   "execution_count": null,
   "metadata": {},
   "outputs": [],
   "source": [
    "df = pd.concat([dfNum, dfCate], axis=1)"
   ]
  },
  {
   "cell_type": "code",
   "execution_count": null,
   "metadata": {},
   "outputs": [],
   "source": [
    "df.info()"
   ]
  },
  {
   "cell_type": "markdown",
   "metadata": {},
   "source": [
    "### **Plot Histograms and Value Count Charts**"
   ]
  },
  {
   "cell_type": "code",
   "execution_count": null,
   "metadata": {},
   "outputs": [],
   "source": [
    "NumHists, axes = plt.subplots(4, 3, figsize=(15, 15))\n",
    "NumHists.suptitle('Numeric Features Histograms', fontsize=20)\n",
    "NumHists.tight_layout(pad=3.0)\n",
    "for i, feature in enumerate(dfNum.columns):\n",
    "    ax = axes[i//3, i%3]\n",
    "    sns.histplot(dfNum[feature], ax=ax, color=snsPalette[0])\n",
    "    ax.set_title(f'{feature} Histogram', fontsize=15)\n",
    "    ax.set_xlabel(f'{feature}', fontsize=12)\n",
    "    ax.set_ylabel('Count', fontsize=12)\n",
    "    ax.set_facecolor(axBGColor)\n",
    "NumHists.delaxes(axes[3,2])"
   ]
  },
  {
   "cell_type": "markdown",
   "metadata": {},
   "source": [
    "จากกราฟข้างต้น พบว่า Numerical features ส่วนใหญ่ไม่เป็น Normal distribution เช่น 'liveness' เเละ 'speechiness' ที่เป็น Right skewed distribution, 'energy' เเละ 'loudness' ที่เป็น Left skewed distribution ซึ่งเราจะทำการ Transform ในขั้นตอน Preprocessing เพื่อเปลี่ยนให้ Features เหล่านี้มีความเป็น Normal distribution มากขึ้น ซึ่งมีความสำคัญกับการ Train Model ในบาง Model เช่น Logistic Regression "
   ]
  },
  {
   "cell_type": "code",
   "execution_count": null,
   "metadata": {},
   "outputs": [],
   "source": [
    "CateDonut, axes = plt.subplots(1, 3, figsize=(20,20))\n",
    "bbox_props = dict(boxstyle=\"square,pad=0.3\", fc=\"w\", ec=\"k\", lw=0.72)\n",
    "kw = dict(arrowprops=dict(arrowstyle=\"-\", color='w', lw=0.5),\n",
    "          bbox=bbox_props, zorder=0, va=\"center\")\n",
    "for idx, col in enumerate(dfCate.columns):\n",
    "    labelName = df[col].unique().tolist()\n",
    "    wedges, texts = axes[idx].pie(df[col].value_counts(normalize=True)[df[col].unique()] * 100,\n",
    "                                            startangle = 12,\n",
    "                                            colors = pieCmap(np.linspace(0, 1, num=len(df[col].value_counts()))),\n",
    "                                            wedgeprops=dict(width=0.4))\n",
    "    axes[idx].set_title(col + \" (Base)\", pad=30)\n",
    "    for i, p in enumerate(wedges):\n",
    "        ang = (p.theta2 - p.theta1)/2. + p.theta1\n",
    "        y = np.sin(np.deg2rad(ang))\n",
    "        x = np.cos(np.deg2rad(ang))\n",
    "        horizontalalignment = {-1: \"right\", 1: \"left\"}[int(np.sign(x))]\n",
    "        connectionstyle = \"angle,angleA=0,angleB={}\".format(ang)\n",
    "        kw[\"arrowprops\"].update({\"connectionstyle\": connectionstyle})\n",
    "        axes[idx].annotate(f\"{labelName[i]}\\n{df[col].value_counts(normalize=True)[df[col].unique()][i]*100:.2f}%\", xy=(x, y), xytext=(1.1*np.sign(x), 1.2*y),\n",
    "                    horizontalalignment=horizontalalignment, **kw)"
   ]
  },
  {
   "cell_type": "markdown",
   "metadata": {},
   "source": [
    "เมื่อเราทดลอง Plot กราฟวงกลมออกมา เราพบว่า\n",
    "- ในทุกเพลงของ Dataset นี้จะใช้คีย์ G มากที่สุดคิดเป็น 11.45% ของคีย์ทั้งหมด 12 คีย์ เเละใช้คีย์ D# น้อยที่สุดคิดเป็น 3.18% ของคีย์ทั้งหมด\n",
    "- ในทุกเพลงของ Dataset นี้จะใช้ mode 'Major' มากกว่า 'Minor' คิดเป็น 64.20% ของเพลงทั้งหมด\n",
    "- ใน Dataset นี้จะมีจำนวนเพลงในเเต่ละเเนวเพลงเท่ากัน คือเเนวเพลงทั้งหมด 10 เเนว เเนวเพลงละ 10% ของเพลงทั้งหมด 50000 เพลง หรือเเนวเพลงละ 5000 เพลง"
   ]
  },
  {
   "cell_type": "markdown",
   "metadata": {},
   "source": [
    "### **Pairplotting Data Samples**\n",
    "\n",
    "We will be pairplotting a tenth of the whole dataset to see the distribution of the data."
   ]
  },
  {
   "cell_type": "code",
   "execution_count": null,
   "metadata": {},
   "outputs": [],
   "source": [
    "# PairSamp, ax = plt.subplots(1, 1, figsize=(10, 10))\n",
    "PairSamp = sns.pairplot(data = df.sample(int(df.shape[0]/10), random_state=777),\n",
    "             diag_kind = 'kde',\n",
    "             hue = 'music_genre',)\n",
    "plt.setp(PairSamp._legend.get_title(), color=titleColor)\n",
    "PairSamp.fig.suptitle(\"Pairplot of Sampled Data\",\n",
    "                      fontsize=16,\n",
    "                      color=titleColor)\n",
    "PairSamp.fig.subplots_adjust(top=0.95)"
   ]
  },
  {
   "cell_type": "markdown",
   "metadata": {},
   "source": [
    "From the pairplot, we can see that the variance between class of the features are quite low and the variance within class of the features are quite low as well (except class 'Classical'). This means that the data is not very separable and we will need to use some feature engineering techniques to make the data more separable."
   ]
  },
  {
   "cell_type": "markdown",
   "metadata": {},
   "source": [
    "### **Plot Data for visualization**"
   ]
  },
  {
   "cell_type": "code",
   "execution_count": null,
   "metadata": {},
   "outputs": [],
   "source": [
    "dfNum.columns"
   ]
  },
  {
   "cell_type": "code",
   "execution_count": null,
   "metadata": {},
   "outputs": [],
   "source": [
    "df_visual = df.copy()\n",
    "df_visual.columns"
   ]
  },
  {
   "cell_type": "code",
   "execution_count": null,
   "metadata": {},
   "outputs": [],
   "source": [
    "def visualizationof2data(df, feature1, feature2, mainfeaturerange,offset=[0,0,0]):\n",
    "    df_visual_fcn = df.copy()\n",
    "    main_group = pd.cut(df_visual_fcn[feature1], mainfeaturerange)\n",
    "    df_visual_fcn[feature1] = main_group\n",
    "    sum_group = df_visual_fcn[[feature2,feature1]].groupby(feature1).sum()\n",
    "    mean_group  = df_visual_fcn[[feature2,feature1]].groupby(feature1).mean()\n",
    "    # Plot\n",
    "    visual_fcn_plot , axes = plt.subplots(1, 2, figsize=(20, 8))\n",
    "    axes = axes.flatten()\n",
    "\n",
    "    sns.barplot(x=sum_group[feature2], y=sum_group.index, ci=None, orient='h', ax=axes[0])\n",
    "    axes[0].set_title(f'Total {feature2} \\nby {feature1} Groups', weight='bold', fontsize=16)\n",
    "\n",
    "    for i,v in enumerate(sum_group[feature2]):\n",
    "        if i in [1, 2, 3, 4]:\n",
    "            axes[0].text(v+offset[0], i, '{}'.format(v), horizontalalignment='right', verticalalignment='center', weight='bold', color='black', fontsize=12)\n",
    "        else:\n",
    "            axes[0].text(v+offset[1], i, '{}'.format(v), horizontalalignment='left', verticalalignment='center', weight='bold', color='black', fontsize=12)\n",
    "\n",
    "    sns.barplot(x=mean_group[feature2], y=mean_group.index, ci=None, orient='h', ax=axes[1])\n",
    "    axes[1].set_title(f'Average {feature2} \\nby {feature1} Groups', weight='bold', fontsize=16)\n",
    "\n",
    "    for i,v in enumerate(mean_group[feature2]):\n",
    "        axes[1].text(v+offset[2], i, '{}'.format(round(v,2)), horizontalalignment='right', verticalalignment='center', weight='bold', color='black', fontsize=12)\n",
    "    return visual_fcn_plot\n",
    "# Example\n",
    "# danceabilityByPopularityPlot = visualizationof2data(df_visual, 'popularity', 'danceability', [10, 20, 30, 40, 50, 60, 70, 80, 90, 100])"
   ]
  },
  {
   "cell_type": "code",
   "execution_count": null,
   "metadata": {},
   "outputs": [],
   "source": [
    "df_visual.mean()"
   ]
  },
  {
   "cell_type": "code",
   "execution_count": null,
   "metadata": {},
   "outputs": [],
   "source": [
    "def visualizationof2dataAll(df, feature1, mainfeaturerange,offset=[0,0,0]):\n",
    "    df_visual_fcn = df.copy()\n",
    "    main_group = pd.cut(df_visual_fcn[feature1], mainfeaturerange)\n",
    "    df_visual_fcn[feature1] = main_group\n",
    "    numcol = ['popularity', 'acousticness', 'danceability', 'duration_ms', 'energy',\n",
    "       'instrumentalness', 'liveness', 'loudness', 'speechiness', 'tempo',\n",
    "       'valence']\n",
    "    numcol.remove(feature1)\n",
    "    # Plot\n",
    "    visual_fcn_plot, axes = plt.subplots(3, 4, figsize=(24, 20))\n",
    "    for idx,col in enumerate(numcol):\n",
    "        ax = axes[idx//4, idx%4]\n",
    "        mean_group  = df_visual_fcn[[col,feature1]].groupby(feature1).mean()\n",
    "        sns.barplot(x=mean_group[col], y=mean_group.index, ci=None, orient='h', ax=ax)\n",
    "        ax.set_title(f'Average {col} \\nby {feature1} Groups', weight='bold', fontsize=16)\n",
    "        threshold = mean_group.max().values[0]\n",
    "        for i,v in enumerate(mean_group[col]):\n",
    "            # print(mean_group)\n",
    "            # alignment\n",
    "            if 2*mean_group.iloc[i].values[0] > threshold:\n",
    "                halignment = 'right'\n",
    "            else:\n",
    "                halignment = 'left'\n",
    "            ax.text(v+offset[2], i, '{}'.format(round(v,2)), horizontalalignment=halignment, verticalalignment='center', weight='bold', color='black', fontsize=12)\n",
    "    visual_fcn_plot.delaxes(axes[2,3])\n",
    "    visual_fcn_plot.delaxes(axes[2,2])\n",
    "    return visual_fcn_plot, mean_group"
   ]
  },
  {
   "cell_type": "code",
   "execution_count": null,
   "metadata": {},
   "outputs": [],
   "source": [
    "featureByPopularityPlot = visualizationof2dataAll(df_visual, 'popularity', [10, 20, 30, 40, 50, 60, 70, 80, 90, 100])"
   ]
  },
  {
   "cell_type": "markdown",
   "metadata": {},
   "source": [
    "- เพลงที่มีความเป็น acoustic สูง จะมีความนิยมต่ำ\n",
    "- เมื่อเพลงมีความ danceability สูง ความนิยมก็จะสูงขึ้นตาม\n",
    "- เมื่อเพลงมีการใช้เครื่องดนตรีในการบรรเลงเยอะ (instrumentalness) ความนิยมก็จะต่ำลง\n",
    "- เพลงที่ค่า liveness ต่ำ จะมีความนิยมสูง\n",
    "- เพลงที่มีความดังของเสียงสูง (loudness) จะมีความนิยมต่ำ\n",
    "- เพลงที่มีเสียงนักร้องเป็นส่วนใหญ่ (speechiness) จะมีความนิยมสูง\n",
    "- ความยาวของเพลง (duration_ms), ความพุ่งของเพลง (energy), จังหวะ (tempo), เเละความสูงของเสียง (valence) ไม่ค่อยมีความสัมพันธ์กับ popularity ของเพลง"
   ]
  },
  {
   "cell_type": "code",
   "execution_count": null,
   "metadata": {},
   "outputs": [],
   "source": [
    "featureByacousticnessPlot = visualizationof2dataAll(df_visual, 'acousticness', [0.1, 0.2, 0.3, 0.4, 0.5, 0.6, 0.7, 0.8, 0.9, 1])"
   ]
  },
  {
   "cell_type": "markdown",
   "metadata": {},
   "source": [
    "- เมื่อเพลงมีความ danceability สูง ค่าความเป็น acoustic จะต่ำ\n",
    "- เมื่อเพลงมีความยาว (duration_ms) ค่าความเป็น acoustic จะสูง\n",
    "- เมื่อเพลงมีความพุ่ง (energy) สูงขึ้น ค่าความเป็น acoustic จะต่ำลง\n",
    "- เพลงที่มีการใช้เครื่องดนตรีในการบรรเลงเยอะ (instrumentalness) ค่าความเป็น acoustic จะสูง\n",
    "- เพลงที่ค่า liveness สูง ความเป็น acoustic จะต่ำ\n",
    "- เพลงที่เสียงเบา (loudness) ความเป็น acoustic จะสูง\n",
    "- เมื่อเพลงมีเสียงนักร้องเป็นส่วนใหญ่ (speechiness) ความเป็น acoustic จะต่ำ\n",
    "- ยิ่งเพลงที่มีจังหวะเร็ว (tempo) ความเป็น acoustic จะต่ำลง\n",
    "- เพลงที่มีความสูงของเสียงสูง (valence) ความเป็น acoustic จะต่ำ"
   ]
  },
  {
   "cell_type": "code",
   "execution_count": null,
   "metadata": {},
   "outputs": [],
   "source": [
    "featureBydanceabilityPlot = visualizationof2dataAll(df_visual, 'danceability', [0.1, 0.2, 0.3, 0.4, 0.5, 0.6, 0.7, 0.8, 0.9, 1])"
   ]
  },
  {
   "cell_type": "markdown",
   "metadata": {},
   "source": [
    "- ยิ่งเพลงมีความยาวขึ้น (duration_ms) danceability จะต่ำลง\n",
    "- เพลงที่มีการใช้เครื่องดนตรีในการบรรเลงเยอะ (instrumentalness) danceability จะต่ำ\n",
    "- ยิ่งเพลงมีเสียงเบา (loudness) danceability จะต่ำลง\n",
    "- เมื่อเพลงมีเสียงนักร้องเป็นส่วนใหญ่ (speechiness) ค่า danceability จะสูงขึ้น\n",
    "- เพลงที่มีความสูงของเสียงสูง (valence) ค่า danceability จะสูงตาม\n",
    "- ความพุ่งของเสียง (energy), เพลงที่บันทึกจากการแสดงสด (liveness), เเละจังหวะ (tempo) ไม่ค่อยมีความสัมพันธ์กับ danceability"
   ]
  },
  {
   "cell_type": "code",
   "execution_count": null,
   "metadata": {},
   "outputs": [],
   "source": [
    "featureByenergyPlot = visualizationof2dataAll(df_visual, 'energy', [0.1, 0.2, 0.3, 0.4, 0.5, 0.6, 0.7, 0.8, 0.9, 1])"
   ]
  },
  {
   "cell_type": "markdown",
   "metadata": {},
   "source": [
    "- เพลงที่มีการใช้เครื่องดนตรีในการบรรเลงเยอะ (instrumentalness) energy จะต่ำ\n",
    "- เพลงที่มีค่า liveness สูง energy จะสูงตาม\n",
    "- เพลงที่เสียงเบา (loudness) energy จะต่ำ\n",
    "- เพลงที่มีจังหวะเร็ว (tempo) energy จะสูง\n",
    "- เพลงที่มีความสูงของเสียงสูง (valence) energy จะสูง\n",
    "- ความนิยมของเพลง (popularity), ความเต้นของเพลง (danceablity), ความยาวของเพลง (duration_ms), เเละเสียงนักร้องในเพลง (speechiness) ไม่ค่อยมีความสัมพันธ์กับ energy"
   ]
  },
  {
   "cell_type": "code",
   "execution_count": null,
   "metadata": {},
   "outputs": [],
   "source": [
    "featureByinstrumentalnessPlot = visualizationof2dataAll(df_visual, 'instrumentalness', [0.1, 0.2, 0.3, 0.4, 0.5, 0.6, 0.7, 0.8, 0.9, 1])"
   ]
  },
  {
   "cell_type": "markdown",
   "metadata": {},
   "source": [
    "- เพลงที่เสียงเบา (loudness) instrumentalness จะสูง\n",
    "- เมื่อเพลงมีเสียงนักร้องเป็นส่วนใหญ่ (speechiness) instrumentalness จะต่ำ\n",
    "- เพลงที่มีจังหวะเร็ว (tempo) instrumentalness จะต่ำ\n",
    "- เพลงที่มีความสูงของเสียงสูง (valence) instrumentalness จะต่ำ\n",
    "- ความยาวของเพลง (duration_ms) เเละเพลงที่บันทึกจากการแสดงสด (liveness) ไม่ค่อยมีความสัมพันธ์กับ instrumentalness"
   ]
  },
  {
   "cell_type": "code",
   "execution_count": null,
   "metadata": {},
   "outputs": [],
   "source": [
    "featureBylivenessPlot = visualizationof2dataAll(df_visual, 'liveness', [0.1, 0.2, 0.3, 0.4, 0.5, 0.6, 0.7, 0.8, 0.9, 1])"
   ]
  },
  {
   "cell_type": "markdown",
   "metadata": {},
   "source": [
    "- เพลงที่มีความยาว (duration_ms) liveness จะสูง\n",
    "- acousticness, energy, instrumentalness, loudness, speechiness, tempo, เเละ valence ไม่มีค่อยมีความสัมพันธ์กับ liveness"
   ]
  },
  {
   "cell_type": "code",
   "execution_count": null,
   "metadata": {},
   "outputs": [],
   "source": [
    "featureByloudnessPlot = visualizationof2dataAll(df_visual, 'loudness', [-47, -40, -35, -30, -25, -20, -15, -5, 0, 4])"
   ]
  },
  {
   "cell_type": "markdown",
   "metadata": {},
   "source": [
    "- เพลงที่ค่า liveness สูง ความดังของเสียงก็จะสูง (<font color=red>ทำไมกราฟนี้ไม่เหมือนกับกราฟของ liveness?</font>)\n",
    "- เพลงที่มีเสียงนักร้องเป็นส่วนใหญ่ (speechiness) ความดังของเสียงก็จะสูง\n",
    "- เมื่อเพลงมีจังหวะเร็วขึ้น (tempo) ความดังของเสียงก็จะสูงขึ้น\n",
    "- เพลงที่มีความสูงของเสียงสูง (valence) ความดังของเสียงก็จะสูง\n",
    "- ความนิยมของเพลง (popularity) เเละความยาวของเพลง (duration_ms) ไม่ค่อยมีความสัมพันธ์กับ loudness"
   ]
  },
  {
   "cell_type": "code",
   "execution_count": null,
   "metadata": {},
   "outputs": [],
   "source": [
    "featureByspeechinessPlot = visualizationof2dataAll(df_visual, 'speechiness', [0.1, 0.2, 0.3, 0.4, 0.5, 0.6, 0.7, 0.8, 0.9, 1])"
   ]
  },
  {
   "cell_type": "markdown",
   "metadata": {},
   "source": [
    "\n",
    "- เพลงที่มีความเป็น acoustic สูง speechiness ก็จะสูง (<font color=red>ทำไมกราฟนี้ไม่เหมือนกับกราฟของ acousticness?</font>)\n",
    "- เพลงที่สั้น speechiness ก็จะสูง\n",
    "- เมื่อเพลงมี energy สูง speechiness จะต่ำลง (<font color=red>เเตกต่างจากกราฟของ energy?</font>)\n",
    "- เพลงที่ค่า liveness สูง speechiness จะสูงขึ้นตาม (<font color=red>เป็นเพราะการเเสดงสดจากเน้นเสียงของนักร้อง?</font>)\n",
    "- เพลงที่มีเสียงดัง (loudness) ค่า speechiness จะลดต่ำลง (<font color=red>เเตกต่างจากกราฟของ loudness?</font>)\n",
    "- ความนิยมของเพลง (popularity), ความเต้นของเพลง (danceablity), จังหวะเพลง (tempo), เเละความสูงของเสียง (valence) ไม่ค่อยมีความสัมพันธ์กับ speechiness"
   ]
  },
  {
   "cell_type": "code",
   "execution_count": null,
   "metadata": {},
   "outputs": [],
   "source": [
    "featureBytempoPlot = visualizationof2dataAll(df_visual, 'tempo', [34, 53, 72, 91, 110, 129, 148, 167, 186, 205])"
   ]
  },
  {
   "cell_type": "markdown",
   "metadata": {},
   "source": [
    "- ความนิยมของเพลง (popularity), ความเต้นของเพลง (danceablity), ความยาวเพลง (duration_ms), เพลงที่บันทึกจากการแสดงสด (liveness), เพลงที่มีเสียงร้อง (speechiness), เเละความสูงของเสียง (valence) ไม่ค่อยมีความสัมพันธ์กับ tempo"
   ]
  },
  {
   "cell_type": "code",
   "execution_count": null,
   "metadata": {},
   "outputs": [],
   "source": [
    "featureByvalencePlot = visualizationof2dataAll(df_visual, 'valence', [0.1, 0.2, 0.3, 0.4, 0.5, 0.6, 0.7, 0.8, 0.9, 1])"
   ]
  },
  {
   "cell_type": "markdown",
   "metadata": {},
   "source": [
    "- เพลงที่มีความ acoustic สูง valence จะต่ำ\n",
    "- เมื่อเพลงมีความ danceability สูง valence จะสูงขึ้นตาม\n",
    "- เมื่อเพลงมีความยาวมากขึ้น (duration_ms) valence จะลดลง\n",
    "- ความนิยม (popularity), เพลงที่บันทึกจากการแสดงสด (liveness), เพลงที่มีเสียงร้อง (speechiness), เเละจังหวะ (tempo) ไม่ค่อยมีความสัมพันธ์กับ valence"
   ]
  },
  {
   "cell_type": "code",
   "execution_count": null,
   "metadata": {},
   "outputs": [],
   "source": [
    "df_visual.groupby('music_genre').get_group('Hip-Hop').sort_values(by='key', ascending=False).head(10)"
   ]
  },
  {
   "cell_type": "code",
   "execution_count": null,
   "metadata": {},
   "outputs": [],
   "source": [
    "dfCateDict = {\"Electronic\": df_visual.groupby('music_genre').get_group('Hip-Hop').sort_values(by='key', ascending=False),\n",
    "            \"Anime\": df_visual.groupby('music_genre').get_group('Anime').sort_values(by='key', ascending=False),\n",
    "            \"Jazz\": df_visual.groupby('music_genre').get_group('Jazz').sort_values(by='key', ascending=False),\n",
    "            \"Alternative\": df_visual.groupby('music_genre').get_group('Alternative').sort_values(by='key', ascending=False),\n",
    "            \"Country\": df_visual.groupby('music_genre').get_group('Country').sort_values(by='key', ascending=False),\n",
    "            \"Rap\": df_visual.groupby('music_genre').get_group('Rap').sort_values(by='key', ascending=False),\n",
    "            \"Blues\": df_visual.groupby('music_genre').get_group('Blues').sort_values(by='key', ascending=False),\n",
    "            \"Rock\": df_visual.groupby('music_genre').get_group('Rock').sort_values(by='key', ascending=False),\n",
    "            \"Classical\": df_visual.groupby('music_genre').get_group('Classical').sort_values(by='key', ascending=False),\n",
    "            \"Hip-Hop\": df_visual.groupby('music_genre').get_group('Hip-Hop').sort_values(by='key', ascending=False),\n",
    "}\n",
    "catcol = ['key', 'mode']\n",
    "catVisPlot , axes = plt.subplots(10, 2, figsize=(15, 50))\n",
    "count = 0\n",
    "for key, item in dfCateDict.items():\n",
    "    for idx,col in enumerate(catcol):\n",
    "        ax = axes[count, idx]\n",
    "        sns.countplot(x=col, data=item, ax=ax)\n",
    "        ax.set_title(f'{key} Groups', weight='bold', fontsize=10)\n",
    "    count += 1\n"
   ]
  },
  {
   "cell_type": "markdown",
   "metadata": {},
   "source": [
    "### **Plot Outlier for visualization**"
   ]
  },
  {
   "cell_type": "code",
   "execution_count": null,
   "metadata": {},
   "outputs": [],
   "source": [
    "def plotoutlierBarStrip(df,title='',plottype='both',plotdetail='notdetail'):\n",
    "    df_def = df.copy()\n",
    "    plotlist = []\n",
    "    if plottype == 'both' or plottype == 'box':\n",
    "        if plotdetail == 'notdetail':\n",
    "            plotgraphBox, axes = plt.subplots(2, 6, figsize=(20, 12))\n",
    "        elif plotdetail == 'detail':\n",
    "            plotgraphBox, axes = plt.subplots(2, 6, figsize=(60, 20))\n",
    "        plotgraphBox.suptitle(f'{title} Outlier Detection', fontsize=20, fontweight='bold', color='white',y=0.92)\n",
    "        plotgraphBox.delaxes(axes[1,5])\n",
    "        for idx, col in enumerate(dfNum.columns):\n",
    "            if plotdetail == 'notdetail':\n",
    "                sns.boxplot(x=df_def[col],ax=axes[idx//6, idx%6])\n",
    "            elif plotdetail == 'detail':\n",
    "                sns.boxplot(x='music_genre', y=col, data=df_def, ax=axes[idx//6, idx%6])\n",
    "            plt.title(col + ' (box)')\n",
    "        plotlist.append(plotgraphBox)\n",
    "    if plottype == 'both' or plottype == 'strip':\n",
    "        if plotdetail == 'notdetail':\n",
    "            plotgraphStrip, axes = plt.subplots(2, 6, figsize=(20, 12))\n",
    "        elif plotdetail == 'detail':\n",
    "            plotgraphStrip, axes = plt.subplots(2, 6, figsize=(60, 20))\n",
    "        plotgraphStrip.suptitle(f'{title} Outlier Detection', fontsize=20, fontweight='bold', color='white',y=0.92)\n",
    "        plotgraphStrip.delaxes(axes[1,5])\n",
    "        for idx, col in enumerate(dfNum.columns):\n",
    "            if plotdetail == 'notdetail':\n",
    "                sns.stripplot(x=df_def[col],ax=axes[idx//6, idx%6])\n",
    "            elif plotdetail == 'detail':\n",
    "                sns.stripplot(x='music_genre', y=col, data=df_def, ax=axes[idx//6, idx%6])\n",
    "            plt.title(col + ' (strip)')\n",
    "        plotlist.append(plotgraphStrip)\n",
    "    return plotlist"
   ]
  },
  {
   "cell_type": "code",
   "execution_count": null,
   "metadata": {},
   "outputs": [],
   "source": [
    "outlierplotALL = plotoutlierBarStrip(df_visual,'','both','notdetail')"
   ]
  },
  {
   "cell_type": "code",
   "execution_count": null,
   "metadata": {},
   "outputs": [],
   "source": [
    "outlierplotBoxDetail = plotoutlierBarStrip(df_visual,'','box','detail')"
   ]
  },
  {
   "cell_type": "code",
   "execution_count": null,
   "metadata": {},
   "outputs": [],
   "source": [
    "outlierplotstripdetail = plotoutlierBarStrip(df_visual,'','strip','detail')"
   ]
  },
  {
   "cell_type": "markdown",
   "metadata": {},
   "source": [
    "โดยเราจะเห็นได้ว่ามี Outlier อยู่ใน Data set ของเรายิ่งโดยจะเห็นได้ชัดใน Feature duration_ms มากที่สุด"
   ]
  },
  {
   "cell_type": "markdown",
   "metadata": {},
   "source": [
    "### **Data Exploration's Conclusion**"
   ]
  },
  {
   "cell_type": "markdown",
   "metadata": {},
   "source": [
    "To conclude everything up to this point, there were <u>4 unnecessary feature</u>, <u>4 duplicated instances</u> and <u>1 missing values</u> that we have removed. This means that we are left with a total of **50000 instances and 14 features**.\n",
    "\n",
    "In which, there are:\n",
    "\n",
    "- 4 features, including output, that are '<font color='green'>object</font>', which means that they are '<font color='red'>Categorical Features</font>'.\n",
    "- 10 features that are '<font color='green'>int64</font>', which means that they are '<font color='red'>Numerical Features</font>'"
   ]
  },
  {
   "cell_type": "markdown",
   "metadata": {},
   "source": [
    "From the overall report,\n",
    "\n",
    "Plotting Histogram of Numerical Features:\n",
    "\n",
    "|Feature Names|Distribution|\n",
    "|-|-|\n",
    "|popularity|Normal|\n",
    "|acousticness|Right-skewed|\n",
    "|danceability|Normal|\n",
    "|duration_ms|Right-skewed|\n",
    "|energy|Left-skewed|\n",
    "|instrumentalness|Right-skewed|\n",
    "|liveness|Right-skewed|\n",
    "|londness|Left-skewed|\n",
    "|speechiness|Right-skewed|\n",
    "|tempo|Normal|\n",
    "|valence|Normal|"
   ]
  },
  {
   "cell_type": "markdown",
   "metadata": {},
   "source": [
    "Plotting Values Count of Categorical Features:\n",
    "\n",
    "|Feature Names|What we got|\n",
    "|-|-|\n",
    "|key|The G key is used in the majority of songs (11.45% of the total 12 keys)|\n",
    "|mode|All songs in this dataset use \"major\" mode more than \"minor,\" accounting for 64.20% of all songs|\n",
    "|music_genre|There are the same number of songs in each genre. Each of the ten music genres has 10% of the total 50000 songs. Thus, there are 5000 songs per genre.|"
   ]
  },
  {
   "cell_type": "markdown",
   "metadata": {},
   "source": [
    "Good things of this dataset:\n",
    "\n",
    "|Good Things|Explanation|\n",
    "|-|-|\n",
    "|Filled Data in Numerical Features|There are only 18.88% missing data of all numerical data in this dataset.|\n",
    "|Filled Data in Categorical Features|There are no missing data in categorical features of this dataset.|\n",
    "|Output data|Class targets (music_genre) are balanced in this dataset.|"
   ]
  },
  {
   "cell_type": "markdown",
   "metadata": {},
   "source": [
    "Bad things of this dataset:\n",
    "\n",
    "|Bad Things|Explanation|\n",
    "|-|-|\n",
    "|Data Explanation|Most features come with little to no explanation or bad explanation.|\n",
    "|Data Distribution|There are a normal distribution mixed with the skewed distribution.|\n",
    "|Data Variation|<font color='red'>As we can see when pairplotting, variance between features are quite low and variance within class are quite high in some feature, which means that data variation is very bad.</font>|\n",
    "|Outlier|There are some outliers in this dataset such as feature duration_ms.|\n",
    "|Unknown Data|Unclear explanation of what unknown data means.|"
   ]
  },
  {
   "cell_type": "markdown",
   "metadata": {},
   "source": [
    "<h3><font color='green'>Red on top mean not sure</font>"
   ]
  },
  {
   "cell_type": "code",
   "execution_count": null,
   "metadata": {},
   "outputs": [],
   "source": [
    "df.to_csv('Data/data.csv', index=False)"
   ]
  },
  {
   "cell_type": "markdown",
   "metadata": {},
   "source": [
    "## **Data Preprocessing**"
   ]
  },
  {
   "cell_type": "markdown",
   "metadata": {},
   "source": [
    "### **Import Data**"
   ]
  },
  {
   "cell_type": "code",
   "execution_count": null,
   "metadata": {},
   "outputs": [],
   "source": [
    "df = pd.read_csv('Data/data.csv')\n",
    "dfNum = df.select_dtypes(include=['float64'])\n",
    "dfCate = df.select_dtypes(include=['object'])"
   ]
  },
  {
   "cell_type": "markdown",
   "metadata": {},
   "source": [
    "### **Handle Missing Values**"
   ]
  },
  {
   "cell_type": "markdown",
   "metadata": {},
   "source": [
    "เนื่องจาก Missing values มีจำนวนมาก 18.8% ของ Dataset ทั้งหมด จึงเลือกที่จะ Replace แทนที่จะ Remove โดยเลือกที่จะ Replace ด้วยค่าต่างในการทดลองนี้โดยเราพิจารณาใช้\n",
    "\n",
    "- ค่าเฉลี่ยของคอลัมน์ที่มี Missing values\n",
    "- ค่าที่มีความถี่สูงสุดของคอลัมน์ที่มี Missing values\n",
    "- Multivariate Imputation by Chained Equations(mice)\n",
    "- K-Nearest Neighbors (KNN) Imputer"
   ]
  },
  {
   "cell_type": "code",
   "execution_count": null,
   "metadata": {},
   "outputs": [],
   "source": [
    "df_vis = df.copy()\n",
    "df_impute =  df.copy()"
   ]
  },
  {
   "cell_type": "code",
   "execution_count": null,
   "metadata": {},
   "outputs": [],
   "source": [
    "def plotForImpute(df, feature, df2 = None, prefix = ['','']):\n",
    "    df = df.copy()\n",
    "    df_Electronic = df[df['music_genre'] == 'Electronic']\n",
    "    df_Anime = df[df['music_genre'] == 'Anime']\n",
    "    df_Jazz = df[df['music_genre'] == 'Jazz']\n",
    "    df_Alternative = df[df['music_genre'] == 'Alternative']\n",
    "    df_Country = df[df['music_genre'] == 'Country']\n",
    "    df_Blues = df[df['music_genre'] == 'Blues']\n",
    "    df_Rap = df[df['music_genre'] == 'Rap']\n",
    "    df_Rock = df[df['music_genre'] == 'Rock']\n",
    "    df_Classical = df[df['music_genre'] == 'Classical']\n",
    "    df_Hip_Hop = df[df['music_genre'] == 'Hip-Hop']\n",
    "    if type(df2) == type(None):\n",
    "        plotDflist = [df_Electronic, df_Anime, df_Jazz, df_Alternative, df_Country, df_Blues, df_Rap, df_Rock, df_Classical, df_Hip_Hop]\n",
    "        titlelist = ['Electronic', 'Anime', 'Jazz', 'Alternative', 'Country', 'Blues', 'Rap', 'Rock', 'Classical', 'Hip-Hop']\n",
    "        row , col = 2, 5\n",
    "        targetPlot = feature\n",
    "        imputeHists, axes = plt.subplots(row, col, figsize=(30, 10))\n",
    "    else :\n",
    "        df2 = df2.copy()\n",
    "        df2_Electronic = df2[df2['music_genre'] == 'Electronic']\n",
    "        df2_Anime = df2[df2['music_genre'] == 'Anime']\n",
    "        df2_Jazz = df2[df2['music_genre'] == 'Jazz']\n",
    "        df2_Alternative = df2[df2['music_genre'] == 'Alternative']\n",
    "        df2_Country = df2[df2['music_genre'] == 'Country']\n",
    "        df2_Blues = df2[df2['music_genre'] == 'Blues']\n",
    "        df2_Rap = df2[df2['music_genre'] == 'Rap']\n",
    "        df2_Rock = df2[df2['music_genre'] == 'Rock']\n",
    "        df2_Classical = df2[df2['music_genre'] == 'Classical']\n",
    "        df2_Hip_Hop = df2[df2['music_genre'] == 'Hip-Hop']\n",
    "        plotDflist = [df_Electronic, df2_Electronic, df_Anime, df2_Anime, df_Jazz, df2_Jazz, df_Alternative, df2_Alternative, df_Country, df2_Country, df_Blues, df2_Blues, df_Rap, df2_Rap, df_Rock, df2_Rock, df_Classical, df2_Classical, df_Hip_Hop, df2_Hip_Hop]\n",
    "        titlelist = ['Electronic', 'Electronic', 'Anime', 'Anime', 'Jazz', 'Jazz', 'Alternative', 'Alternative', 'Country', 'Country', 'Blues', 'Blues', 'Rap', 'Rap', 'Rock', 'Rock', 'Classical', 'Classical', 'Hip-Hop', 'Hip-Hop']\n",
    "        row , col = 5, 2\n",
    "        targetPlot = feature\n",
    "        imputeHists, axes = plt.subplots(2*row, col, figsize=(20, 60))\n",
    "    for i, df in enumerate(plotDflist):\n",
    "            ax = axes[i//col, i%col]\n",
    "            sns.histplot(df[targetPlot], ax=ax, color=snsPalette[0], kde=True)\n",
    "            if i%2 == 0:\n",
    "                ax.set_title(f'{prefix[0]}'+titlelist[i])\n",
    "            else:\n",
    "                ax.set_title(f'{prefix[1]}'+titlelist[i])\n",
    "            ax.set_xlabel(targetPlot)\n",
    "            ax.set_ylabel('Count')\n",
    "            ax.set_facecolor(axBGColor)\n",
    "    return imputeHists"
   ]
  },
  {
   "cell_type": "markdown",
   "metadata": {},
   "source": [
    "#### **Plotting Histogram**"
   ]
  },
  {
   "cell_type": "code",
   "execution_count": null,
   "metadata": {},
   "outputs": [],
   "source": [
    "imputeHists_tempo = plotForImpute(df_vis, 'tempo')"
   ]
  },
  {
   "cell_type": "code",
   "execution_count": null,
   "metadata": {},
   "outputs": [],
   "source": [
    "imputeHists_duration_ms = plotForImpute(df_vis, 'duration_ms')"
   ]
  },
  {
   "cell_type": "markdown",
   "metadata": {},
   "source": [
    "โดยเราจะ Plot Histogram ของคอลัมน์ที่มี Missing values ออกมาเพื่อพิจารณาการกระจายของตัวของข้อมูล โดยเราจะพยายามที่จะเลือก Method ในการ Replace ที่มีการกระจายของข้อมูลใกล้เคียงกับข้อมูลตั้งต้นมากที่สุดเพื่อไม่ให้การทำ Imputation ทำให้ข้อมูลไมาแสดงถึงการกระจายของข้อมูลจริง "
   ]
  },
  {
   "cell_type": "markdown",
   "metadata": {},
   "source": [
    "#### **Imputation Using Mean,Most Frequent**"
   ]
  },
  {
   "cell_type": "code",
   "execution_count": null,
   "metadata": {},
   "outputs": [],
   "source": [
    "imp_mean = SimpleImputer(missing_values=np.nan, strategy='mean')\n",
    "df_impute_mean = df_impute.copy()\n",
    "df_impute_mean['tempo'] = imp_mean.fit_transform(df_impute_mean[['tempo']])\n",
    "df_impute_mean['duration_ms'] = imp_mean.fit_transform(df_impute_mean[['duration_ms']])\n",
    "imputeHists_mean_tempo_compare = plotForImpute(df_vis , 'tempo', df_impute_mean, ['Original ','Imputed '])\n",
    "imputeHists_mean_duration_ms_compare = plotForImpute(df_vis , 'duration_ms', df_impute_mean, ['Original ','Imputed '])"
   ]
  },
  {
   "cell_type": "code",
   "execution_count": null,
   "metadata": {},
   "outputs": [],
   "source": [
    "imp_mode = SimpleImputer(missing_values=np.nan, strategy='most_frequent')\n",
    "df_impute_mode = df_impute.copy()\n",
    "df_impute_mode['tempo'] = imp_mode.fit_transform(df_impute_mode[['tempo']])\n",
    "df_impute_mode['duration_ms'] = imp_mode.fit_transform(df_impute_mode[['duration_ms']])\n",
    "imputeHists_mode_tempo_compare = plotForImpute(df_vis , 'tempo', df_impute_mode, ['Original ','Imputed '])\n",
    "imputeHists_mode_duration_ms_compare = plotForImpute(df_vis , 'duration_ms', df_impute_mode, ['Original ','Imputed '])"
   ]
  },
  {
   "cell_type": "markdown",
   "metadata": {},
   "source": [
    "From the histogram, we can see that the distribution of the data is not quite the same as before. So we decided not to use the mean and the most frequent value to impute the missing values."
   ]
  },
  {
   "cell_type": "markdown",
   "metadata": {},
   "source": [
    "#### **Imputation Using Multivariate Imputation by Chained Equations(mice)**"
   ]
  },
  {
   "cell_type": "code",
   "execution_count": null,
   "metadata": {},
   "outputs": [],
   "source": [
    "from impyute.imputation.cs import mice\n",
    "\n",
    "df_impute_mice = df_impute.copy()\n",
    "df_impute_mice.drop(['key','mode','music_genre'], axis=1, inplace=True)\n",
    "imputed_training=mice(df_impute_mice.values)"
   ]
  },
  {
   "cell_type": "code",
   "execution_count": null,
   "metadata": {},
   "outputs": [],
   "source": [
    "df_impute_mice = pd.DataFrame(imputed_training, columns=df_impute_mice.columns)\n",
    "df_impute_mice['key'] = df_impute['key']\n",
    "df_impute_mice['mode'] = df_impute['mode']\n",
    "df_impute_mice['music_genre'] = df_impute['music_genre']\n",
    "df_impute_mice"
   ]
  },
  {
   "cell_type": "code",
   "execution_count": null,
   "metadata": {},
   "outputs": [],
   "source": [
    "imputeHists_mice_tempo_compare = plotForImpute(df_vis , 'tempo', df_impute_mice, ['Original ','Imputed '])"
   ]
  },
  {
   "cell_type": "code",
   "execution_count": null,
   "metadata": {},
   "outputs": [],
   "source": [
    "imputeHists_mice_duration_ms_compare = plotForImpute(df_vis , 'duration_ms', df_impute_mice, ['Original ','Imputed '])"
   ]
  },
  {
   "cell_type": "markdown",
   "metadata": {},
   "source": [
    "From the histogram, we can see that the distribution of the data is quite the same as before. So we decided to use the mice to impute the missing values."
   ]
  },
  {
   "cell_type": "markdown",
   "metadata": {},
   "source": [
    "#### **Imputation Using KNNImputer**"
   ]
  },
  {
   "cell_type": "markdown",
   "metadata": {},
   "source": [
    "##### **Search for Hyperparameter**"
   ]
  },
  {
   "cell_type": "code",
   "execution_count": null,
   "metadata": {},
   "outputs": [],
   "source": [
    "# Impute missing values\n",
    "df_impute_knn_find = df_impute.copy()\n",
    "df_impute_knn_find = pd.get_dummies(df_impute_knn_find, columns=['key','mode'], drop_first=True).dropna()"
   ]
  },
  {
   "cell_type": "code",
   "execution_count": null,
   "metadata": {},
   "outputs": [],
   "source": [
    "X = df_impute_knn_find.drop(['music_genre'], axis=1)\n",
    "y = df_impute_knn_find['music_genre']\n",
    "colX = X.columns\n",
    "toend = ['Electronic', 'Anime', 'Jazz', 'Alternative', 'Country', 'Rap',\n",
    "       'Blues', 'Rock', 'Classical', 'Hip-Hop']\n",
    "coltoend = [['music_genre']]\n",
    "y = y.apply(lambda x: toend.index(x))\n",
    "scaler = StandardScaler()\n",
    "X = scaler.fit_transform(X)\n",
    "\n",
    "KN_param = [{ 'n_neighbors' : range(0,6,1),\n",
    "             'weights' : ['uniform', 'distance'],\n",
    "              }]\n",
    "\n",
    "KN_clf = KNeighborsClassifier(n_jobs=-1)\n",
    "\n",
    "f1sc = make_scorer(f1_score, average='weighted')\n",
    "\n",
    "grid_KN_clf = GridSearchCV(KN_clf, \n",
    "                        KN_param,\n",
    "                        scoring=f1sc, \n",
    "                        refit=True,\n",
    "                        cv=4,\n",
    "                        n_jobs=-1,\n",
    "                        verbose=3,\n",
    "                        return_train_score=True)"
   ]
  },
  {
   "cell_type": "code",
   "execution_count": null,
   "metadata": {},
   "outputs": [],
   "source": [
    "# grid_KN_clf.fit(X, y)\n",
    "# print(\"tuned hpyerparameters :(best parameters) \",grid_KN_clf.best_params_)\n",
    "# print(\"score :\",grid_KN_clf.best_score_)\n",
    "\n",
    "\"\"\"\n",
    "Fitting 4 folds for each of 12 candidates, totalling 48 fits\n",
    "tuned hpyerparameters :(best parameters)  {'n_neighbors': 3, 'weights': 'uniform'}\n",
    "score : 0.41099356419921224\n",
    "\n",
    "Fitting 4 folds for each of 12 candidates, totalling 48 fits\n",
    "tuned hpyerparameters :(best parameters)  {'n_neighbors': 5, 'weights': 'uniform'}\n",
    "score : 0.4450642884772404\n",
    "\n",
    "Fitting 4 folds for each of 22 candidates, totalling 88 fits\n",
    "tuned hpyerparameters :(best parameters)  {'n_neighbors': 10, 'weights': 'uniform'}\n",
    "score : 0.4686828275311239\n",
    "\n",
    "Fitting 4 folds for each of 22 candidates, totalling 88 fits\n",
    "tuned hpyerparameters :(best parameters)  {'n_neighbors': 30, 'weights': 'uniform'}\n",
    "score : 0.4754055746692795\n",
    "\"\"\""
   ]
  },
  {
   "cell_type": "markdown",
   "metadata": {},
   "source": [
    "โดยหลังจากที่นำค่า K ที่เป็นไปได้มาทดลองแล้ว จะพบว่า ค่า K ที่ดีที่สุดคือ 3 ที่จะใช้ Histogram ในการทำ Imputation ให้มีการกระจายของข้อมูลใกล้เคียงกับข้อมูลตั้งต้นมากที่สุด ทั้งนี้ด้วยความที่ KNN เป็น Model ที่ได้รับผลกระทบจาก Outlier ค่อนข้างมากเมื่อ K เพิ่มขึ้น ด้วยเหตุที่ว่า มี Bias ที่สูงและ Variance ที่ต่ำ จึงเลือกใช้ K ที่เล็กที่สุด 3 ในการทำ Imputation"
   ]
  },
  {
   "cell_type": "markdown",
   "metadata": {},
   "source": [
    "##### **Impute**"
   ]
  },
  {
   "cell_type": "code",
   "execution_count": null,
   "metadata": {},
   "outputs": [],
   "source": [
    "# Impute missing values\n",
    "df_impute_knn = df_impute.copy()\n",
    "df_impute_knn = pd.get_dummies(df_impute_knn, columns=['key','mode','music_genre'], drop_first=True)\n",
    "col_knn = df_impute_knn.columns"
   ]
  },
  {
   "cell_type": "code",
   "execution_count": null,
   "metadata": {},
   "outputs": [],
   "source": [
    "scaler_knnimpute = StandardScaler()\n",
    "df_impute_knn = pd.DataFrame(scaler_knnimpute.fit_transform(df_impute_knn), columns=col_knn)\n",
    "KNNimputer = KNNImputer(n_neighbors=3, weights=\"uniform\")\n",
    "df_impute_knn = pd.DataFrame(KNNimputer.fit_transform(df_impute_knn), columns=col_knn)\n",
    "df_impute_knn = pd.DataFrame(scaler_knnimpute.inverse_transform(df_impute_knn), columns=col_knn)"
   ]
  },
  {
   "cell_type": "code",
   "execution_count": null,
   "metadata": {},
   "outputs": [],
   "source": [
    "duration_ms = df_impute_knn['duration_ms']\n",
    "tempo = df_impute_knn['tempo']\n",
    "df_impute_knn = df_impute.copy()\n",
    "df_impute_knn['duration_ms'] = duration_ms\n",
    "df_impute_knn['tempo'] = tempo\n",
    "df_impute_knn"
   ]
  },
  {
   "cell_type": "code",
   "execution_count": null,
   "metadata": {},
   "outputs": [],
   "source": [
    "imputeHists_KNN_tempo_compare = plotForImpute(df_vis , 'tempo', df_impute_knn, ['Original ','Imputed '])"
   ]
  },
  {
   "cell_type": "code",
   "execution_count": null,
   "metadata": {},
   "outputs": [],
   "source": [
    "imputeHists_KNN_duration_ms_compare = plotForImpute(df_vis , 'duration_ms', df_impute_knn, ['Original ','Imputed '])"
   ]
  },
  {
   "cell_type": "markdown",
   "metadata": {},
   "source": [
    "From the histogram, we can see that the distribution of the data is quite the same as before. So we decided to use the KNNImputer to impute the missing values."
   ]
  },
  {
   "cell_type": "markdown",
   "metadata": {},
   "source": [
    "#### **Conclusion**"
   ]
  },
  {
   "cell_type": "markdown",
   "metadata": {},
   "source": [
    "เนื่องจากการทำ Imputation ด้วย KNNImputer และ mice ได้ผลลัพธ์ที่ใกล้เคียงกับข้อมูลตั้งต้นมาก เราจะพิจารณาถึง Histogram ของข้อมูลโดยรวมและ Outlier ของข้อมูลเพิ่มเติม"
   ]
  },
  {
   "cell_type": "code",
   "execution_count": null,
   "metadata": {},
   "outputs": [],
   "source": [
    "coltoplot = ['duration_ms','tempo']\n",
    "dftoplot = [df_vis, df_impute_mice, df_impute_knn]\n",
    "titlelist = ['Original','MICE','KNN']\n",
    "NumHists_knn, axes = plt.subplots(2, 3, figsize=(15, 10))\n",
    "for i, df in enumerate(dftoplot):\n",
    "    for j, col in enumerate(coltoplot):\n",
    "        ax = axes[j, i]\n",
    "        sns.histplot(df[col], ax=ax, color=snsPalette[0], kde=True)\n",
    "        ax.set_title(f'{col} '+titlelist[i])\n",
    "        ax.set_xlabel(col)\n",
    "        ax.set_ylabel('Count')\n",
    "        ax.set_facecolor(axBGColor)"
   ]
  },
  {
   "cell_type": "code",
   "execution_count": null,
   "metadata": {},
   "outputs": [],
   "source": [
    "outlierplotstripOriginal = plotoutlierBarStrip(df_vis, 'Original','strip','notdetail')"
   ]
  },
  {
   "cell_type": "code",
   "execution_count": null,
   "metadata": {},
   "outputs": [],
   "source": [
    "outlierplotstripMice = plotoutlierBarStrip(df_impute_mice, 'KNN Impute','strip','notdetail')"
   ]
  },
  {
   "cell_type": "code",
   "execution_count": null,
   "metadata": {},
   "outputs": [],
   "source": [
    "outlierplotstripKNNimpute = plotoutlierBarStrip(df_impute_knn, 'KNN Impute','strip','notdetail')"
   ]
  },
  {
   "cell_type": "markdown",
   "metadata": {},
   "source": [
    "หลังจากพิจารณา Histogram ของข้อมูลโดยรวมและ Outlier ของข้อมูลแล้วพอว่าผลลัพธ์ที่ได้จากการทำ Imputation ด้วย KNNImputer มีความถูกต้องมากกว่าการทำ Imputation ด้วย Mean, Most Frequent และ mice จึงเลือกใช้ KNNImputer ในการทำ Imputation เป็นผลลัพธ์สุดท้าย"
   ]
  },
  {
   "cell_type": "code",
   "execution_count": null,
   "metadata": {},
   "outputs": [],
   "source": [
    "df_impute_knn.to_csv('Data/df_impute_knn.csv', index=False)"
   ]
  },
  {
   "cell_type": "markdown",
   "metadata": {},
   "source": [
    "### **Remove Outlier**"
   ]
  },
  {
   "cell_type": "markdown",
   "metadata": {},
   "source": [
    "##### **Import Data**"
   ]
  },
  {
   "cell_type": "code",
   "execution_count": 4,
   "metadata": {},
   "outputs": [
    {
     "data": {
      "text/html": [
       "<div>\n",
       "<style scoped>\n",
       "    .dataframe tbody tr th:only-of-type {\n",
       "        vertical-align: middle;\n",
       "    }\n",
       "\n",
       "    .dataframe tbody tr th {\n",
       "        vertical-align: top;\n",
       "    }\n",
       "\n",
       "    .dataframe thead th {\n",
       "        text-align: right;\n",
       "    }\n",
       "</style>\n",
       "<table border=\"1\" class=\"dataframe\">\n",
       "  <thead>\n",
       "    <tr style=\"text-align: right;\">\n",
       "      <th></th>\n",
       "      <th>popularity</th>\n",
       "      <th>acousticness</th>\n",
       "      <th>danceability</th>\n",
       "      <th>duration_ms</th>\n",
       "      <th>energy</th>\n",
       "      <th>instrumentalness</th>\n",
       "      <th>liveness</th>\n",
       "      <th>loudness</th>\n",
       "      <th>speechiness</th>\n",
       "      <th>tempo</th>\n",
       "      <th>valence</th>\n",
       "      <th>key</th>\n",
       "      <th>mode</th>\n",
       "      <th>music_genre</th>\n",
       "    </tr>\n",
       "  </thead>\n",
       "  <tbody>\n",
       "    <tr>\n",
       "      <th>0</th>\n",
       "      <td>27.0000</td>\n",
       "      <td>0.0047</td>\n",
       "      <td>0.6520</td>\n",
       "      <td>265662.3333</td>\n",
       "      <td>0.9410</td>\n",
       "      <td>0.7920</td>\n",
       "      <td>0.1150</td>\n",
       "      <td>-5.2010</td>\n",
       "      <td>0.0748</td>\n",
       "      <td>100.8890</td>\n",
       "      <td>0.7590</td>\n",
       "      <td>A#</td>\n",
       "      <td>Minor</td>\n",
       "      <td>Electronic</td>\n",
       "    </tr>\n",
       "    <tr>\n",
       "      <th>1</th>\n",
       "      <td>31.0000</td>\n",
       "      <td>0.0127</td>\n",
       "      <td>0.6220</td>\n",
       "      <td>218293.0000</td>\n",
       "      <td>0.8900</td>\n",
       "      <td>0.9500</td>\n",
       "      <td>0.1240</td>\n",
       "      <td>-7.0430</td>\n",
       "      <td>0.0300</td>\n",
       "      <td>115.0020</td>\n",
       "      <td>0.5310</td>\n",
       "      <td>D</td>\n",
       "      <td>Minor</td>\n",
       "      <td>Electronic</td>\n",
       "    </tr>\n",
       "    <tr>\n",
       "      <th>2</th>\n",
       "      <td>28.0000</td>\n",
       "      <td>0.0031</td>\n",
       "      <td>0.6200</td>\n",
       "      <td>215613.0000</td>\n",
       "      <td>0.7550</td>\n",
       "      <td>0.0118</td>\n",
       "      <td>0.5340</td>\n",
       "      <td>-4.6170</td>\n",
       "      <td>0.0345</td>\n",
       "      <td>127.9940</td>\n",
       "      <td>0.3330</td>\n",
       "      <td>G#</td>\n",
       "      <td>Major</td>\n",
       "      <td>Electronic</td>\n",
       "    </tr>\n",
       "    <tr>\n",
       "      <th>3</th>\n",
       "      <td>34.0000</td>\n",
       "      <td>0.0254</td>\n",
       "      <td>0.7740</td>\n",
       "      <td>166875.0000</td>\n",
       "      <td>0.7000</td>\n",
       "      <td>0.0025</td>\n",
       "      <td>0.1570</td>\n",
       "      <td>-4.4980</td>\n",
       "      <td>0.2390</td>\n",
       "      <td>128.0140</td>\n",
       "      <td>0.2700</td>\n",
       "      <td>C#</td>\n",
       "      <td>Major</td>\n",
       "      <td>Electronic</td>\n",
       "    </tr>\n",
       "    <tr>\n",
       "      <th>4</th>\n",
       "      <td>32.0000</td>\n",
       "      <td>0.0046</td>\n",
       "      <td>0.6380</td>\n",
       "      <td>222369.0000</td>\n",
       "      <td>0.5870</td>\n",
       "      <td>0.9090</td>\n",
       "      <td>0.1570</td>\n",
       "      <td>-6.2660</td>\n",
       "      <td>0.0413</td>\n",
       "      <td>145.0360</td>\n",
       "      <td>0.3230</td>\n",
       "      <td>F#</td>\n",
       "      <td>Major</td>\n",
       "      <td>Electronic</td>\n",
       "    </tr>\n",
       "  </tbody>\n",
       "</table>\n",
       "</div>"
      ],
      "text/plain": [
       "   popularity  acousticness  danceability  duration_ms  energy  \\\n",
       "0     27.0000        0.0047        0.6520  265662.3333  0.9410   \n",
       "1     31.0000        0.0127        0.6220  218293.0000  0.8900   \n",
       "2     28.0000        0.0031        0.6200  215613.0000  0.7550   \n",
       "3     34.0000        0.0254        0.7740  166875.0000  0.7000   \n",
       "4     32.0000        0.0046        0.6380  222369.0000  0.5870   \n",
       "\n",
       "   instrumentalness  liveness  loudness  speechiness    tempo  valence key  \\\n",
       "0            0.7920    0.1150   -5.2010       0.0748 100.8890   0.7590  A#   \n",
       "1            0.9500    0.1240   -7.0430       0.0300 115.0020   0.5310   D   \n",
       "2            0.0118    0.5340   -4.6170       0.0345 127.9940   0.3330  G#   \n",
       "3            0.0025    0.1570   -4.4980       0.2390 128.0140   0.2700  C#   \n",
       "4            0.9090    0.1570   -6.2660       0.0413 145.0360   0.3230  F#   \n",
       "\n",
       "    mode music_genre  \n",
       "0  Minor  Electronic  \n",
       "1  Minor  Electronic  \n",
       "2  Major  Electronic  \n",
       "3  Major  Electronic  \n",
       "4  Major  Electronic  "
      ]
     },
     "execution_count": 4,
     "metadata": {},
     "output_type": "execute_result"
    }
   ],
   "source": [
    "df = pd.read_csv('Data/df_impute_knn.csv')\n",
    "dfNum = df.select_dtypes(include=['float64'])\n",
    "dfCate = df.select_dtypes(include=['object'])\n",
    "dfOutlier = df.copy()\n",
    "df.head()"
   ]
  },
  {
   "cell_type": "markdown",
   "metadata": {},
   "source": [
    "##### **Performance Benchmark**"
   ]
  },
  {
   "cell_type": "code",
   "execution_count": 5,
   "metadata": {},
   "outputs": [
    {
     "name": "stdout",
     "output_type": "stream",
     "text": [
      "Logistic Regression Model (F1 score) : 0.524447965191827\n",
      "Decision Tree Model (F1 score) : 0.44075530167155413\n",
      "Random Forest Model (F1 score) : 0.5471645226550553\n",
      "KNN Model (F1 score) : 0.47193630572630274\n",
      "MLPC Model (F1 score) : 0.5821545904941349\n"
     ]
    }
   ],
   "source": [
    "modelBM, resultBM, confmatrixBM, f1BM = modelTestProcess(df, getdummy=1)"
   ]
  },
  {
   "cell_type": "markdown",
   "metadata": {},
   "source": [
    "We will be removing the outliers from the dataset using Anomaly Detection with Isolation Forest Algorithm, Local Outlier Factor Algorithm and KNN Algorithm."
   ]
  },
  {
   "cell_type": "markdown",
   "metadata": {},
   "source": [
    "#### **Isolation Forest**"
   ]
  },
  {
   "cell_type": "code",
   "execution_count": 16,
   "metadata": {},
   "outputs": [
    {
     "data": {
      "text/html": [
       "<div>\n",
       "<style scoped>\n",
       "    .dataframe tbody tr th:only-of-type {\n",
       "        vertical-align: middle;\n",
       "    }\n",
       "\n",
       "    .dataframe tbody tr th {\n",
       "        vertical-align: top;\n",
       "    }\n",
       "\n",
       "    .dataframe thead th {\n",
       "        text-align: right;\n",
       "    }\n",
       "</style>\n",
       "<table border=\"1\" class=\"dataframe\">\n",
       "  <thead>\n",
       "    <tr style=\"text-align: right;\">\n",
       "      <th></th>\n",
       "      <th>popularity</th>\n",
       "      <th>acousticness</th>\n",
       "      <th>danceability</th>\n",
       "      <th>duration_ms</th>\n",
       "      <th>energy</th>\n",
       "      <th>instrumentalness</th>\n",
       "      <th>liveness</th>\n",
       "      <th>loudness</th>\n",
       "      <th>speechiness</th>\n",
       "      <th>tempo</th>\n",
       "      <th>valence</th>\n",
       "      <th>key</th>\n",
       "      <th>mode</th>\n",
       "      <th>music_genre</th>\n",
       "    </tr>\n",
       "  </thead>\n",
       "  <tbody>\n",
       "    <tr>\n",
       "      <th>0</th>\n",
       "      <td>27.0000</td>\n",
       "      <td>0.0047</td>\n",
       "      <td>0.6520</td>\n",
       "      <td>265662.3333</td>\n",
       "      <td>0.9410</td>\n",
       "      <td>0.7920</td>\n",
       "      <td>0.1150</td>\n",
       "      <td>-5.2010</td>\n",
       "      <td>0.0748</td>\n",
       "      <td>100.8890</td>\n",
       "      <td>0.7590</td>\n",
       "      <td>A#</td>\n",
       "      <td>Minor</td>\n",
       "      <td>Electronic</td>\n",
       "    </tr>\n",
       "    <tr>\n",
       "      <th>1</th>\n",
       "      <td>31.0000</td>\n",
       "      <td>0.0127</td>\n",
       "      <td>0.6220</td>\n",
       "      <td>218293.0000</td>\n",
       "      <td>0.8900</td>\n",
       "      <td>0.9500</td>\n",
       "      <td>0.1240</td>\n",
       "      <td>-7.0430</td>\n",
       "      <td>0.0300</td>\n",
       "      <td>115.0020</td>\n",
       "      <td>0.5310</td>\n",
       "      <td>D</td>\n",
       "      <td>Minor</td>\n",
       "      <td>Electronic</td>\n",
       "    </tr>\n",
       "    <tr>\n",
       "      <th>2</th>\n",
       "      <td>28.0000</td>\n",
       "      <td>0.0031</td>\n",
       "      <td>0.6200</td>\n",
       "      <td>215613.0000</td>\n",
       "      <td>0.7550</td>\n",
       "      <td>0.0118</td>\n",
       "      <td>0.5340</td>\n",
       "      <td>-4.6170</td>\n",
       "      <td>0.0345</td>\n",
       "      <td>127.9940</td>\n",
       "      <td>0.3330</td>\n",
       "      <td>G#</td>\n",
       "      <td>Major</td>\n",
       "      <td>Electronic</td>\n",
       "    </tr>\n",
       "    <tr>\n",
       "      <th>3</th>\n",
       "      <td>34.0000</td>\n",
       "      <td>0.0254</td>\n",
       "      <td>0.7740</td>\n",
       "      <td>166875.0000</td>\n",
       "      <td>0.7000</td>\n",
       "      <td>0.0025</td>\n",
       "      <td>0.1570</td>\n",
       "      <td>-4.4980</td>\n",
       "      <td>0.2390</td>\n",
       "      <td>128.0140</td>\n",
       "      <td>0.2700</td>\n",
       "      <td>C#</td>\n",
       "      <td>Major</td>\n",
       "      <td>Electronic</td>\n",
       "    </tr>\n",
       "    <tr>\n",
       "      <th>4</th>\n",
       "      <td>32.0000</td>\n",
       "      <td>0.0046</td>\n",
       "      <td>0.6380</td>\n",
       "      <td>222369.0000</td>\n",
       "      <td>0.5870</td>\n",
       "      <td>0.9090</td>\n",
       "      <td>0.1570</td>\n",
       "      <td>-6.2660</td>\n",
       "      <td>0.0413</td>\n",
       "      <td>145.0360</td>\n",
       "      <td>0.3230</td>\n",
       "      <td>F#</td>\n",
       "      <td>Major</td>\n",
       "      <td>Electronic</td>\n",
       "    </tr>\n",
       "    <tr>\n",
       "      <th>...</th>\n",
       "      <td>...</td>\n",
       "      <td>...</td>\n",
       "      <td>...</td>\n",
       "      <td>...</td>\n",
       "      <td>...</td>\n",
       "      <td>...</td>\n",
       "      <td>...</td>\n",
       "      <td>...</td>\n",
       "      <td>...</td>\n",
       "      <td>...</td>\n",
       "      <td>...</td>\n",
       "      <td>...</td>\n",
       "      <td>...</td>\n",
       "      <td>...</td>\n",
       "    </tr>\n",
       "    <tr>\n",
       "      <th>49995</th>\n",
       "      <td>59.0000</td>\n",
       "      <td>0.0334</td>\n",
       "      <td>0.9130</td>\n",
       "      <td>210142.3333</td>\n",
       "      <td>0.5740</td>\n",
       "      <td>0.0000</td>\n",
       "      <td>0.1190</td>\n",
       "      <td>-7.0220</td>\n",
       "      <td>0.2980</td>\n",
       "      <td>98.0280</td>\n",
       "      <td>0.3300</td>\n",
       "      <td>C#</td>\n",
       "      <td>Major</td>\n",
       "      <td>Hip-Hop</td>\n",
       "    </tr>\n",
       "    <tr>\n",
       "      <th>49996</th>\n",
       "      <td>72.0000</td>\n",
       "      <td>0.1570</td>\n",
       "      <td>0.7090</td>\n",
       "      <td>251860.0000</td>\n",
       "      <td>0.3620</td>\n",
       "      <td>0.0000</td>\n",
       "      <td>0.1090</td>\n",
       "      <td>-9.8140</td>\n",
       "      <td>0.0550</td>\n",
       "      <td>122.0430</td>\n",
       "      <td>0.1130</td>\n",
       "      <td>B</td>\n",
       "      <td>Major</td>\n",
       "      <td>Hip-Hop</td>\n",
       "    </tr>\n",
       "    <tr>\n",
       "      <th>49997</th>\n",
       "      <td>51.0000</td>\n",
       "      <td>0.0060</td>\n",
       "      <td>0.6930</td>\n",
       "      <td>189483.0000</td>\n",
       "      <td>0.7630</td>\n",
       "      <td>0.0000</td>\n",
       "      <td>0.1430</td>\n",
       "      <td>-5.4430</td>\n",
       "      <td>0.1460</td>\n",
       "      <td>131.0790</td>\n",
       "      <td>0.3950</td>\n",
       "      <td>D</td>\n",
       "      <td>Major</td>\n",
       "      <td>Hip-Hop</td>\n",
       "    </tr>\n",
       "    <tr>\n",
       "      <th>49998</th>\n",
       "      <td>65.0000</td>\n",
       "      <td>0.0831</td>\n",
       "      <td>0.7820</td>\n",
       "      <td>262773.0000</td>\n",
       "      <td>0.4720</td>\n",
       "      <td>0.0000</td>\n",
       "      <td>0.1060</td>\n",
       "      <td>-5.0160</td>\n",
       "      <td>0.0441</td>\n",
       "      <td>75.8860</td>\n",
       "      <td>0.3540</td>\n",
       "      <td>G</td>\n",
       "      <td>Minor</td>\n",
       "      <td>Hip-Hop</td>\n",
       "    </tr>\n",
       "    <tr>\n",
       "      <th>49999</th>\n",
       "      <td>67.0000</td>\n",
       "      <td>0.1020</td>\n",
       "      <td>0.8620</td>\n",
       "      <td>267267.0000</td>\n",
       "      <td>0.6420</td>\n",
       "      <td>0.0000</td>\n",
       "      <td>0.2720</td>\n",
       "      <td>-13.6520</td>\n",
       "      <td>0.1010</td>\n",
       "      <td>99.2010</td>\n",
       "      <td>0.7650</td>\n",
       "      <td>F#</td>\n",
       "      <td>Minor</td>\n",
       "      <td>Hip-Hop</td>\n",
       "    </tr>\n",
       "  </tbody>\n",
       "</table>\n",
       "<p>50000 rows × 14 columns</p>\n",
       "</div>"
      ],
      "text/plain": [
       "       popularity  acousticness  danceability  duration_ms  energy  \\\n",
       "0         27.0000        0.0047        0.6520  265662.3333  0.9410   \n",
       "1         31.0000        0.0127        0.6220  218293.0000  0.8900   \n",
       "2         28.0000        0.0031        0.6200  215613.0000  0.7550   \n",
       "3         34.0000        0.0254        0.7740  166875.0000  0.7000   \n",
       "4         32.0000        0.0046        0.6380  222369.0000  0.5870   \n",
       "...           ...           ...           ...          ...     ...   \n",
       "49995     59.0000        0.0334        0.9130  210142.3333  0.5740   \n",
       "49996     72.0000        0.1570        0.7090  251860.0000  0.3620   \n",
       "49997     51.0000        0.0060        0.6930  189483.0000  0.7630   \n",
       "49998     65.0000        0.0831        0.7820  262773.0000  0.4720   \n",
       "49999     67.0000        0.1020        0.8620  267267.0000  0.6420   \n",
       "\n",
       "       instrumentalness  liveness  loudness  speechiness    tempo  valence  \\\n",
       "0                0.7920    0.1150   -5.2010       0.0748 100.8890   0.7590   \n",
       "1                0.9500    0.1240   -7.0430       0.0300 115.0020   0.5310   \n",
       "2                0.0118    0.5340   -4.6170       0.0345 127.9940   0.3330   \n",
       "3                0.0025    0.1570   -4.4980       0.2390 128.0140   0.2700   \n",
       "4                0.9090    0.1570   -6.2660       0.0413 145.0360   0.3230   \n",
       "...                 ...       ...       ...          ...      ...      ...   \n",
       "49995            0.0000    0.1190   -7.0220       0.2980  98.0280   0.3300   \n",
       "49996            0.0000    0.1090   -9.8140       0.0550 122.0430   0.1130   \n",
       "49997            0.0000    0.1430   -5.4430       0.1460 131.0790   0.3950   \n",
       "49998            0.0000    0.1060   -5.0160       0.0441  75.8860   0.3540   \n",
       "49999            0.0000    0.2720  -13.6520       0.1010  99.2010   0.7650   \n",
       "\n",
       "      key   mode music_genre  \n",
       "0      A#  Minor  Electronic  \n",
       "1       D  Minor  Electronic  \n",
       "2      G#  Major  Electronic  \n",
       "3      C#  Major  Electronic  \n",
       "4      F#  Major  Electronic  \n",
       "...    ..    ...         ...  \n",
       "49995  C#  Major     Hip-Hop  \n",
       "49996   B  Major     Hip-Hop  \n",
       "49997   D  Major     Hip-Hop  \n",
       "49998   G  Minor     Hip-Hop  \n",
       "49999  F#  Minor     Hip-Hop  \n",
       "\n",
       "[50000 rows x 14 columns]"
      ]
     },
     "execution_count": 16,
     "metadata": {},
     "output_type": "execute_result"
    }
   ],
   "source": [
    "dfOutlier_IF = dfOutlier.copy()\n",
    "dfOutlier_IF"
   ]
  },
  {
   "cell_type": "markdown",
   "metadata": {},
   "source": [
    "##### **Search for Hyperparameter**"
   ]
  },
  {
   "cell_type": "code",
   "execution_count": 17,
   "metadata": {},
   "outputs": [],
   "source": [
    "def IFparamtuning(df,param,getdummy=0,verbose=0,n_estimators=[100],contamination=['auto'],max_features=[1.0]):\n",
    "    verboseprint = print if verbose==1 else lambda *a, **k: None\n",
    "    df_model = df.copy()\n",
    "    if getdummy == 1:\n",
    "        df_model = pd.get_dummies(df_model, columns=['key','mode'],drop_first=True)\n",
    "    X = df_model.drop(['music_genre'], axis=1)\n",
    "    y = df_model['music_genre']\n",
    "    # Scaling\n",
    "    scaler = StandardScaler()\n",
    "    X = scaler.fit_transform(X)\n",
    "    iteration = 1\n",
    "    bestscore = 0\n",
    "    bestmodel = None\n",
    "    bestparam = None\n",
    "    classreport = None\n",
    "    print(f'All parameters are {param}') \n",
    "    for key, value in param.items():\n",
    "        if key == 'n_estimators':\n",
    "            n_estimators = value\n",
    "        elif key == 'contamination':\n",
    "            contamination = value\n",
    "        elif key == 'max_features':\n",
    "            max_features = value\n",
    "    print(f'Number of Iteration: {len(n_estimators)*len(contamination)*len(max_features)}')\n",
    "    print('-'*50)\n",
    "    for i in n_estimators:\n",
    "        for j in contamination:\n",
    "            for k in max_features:\n",
    "                verboseprint(f'Iteration number :{iteration}')\n",
    "                verboseprint(f'n_estimators = {i}, contamination = {j}, max_features = {k}')\n",
    "                IF_clf = IsolationForest(n_estimators=i, contamination=j, max_features=k, n_jobs=-1, random_state=1)\n",
    "                IF_clf.fit(X)\n",
    "                df_model['anomaly'] = IF_clf.predict(X)\n",
    "                outliers = df_model[df_model['anomaly'] == -1]\n",
    "                outlier_index = list(outliers.index)\n",
    "                verboseprint(f'Number of outliers is {len(outlier_index)}')\n",
    "                df_score = df_model[df_model['anomaly'] == 1].drop(['anomaly'], axis=1)\n",
    "                df_model = df_model.drop('anomaly', axis=1)\n",
    "                RF_clf = RandomForestClassifier(n_jobs=-1, random_state=1)\n",
    "                X_score = df_score.drop(['music_genre'], axis=1)\n",
    "                y_score = df_score['music_genre']\n",
    "                # Scaling\n",
    "                scalerScore = StandardScaler()\n",
    "                X_score = scalerScore.fit_transform(X_score)\n",
    "                # Splitting\n",
    "                X_train, X_test, y_train, y_test = train_test_split(X_score, y_score, test_size=0.2, random_state=1)\n",
    "                # Training\n",
    "                RF_clf = RF_clf.fit(X_train, y_train)\n",
    "                # Testing\n",
    "                y_pred = RF_clf.predict(X_test)\n",
    "                f1score = f1_score(y_test, y_pred, average='weighted')\n",
    "                classreport = classification_report(y_test, y_pred)\n",
    "                verboseprint(f'F1 score of Random Forest Model is {f1score}\\n','-'*50)\n",
    "                if f1score > bestscore:\n",
    "                    bestscore = f1score\n",
    "                    bestparam = {'n_estimators':i,'contamination':j,'max_features':k}\n",
    "                    bestmodel = IF_clf\n",
    "                iteration += 1\n",
    "    print(f'Best score is {bestscore} with parameters {bestparam}')\n",
    "    print(f'Best model is {bestmodel}')\n",
    "    return bestparam,classreport,bestmodel"
   ]
  },
  {
   "cell_type": "code",
   "execution_count": null,
   "metadata": {},
   "outputs": [],
   "source": [
    "\"\"\"\"\n",
    "{'n_estimators':[10, 20, 30, 40, 50],\n",
    "'contamination':['auto',0.01, 0.02, 0.03],\n",
    "'max_features':list(range(1,5,1))},\n",
    "Best score is 0.5557927172195718 with parameters {'n_estimators': 10, 'contamination': 0.02, 'max_features': 3}\n",
    "Best model is IsolationForest(contamination=0.02, max_features=3, n_estimators=10, n_jobs=-1,\n",
    "                random_state=1)\n",
    "\"\"\"\n",
    "# list(range(10,110,10))\n",
    "# parm,rep,mo = IFparamtuning(dfOutlier_IF,{'n_estimators':[10, 20, 30, 40, 50],\n",
    "#                                         'contamination':['auto',0.01, 0.02, 0.03],\n",
    "#                                         'max_features':list(range(1,5,1))},\n",
    "#                                         getdummy=1,\n",
    "#                                         verbose=1)\n",
    "pass"
   ]
  },
  {
   "cell_type": "markdown",
   "metadata": {},
   "source": [
    "##### **Remove outlier**"
   ]
  },
  {
   "cell_type": "code",
   "execution_count": 18,
   "metadata": {},
   "outputs": [],
   "source": [
    "X = dfOutlier_IF.copy()\n",
    "y = X['music_genre']\n",
    "X = pd.get_dummies(X, columns=['key','mode'], drop_first=True).drop(['music_genre'], axis=1)\n",
    "scaler_IF = StandardScaler()\n",
    "X = scaler_IF.fit_transform(X)"
   ]
  },
  {
   "cell_type": "code",
   "execution_count": 19,
   "metadata": {},
   "outputs": [],
   "source": [
    "IF_clf = IsolationForest(n_estimators=10, contamination=0.02,max_features=3, n_jobs=-1, random_state=1)\n",
    "IF_clf = IF_clf.fit(X,y)"
   ]
  },
  {
   "cell_type": "code",
   "execution_count": 20,
   "metadata": {},
   "outputs": [
    {
     "data": {
      "text/html": [
       "<div>\n",
       "<style scoped>\n",
       "    .dataframe tbody tr th:only-of-type {\n",
       "        vertical-align: middle;\n",
       "    }\n",
       "\n",
       "    .dataframe tbody tr th {\n",
       "        vertical-align: top;\n",
       "    }\n",
       "\n",
       "    .dataframe thead th {\n",
       "        text-align: right;\n",
       "    }\n",
       "</style>\n",
       "<table border=\"1\" class=\"dataframe\">\n",
       "  <thead>\n",
       "    <tr style=\"text-align: right;\">\n",
       "      <th></th>\n",
       "      <th>popularity</th>\n",
       "      <th>acousticness</th>\n",
       "      <th>danceability</th>\n",
       "      <th>duration_ms</th>\n",
       "      <th>energy</th>\n",
       "      <th>instrumentalness</th>\n",
       "      <th>liveness</th>\n",
       "      <th>loudness</th>\n",
       "      <th>speechiness</th>\n",
       "      <th>tempo</th>\n",
       "      <th>valence</th>\n",
       "      <th>key</th>\n",
       "      <th>mode</th>\n",
       "      <th>music_genre</th>\n",
       "      <th>anomalyscore</th>\n",
       "      <th>anomaly</th>\n",
       "    </tr>\n",
       "  </thead>\n",
       "  <tbody>\n",
       "    <tr>\n",
       "      <th>0</th>\n",
       "      <td>27.0000</td>\n",
       "      <td>0.0047</td>\n",
       "      <td>0.6520</td>\n",
       "      <td>265662.3333</td>\n",
       "      <td>0.9410</td>\n",
       "      <td>0.7920</td>\n",
       "      <td>0.1150</td>\n",
       "      <td>-5.2010</td>\n",
       "      <td>0.0748</td>\n",
       "      <td>100.8890</td>\n",
       "      <td>0.7590</td>\n",
       "      <td>A#</td>\n",
       "      <td>Minor</td>\n",
       "      <td>Electronic</td>\n",
       "      <td>-0.4890</td>\n",
       "      <td>1</td>\n",
       "    </tr>\n",
       "    <tr>\n",
       "      <th>1</th>\n",
       "      <td>31.0000</td>\n",
       "      <td>0.0127</td>\n",
       "      <td>0.6220</td>\n",
       "      <td>218293.0000</td>\n",
       "      <td>0.8900</td>\n",
       "      <td>0.9500</td>\n",
       "      <td>0.1240</td>\n",
       "      <td>-7.0430</td>\n",
       "      <td>0.0300</td>\n",
       "      <td>115.0020</td>\n",
       "      <td>0.5310</td>\n",
       "      <td>D</td>\n",
       "      <td>Minor</td>\n",
       "      <td>Electronic</td>\n",
       "      <td>-0.4205</td>\n",
       "      <td>1</td>\n",
       "    </tr>\n",
       "    <tr>\n",
       "      <th>2</th>\n",
       "      <td>28.0000</td>\n",
       "      <td>0.0031</td>\n",
       "      <td>0.6200</td>\n",
       "      <td>215613.0000</td>\n",
       "      <td>0.7550</td>\n",
       "      <td>0.0118</td>\n",
       "      <td>0.5340</td>\n",
       "      <td>-4.6170</td>\n",
       "      <td>0.0345</td>\n",
       "      <td>127.9940</td>\n",
       "      <td>0.3330</td>\n",
       "      <td>G#</td>\n",
       "      <td>Major</td>\n",
       "      <td>Electronic</td>\n",
       "      <td>-0.4477</td>\n",
       "      <td>1</td>\n",
       "    </tr>\n",
       "    <tr>\n",
       "      <th>3</th>\n",
       "      <td>34.0000</td>\n",
       "      <td>0.0254</td>\n",
       "      <td>0.7740</td>\n",
       "      <td>166875.0000</td>\n",
       "      <td>0.7000</td>\n",
       "      <td>0.0025</td>\n",
       "      <td>0.1570</td>\n",
       "      <td>-4.4980</td>\n",
       "      <td>0.2390</td>\n",
       "      <td>128.0140</td>\n",
       "      <td>0.2700</td>\n",
       "      <td>C#</td>\n",
       "      <td>Major</td>\n",
       "      <td>Electronic</td>\n",
       "      <td>-0.4225</td>\n",
       "      <td>1</td>\n",
       "    </tr>\n",
       "    <tr>\n",
       "      <th>4</th>\n",
       "      <td>32.0000</td>\n",
       "      <td>0.0046</td>\n",
       "      <td>0.6380</td>\n",
       "      <td>222369.0000</td>\n",
       "      <td>0.5870</td>\n",
       "      <td>0.9090</td>\n",
       "      <td>0.1570</td>\n",
       "      <td>-6.2660</td>\n",
       "      <td>0.0413</td>\n",
       "      <td>145.0360</td>\n",
       "      <td>0.3230</td>\n",
       "      <td>F#</td>\n",
       "      <td>Major</td>\n",
       "      <td>Electronic</td>\n",
       "      <td>-0.4431</td>\n",
       "      <td>1</td>\n",
       "    </tr>\n",
       "    <tr>\n",
       "      <th>...</th>\n",
       "      <td>...</td>\n",
       "      <td>...</td>\n",
       "      <td>...</td>\n",
       "      <td>...</td>\n",
       "      <td>...</td>\n",
       "      <td>...</td>\n",
       "      <td>...</td>\n",
       "      <td>...</td>\n",
       "      <td>...</td>\n",
       "      <td>...</td>\n",
       "      <td>...</td>\n",
       "      <td>...</td>\n",
       "      <td>...</td>\n",
       "      <td>...</td>\n",
       "      <td>...</td>\n",
       "      <td>...</td>\n",
       "    </tr>\n",
       "    <tr>\n",
       "      <th>49995</th>\n",
       "      <td>59.0000</td>\n",
       "      <td>0.0334</td>\n",
       "      <td>0.9130</td>\n",
       "      <td>210142.3333</td>\n",
       "      <td>0.5740</td>\n",
       "      <td>0.0000</td>\n",
       "      <td>0.1190</td>\n",
       "      <td>-7.0220</td>\n",
       "      <td>0.2980</td>\n",
       "      <td>98.0280</td>\n",
       "      <td>0.3300</td>\n",
       "      <td>C#</td>\n",
       "      <td>Major</td>\n",
       "      <td>Hip-Hop</td>\n",
       "      <td>-0.4424</td>\n",
       "      <td>1</td>\n",
       "    </tr>\n",
       "    <tr>\n",
       "      <th>49996</th>\n",
       "      <td>72.0000</td>\n",
       "      <td>0.1570</td>\n",
       "      <td>0.7090</td>\n",
       "      <td>251860.0000</td>\n",
       "      <td>0.3620</td>\n",
       "      <td>0.0000</td>\n",
       "      <td>0.1090</td>\n",
       "      <td>-9.8140</td>\n",
       "      <td>0.0550</td>\n",
       "      <td>122.0430</td>\n",
       "      <td>0.1130</td>\n",
       "      <td>B</td>\n",
       "      <td>Major</td>\n",
       "      <td>Hip-Hop</td>\n",
       "      <td>-0.5239</td>\n",
       "      <td>1</td>\n",
       "    </tr>\n",
       "    <tr>\n",
       "      <th>49997</th>\n",
       "      <td>51.0000</td>\n",
       "      <td>0.0060</td>\n",
       "      <td>0.6930</td>\n",
       "      <td>189483.0000</td>\n",
       "      <td>0.7630</td>\n",
       "      <td>0.0000</td>\n",
       "      <td>0.1430</td>\n",
       "      <td>-5.4430</td>\n",
       "      <td>0.1460</td>\n",
       "      <td>131.0790</td>\n",
       "      <td>0.3950</td>\n",
       "      <td>D</td>\n",
       "      <td>Major</td>\n",
       "      <td>Hip-Hop</td>\n",
       "      <td>-0.4153</td>\n",
       "      <td>1</td>\n",
       "    </tr>\n",
       "    <tr>\n",
       "      <th>49998</th>\n",
       "      <td>65.0000</td>\n",
       "      <td>0.0831</td>\n",
       "      <td>0.7820</td>\n",
       "      <td>262773.0000</td>\n",
       "      <td>0.4720</td>\n",
       "      <td>0.0000</td>\n",
       "      <td>0.1060</td>\n",
       "      <td>-5.0160</td>\n",
       "      <td>0.0441</td>\n",
       "      <td>75.8860</td>\n",
       "      <td>0.3540</td>\n",
       "      <td>G</td>\n",
       "      <td>Minor</td>\n",
       "      <td>Hip-Hop</td>\n",
       "      <td>-0.4689</td>\n",
       "      <td>1</td>\n",
       "    </tr>\n",
       "    <tr>\n",
       "      <th>49999</th>\n",
       "      <td>67.0000</td>\n",
       "      <td>0.1020</td>\n",
       "      <td>0.8620</td>\n",
       "      <td>267267.0000</td>\n",
       "      <td>0.6420</td>\n",
       "      <td>0.0000</td>\n",
       "      <td>0.2720</td>\n",
       "      <td>-13.6520</td>\n",
       "      <td>0.1010</td>\n",
       "      <td>99.2010</td>\n",
       "      <td>0.7650</td>\n",
       "      <td>F#</td>\n",
       "      <td>Minor</td>\n",
       "      <td>Hip-Hop</td>\n",
       "      <td>-0.4663</td>\n",
       "      <td>1</td>\n",
       "    </tr>\n",
       "  </tbody>\n",
       "</table>\n",
       "<p>50000 rows × 16 columns</p>\n",
       "</div>"
      ],
      "text/plain": [
       "       popularity  acousticness  danceability  duration_ms  energy  \\\n",
       "0         27.0000        0.0047        0.6520  265662.3333  0.9410   \n",
       "1         31.0000        0.0127        0.6220  218293.0000  0.8900   \n",
       "2         28.0000        0.0031        0.6200  215613.0000  0.7550   \n",
       "3         34.0000        0.0254        0.7740  166875.0000  0.7000   \n",
       "4         32.0000        0.0046        0.6380  222369.0000  0.5870   \n",
       "...           ...           ...           ...          ...     ...   \n",
       "49995     59.0000        0.0334        0.9130  210142.3333  0.5740   \n",
       "49996     72.0000        0.1570        0.7090  251860.0000  0.3620   \n",
       "49997     51.0000        0.0060        0.6930  189483.0000  0.7630   \n",
       "49998     65.0000        0.0831        0.7820  262773.0000  0.4720   \n",
       "49999     67.0000        0.1020        0.8620  267267.0000  0.6420   \n",
       "\n",
       "       instrumentalness  liveness  loudness  speechiness    tempo  valence  \\\n",
       "0                0.7920    0.1150   -5.2010       0.0748 100.8890   0.7590   \n",
       "1                0.9500    0.1240   -7.0430       0.0300 115.0020   0.5310   \n",
       "2                0.0118    0.5340   -4.6170       0.0345 127.9940   0.3330   \n",
       "3                0.0025    0.1570   -4.4980       0.2390 128.0140   0.2700   \n",
       "4                0.9090    0.1570   -6.2660       0.0413 145.0360   0.3230   \n",
       "...                 ...       ...       ...          ...      ...      ...   \n",
       "49995            0.0000    0.1190   -7.0220       0.2980  98.0280   0.3300   \n",
       "49996            0.0000    0.1090   -9.8140       0.0550 122.0430   0.1130   \n",
       "49997            0.0000    0.1430   -5.4430       0.1460 131.0790   0.3950   \n",
       "49998            0.0000    0.1060   -5.0160       0.0441  75.8860   0.3540   \n",
       "49999            0.0000    0.2720  -13.6520       0.1010  99.2010   0.7650   \n",
       "\n",
       "      key   mode music_genre  anomalyscore  anomaly  \n",
       "0      A#  Minor  Electronic       -0.4890        1  \n",
       "1       D  Minor  Electronic       -0.4205        1  \n",
       "2      G#  Major  Electronic       -0.4477        1  \n",
       "3      C#  Major  Electronic       -0.4225        1  \n",
       "4      F#  Major  Electronic       -0.4431        1  \n",
       "...    ..    ...         ...           ...      ...  \n",
       "49995  C#  Major     Hip-Hop       -0.4424        1  \n",
       "49996   B  Major     Hip-Hop       -0.5239        1  \n",
       "49997   D  Major     Hip-Hop       -0.4153        1  \n",
       "49998   G  Minor     Hip-Hop       -0.4689        1  \n",
       "49999  F#  Minor     Hip-Hop       -0.4663        1  \n",
       "\n",
       "[50000 rows x 16 columns]"
      ]
     },
     "execution_count": 20,
     "metadata": {},
     "output_type": "execute_result"
    }
   ],
   "source": [
    "dfOutlier_IF['anomalyscore'] = IF_clf.score_samples(X)\n",
    "dfOutlier_IF['anomaly']= IF_clf.predict(X)\n",
    "dfOutlier_IF"
   ]
  },
  {
   "cell_type": "code",
   "execution_count": 21,
   "metadata": {},
   "outputs": [
    {
     "name": "stdout",
     "output_type": "stream",
     "text": [
      " 1    49000\n",
      "-1     1000\n",
      "Name: anomaly, dtype: int64\n"
     ]
    },
    {
     "data": {
      "text/html": [
       "<div>\n",
       "<style scoped>\n",
       "    .dataframe tbody tr th:only-of-type {\n",
       "        vertical-align: middle;\n",
       "    }\n",
       "\n",
       "    .dataframe tbody tr th {\n",
       "        vertical-align: top;\n",
       "    }\n",
       "\n",
       "    .dataframe thead th {\n",
       "        text-align: right;\n",
       "    }\n",
       "</style>\n",
       "<table border=\"1\" class=\"dataframe\">\n",
       "  <thead>\n",
       "    <tr style=\"text-align: right;\">\n",
       "      <th></th>\n",
       "      <th>popularity</th>\n",
       "      <th>acousticness</th>\n",
       "      <th>danceability</th>\n",
       "      <th>duration_ms</th>\n",
       "      <th>energy</th>\n",
       "      <th>instrumentalness</th>\n",
       "      <th>liveness</th>\n",
       "      <th>loudness</th>\n",
       "      <th>speechiness</th>\n",
       "      <th>tempo</th>\n",
       "      <th>valence</th>\n",
       "      <th>key</th>\n",
       "      <th>mode</th>\n",
       "      <th>music_genre</th>\n",
       "      <th>anomalyscore</th>\n",
       "      <th>anomaly</th>\n",
       "    </tr>\n",
       "  </thead>\n",
       "  <tbody>\n",
       "    <tr>\n",
       "      <th>104</th>\n",
       "      <td>33.0000</td>\n",
       "      <td>0.0030</td>\n",
       "      <td>0.4500</td>\n",
       "      <td>234698.0000</td>\n",
       "      <td>0.9150</td>\n",
       "      <td>0.4460</td>\n",
       "      <td>0.7710</td>\n",
       "      <td>-1.4040</td>\n",
       "      <td>0.2360</td>\n",
       "      <td>137.9480</td>\n",
       "      <td>0.1560</td>\n",
       "      <td>F</td>\n",
       "      <td>Minor</td>\n",
       "      <td>Electronic</td>\n",
       "      <td>-0.5545</td>\n",
       "      <td>-1</td>\n",
       "    </tr>\n",
       "    <tr>\n",
       "      <th>194</th>\n",
       "      <td>36.0000</td>\n",
       "      <td>0.3420</td>\n",
       "      <td>0.7260</td>\n",
       "      <td>360200.0000</td>\n",
       "      <td>0.8700</td>\n",
       "      <td>0.9020</td>\n",
       "      <td>0.1210</td>\n",
       "      <td>-6.5060</td>\n",
       "      <td>0.0997</td>\n",
       "      <td>141.9620</td>\n",
       "      <td>0.6770</td>\n",
       "      <td>F</td>\n",
       "      <td>Minor</td>\n",
       "      <td>Electronic</td>\n",
       "      <td>-0.5632</td>\n",
       "      <td>-1</td>\n",
       "    </tr>\n",
       "    <tr>\n",
       "      <th>273</th>\n",
       "      <td>42.0000</td>\n",
       "      <td>0.7600</td>\n",
       "      <td>0.7280</td>\n",
       "      <td>227022.0000</td>\n",
       "      <td>0.5410</td>\n",
       "      <td>0.0000</td>\n",
       "      <td>0.0925</td>\n",
       "      <td>-7.4230</td>\n",
       "      <td>0.0722</td>\n",
       "      <td>126.0820</td>\n",
       "      <td>0.5580</td>\n",
       "      <td>F</td>\n",
       "      <td>Minor</td>\n",
       "      <td>Electronic</td>\n",
       "      <td>-0.5674</td>\n",
       "      <td>-1</td>\n",
       "    </tr>\n",
       "    <tr>\n",
       "      <th>337</th>\n",
       "      <td>44.0000</td>\n",
       "      <td>0.2680</td>\n",
       "      <td>0.5030</td>\n",
       "      <td>244400.0000</td>\n",
       "      <td>0.9520</td>\n",
       "      <td>0.2720</td>\n",
       "      <td>0.8750</td>\n",
       "      <td>-9.3080</td>\n",
       "      <td>0.5720</td>\n",
       "      <td>126.3450</td>\n",
       "      <td>0.1740</td>\n",
       "      <td>C#</td>\n",
       "      <td>Major</td>\n",
       "      <td>Electronic</td>\n",
       "      <td>-0.5544</td>\n",
       "      <td>-1</td>\n",
       "    </tr>\n",
       "    <tr>\n",
       "      <th>376</th>\n",
       "      <td>25.0000</td>\n",
       "      <td>0.4800</td>\n",
       "      <td>0.8900</td>\n",
       "      <td>200960.0000</td>\n",
       "      <td>0.8560</td>\n",
       "      <td>0.2160</td>\n",
       "      <td>0.4330</td>\n",
       "      <td>-6.7080</td>\n",
       "      <td>0.1360</td>\n",
       "      <td>122.6530</td>\n",
       "      <td>0.9190</td>\n",
       "      <td>F</td>\n",
       "      <td>Major</td>\n",
       "      <td>Electronic</td>\n",
       "      <td>-0.6074</td>\n",
       "      <td>-1</td>\n",
       "    </tr>\n",
       "    <tr>\n",
       "      <th>...</th>\n",
       "      <td>...</td>\n",
       "      <td>...</td>\n",
       "      <td>...</td>\n",
       "      <td>...</td>\n",
       "      <td>...</td>\n",
       "      <td>...</td>\n",
       "      <td>...</td>\n",
       "      <td>...</td>\n",
       "      <td>...</td>\n",
       "      <td>...</td>\n",
       "      <td>...</td>\n",
       "      <td>...</td>\n",
       "      <td>...</td>\n",
       "      <td>...</td>\n",
       "      <td>...</td>\n",
       "      <td>...</td>\n",
       "    </tr>\n",
       "    <tr>\n",
       "      <th>49350</th>\n",
       "      <td>64.0000</td>\n",
       "      <td>0.5100</td>\n",
       "      <td>0.5430</td>\n",
       "      <td>237000.0000</td>\n",
       "      <td>0.5720</td>\n",
       "      <td>0.0000</td>\n",
       "      <td>0.2800</td>\n",
       "      <td>-8.9740</td>\n",
       "      <td>0.3380</td>\n",
       "      <td>89.3860</td>\n",
       "      <td>0.5690</td>\n",
       "      <td>B</td>\n",
       "      <td>Major</td>\n",
       "      <td>Hip-Hop</td>\n",
       "      <td>-0.5594</td>\n",
       "      <td>-1</td>\n",
       "    </tr>\n",
       "    <tr>\n",
       "      <th>49409</th>\n",
       "      <td>81.0000</td>\n",
       "      <td>0.1170</td>\n",
       "      <td>0.8540</td>\n",
       "      <td>225773.0000</td>\n",
       "      <td>0.4630</td>\n",
       "      <td>0.0000</td>\n",
       "      <td>0.3540</td>\n",
       "      <td>-6.1590</td>\n",
       "      <td>0.1370</td>\n",
       "      <td>120.0240</td>\n",
       "      <td>0.5490</td>\n",
       "      <td>F</td>\n",
       "      <td>Major</td>\n",
       "      <td>Hip-Hop</td>\n",
       "      <td>-0.5798</td>\n",
       "      <td>-1</td>\n",
       "    </tr>\n",
       "    <tr>\n",
       "      <th>49430</th>\n",
       "      <td>48.0000</td>\n",
       "      <td>0.7930</td>\n",
       "      <td>0.5890</td>\n",
       "      <td>52907.0000</td>\n",
       "      <td>0.3910</td>\n",
       "      <td>0.0000</td>\n",
       "      <td>0.9320</td>\n",
       "      <td>-15.6810</td>\n",
       "      <td>0.9320</td>\n",
       "      <td>89.0460</td>\n",
       "      <td>0.7210</td>\n",
       "      <td>F#</td>\n",
       "      <td>Minor</td>\n",
       "      <td>Hip-Hop</td>\n",
       "      <td>-0.5750</td>\n",
       "      <td>-1</td>\n",
       "    </tr>\n",
       "    <tr>\n",
       "      <th>49895</th>\n",
       "      <td>79.0000</td>\n",
       "      <td>0.1610</td>\n",
       "      <td>0.7530</td>\n",
       "      <td>209213.0000</td>\n",
       "      <td>0.6600</td>\n",
       "      <td>0.0000</td>\n",
       "      <td>0.2360</td>\n",
       "      <td>-6.5420</td>\n",
       "      <td>0.1330</td>\n",
       "      <td>95.0030</td>\n",
       "      <td>0.1820</td>\n",
       "      <td>F</td>\n",
       "      <td>Major</td>\n",
       "      <td>Hip-Hop</td>\n",
       "      <td>-0.5767</td>\n",
       "      <td>-1</td>\n",
       "    </tr>\n",
       "    <tr>\n",
       "      <th>49956</th>\n",
       "      <td>74.0000</td>\n",
       "      <td>0.0124</td>\n",
       "      <td>0.4120</td>\n",
       "      <td>229467.0000</td>\n",
       "      <td>0.9190</td>\n",
       "      <td>0.0601</td>\n",
       "      <td>0.4240</td>\n",
       "      <td>-7.2910</td>\n",
       "      <td>0.1840</td>\n",
       "      <td>166.3670</td>\n",
       "      <td>0.5720</td>\n",
       "      <td>F</td>\n",
       "      <td>Major</td>\n",
       "      <td>Hip-Hop</td>\n",
       "      <td>-0.6148</td>\n",
       "      <td>-1</td>\n",
       "    </tr>\n",
       "  </tbody>\n",
       "</table>\n",
       "<p>1000 rows × 16 columns</p>\n",
       "</div>"
      ],
      "text/plain": [
       "       popularity  acousticness  danceability  duration_ms  energy  \\\n",
       "104       33.0000        0.0030        0.4500  234698.0000  0.9150   \n",
       "194       36.0000        0.3420        0.7260  360200.0000  0.8700   \n",
       "273       42.0000        0.7600        0.7280  227022.0000  0.5410   \n",
       "337       44.0000        0.2680        0.5030  244400.0000  0.9520   \n",
       "376       25.0000        0.4800        0.8900  200960.0000  0.8560   \n",
       "...           ...           ...           ...          ...     ...   \n",
       "49350     64.0000        0.5100        0.5430  237000.0000  0.5720   \n",
       "49409     81.0000        0.1170        0.8540  225773.0000  0.4630   \n",
       "49430     48.0000        0.7930        0.5890   52907.0000  0.3910   \n",
       "49895     79.0000        0.1610        0.7530  209213.0000  0.6600   \n",
       "49956     74.0000        0.0124        0.4120  229467.0000  0.9190   \n",
       "\n",
       "       instrumentalness  liveness  loudness  speechiness    tempo  valence  \\\n",
       "104              0.4460    0.7710   -1.4040       0.2360 137.9480   0.1560   \n",
       "194              0.9020    0.1210   -6.5060       0.0997 141.9620   0.6770   \n",
       "273              0.0000    0.0925   -7.4230       0.0722 126.0820   0.5580   \n",
       "337              0.2720    0.8750   -9.3080       0.5720 126.3450   0.1740   \n",
       "376              0.2160    0.4330   -6.7080       0.1360 122.6530   0.9190   \n",
       "...                 ...       ...       ...          ...      ...      ...   \n",
       "49350            0.0000    0.2800   -8.9740       0.3380  89.3860   0.5690   \n",
       "49409            0.0000    0.3540   -6.1590       0.1370 120.0240   0.5490   \n",
       "49430            0.0000    0.9320  -15.6810       0.9320  89.0460   0.7210   \n",
       "49895            0.0000    0.2360   -6.5420       0.1330  95.0030   0.1820   \n",
       "49956            0.0601    0.4240   -7.2910       0.1840 166.3670   0.5720   \n",
       "\n",
       "      key   mode music_genre  anomalyscore  anomaly  \n",
       "104     F  Minor  Electronic       -0.5545       -1  \n",
       "194     F  Minor  Electronic       -0.5632       -1  \n",
       "273     F  Minor  Electronic       -0.5674       -1  \n",
       "337    C#  Major  Electronic       -0.5544       -1  \n",
       "376     F  Major  Electronic       -0.6074       -1  \n",
       "...    ..    ...         ...           ...      ...  \n",
       "49350   B  Major     Hip-Hop       -0.5594       -1  \n",
       "49409   F  Major     Hip-Hop       -0.5798       -1  \n",
       "49430  F#  Minor     Hip-Hop       -0.5750       -1  \n",
       "49895   F  Major     Hip-Hop       -0.5767       -1  \n",
       "49956   F  Major     Hip-Hop       -0.6148       -1  \n",
       "\n",
       "[1000 rows x 16 columns]"
      ]
     },
     "execution_count": 21,
     "metadata": {},
     "output_type": "execute_result"
    }
   ],
   "source": [
    "outliers=dfOutlier_IF.loc[dfOutlier_IF['anomaly']==-1]\n",
    "outlier_index=list(outliers.index)\n",
    "print(dfOutlier_IF['anomaly'].value_counts())\n",
    "outliers"
   ]
  },
  {
   "cell_type": "code",
   "execution_count": 22,
   "metadata": {},
   "outputs": [
    {
     "name": "stdout",
     "output_type": "stream",
     "text": [
      "<class 'pandas.core.frame.DataFrame'>\n",
      "Int64Index: 49000 entries, 0 to 49999\n",
      "Data columns (total 14 columns):\n",
      " #   Column            Non-Null Count  Dtype  \n",
      "---  ------            --------------  -----  \n",
      " 0   popularity        49000 non-null  float64\n",
      " 1   acousticness      49000 non-null  float64\n",
      " 2   danceability      49000 non-null  float64\n",
      " 3   duration_ms       49000 non-null  float64\n",
      " 4   energy            49000 non-null  float64\n",
      " 5   instrumentalness  49000 non-null  float64\n",
      " 6   liveness          49000 non-null  float64\n",
      " 7   loudness          49000 non-null  float64\n",
      " 8   speechiness       49000 non-null  float64\n",
      " 9   tempo             49000 non-null  float64\n",
      " 10  valence           49000 non-null  float64\n",
      " 11  key               49000 non-null  object \n",
      " 12  mode              49000 non-null  object \n",
      " 13  music_genre       49000 non-null  object \n",
      "dtypes: float64(11), object(3)\n",
      "memory usage: 5.6+ MB\n"
     ]
    }
   ],
   "source": [
    "df_outliertest_IF = dfOutlier_IF[dfOutlier_IF['anomaly']==1].drop(['anomaly','anomalyscore'], axis=1)\n",
    "df_outliertest_IF.info()"
   ]
  },
  {
   "cell_type": "code",
   "execution_count": 23,
   "metadata": {},
   "outputs": [
    {
     "data": {
      "image/png": "[encoded data removed]",
      "text/plain": [
       "<Figure size 2000x1200 with 11 Axes>"
      ]
     },
     "metadata": {},
     "output_type": "display_data"
    }
   ],
   "source": [
    "outlierplotstripALL, axes = plt.subplots(2, 6, figsize=(20, 12))\n",
    "outlierplotstripALL.delaxes(axes[1,5])\n",
    "for idx, col in enumerate(dfNum.columns):\n",
    "    sns.stripplot(x=df_outliertest_IF[col],ax=axes[idx//6, idx%6])\n",
    "    plt.title(col + ' (strip)')"
   ]
  },
  {
   "cell_type": "markdown",
   "metadata": {},
   "source": [
    "##### **Performance**"
   ]
  },
  {
   "cell_type": "code",
   "execution_count": 24,
   "metadata": {},
   "outputs": [
    {
     "name": "stdout",
     "output_type": "stream",
     "text": [
      "Logistic Regression Model (F1 score) : 0.5286073556773678\n",
      "Decision Tree Model (F1 score) : 0.4387320841893981\n",
      "Random Forest Model (F1 score) : 0.5557927172195718\n",
      "KNN Model (F1 score) : 0.46617800501770573\n",
      "MLPC Model (F1 score) : 0.5852861254405154\n"
     ]
    }
   ],
   "source": [
    "modelBM_IF, resultBM_IF, confmatrixBM_IF, f1BM_IF = modelTestProcess(df_outliertest_IF, getdummy=1)"
   ]
  },
  {
   "cell_type": "markdown",
   "metadata": {},
   "source": [
    "#### **Local Outlier Factor**"
   ]
  },
  {
   "cell_type": "code",
   "execution_count": 25,
   "metadata": {},
   "outputs": [
    {
     "data": {
      "text/html": [
       "<div>\n",
       "<style scoped>\n",
       "    .dataframe tbody tr th:only-of-type {\n",
       "        vertical-align: middle;\n",
       "    }\n",
       "\n",
       "    .dataframe tbody tr th {\n",
       "        vertical-align: top;\n",
       "    }\n",
       "\n",
       "    .dataframe thead th {\n",
       "        text-align: right;\n",
       "    }\n",
       "</style>\n",
       "<table border=\"1\" class=\"dataframe\">\n",
       "  <thead>\n",
       "    <tr style=\"text-align: right;\">\n",
       "      <th></th>\n",
       "      <th>popularity</th>\n",
       "      <th>acousticness</th>\n",
       "      <th>danceability</th>\n",
       "      <th>duration_ms</th>\n",
       "      <th>energy</th>\n",
       "      <th>instrumentalness</th>\n",
       "      <th>liveness</th>\n",
       "      <th>loudness</th>\n",
       "      <th>speechiness</th>\n",
       "      <th>tempo</th>\n",
       "      <th>...</th>\n",
       "      <th>key_C</th>\n",
       "      <th>key_C#</th>\n",
       "      <th>key_D</th>\n",
       "      <th>key_D#</th>\n",
       "      <th>key_E</th>\n",
       "      <th>key_F</th>\n",
       "      <th>key_F#</th>\n",
       "      <th>key_G</th>\n",
       "      <th>key_G#</th>\n",
       "      <th>mode_Minor</th>\n",
       "    </tr>\n",
       "  </thead>\n",
       "  <tbody>\n",
       "    <tr>\n",
       "      <th>0</th>\n",
       "      <td>27.0000</td>\n",
       "      <td>0.0047</td>\n",
       "      <td>0.6520</td>\n",
       "      <td>265662.3333</td>\n",
       "      <td>0.9410</td>\n",
       "      <td>0.7920</td>\n",
       "      <td>0.1150</td>\n",
       "      <td>-5.2010</td>\n",
       "      <td>0.0748</td>\n",
       "      <td>100.8890</td>\n",
       "      <td>...</td>\n",
       "      <td>0</td>\n",
       "      <td>0</td>\n",
       "      <td>0</td>\n",
       "      <td>0</td>\n",
       "      <td>0</td>\n",
       "      <td>0</td>\n",
       "      <td>0</td>\n",
       "      <td>0</td>\n",
       "      <td>0</td>\n",
       "      <td>1</td>\n",
       "    </tr>\n",
       "    <tr>\n",
       "      <th>1</th>\n",
       "      <td>31.0000</td>\n",
       "      <td>0.0127</td>\n",
       "      <td>0.6220</td>\n",
       "      <td>218293.0000</td>\n",
       "      <td>0.8900</td>\n",
       "      <td>0.9500</td>\n",
       "      <td>0.1240</td>\n",
       "      <td>-7.0430</td>\n",
       "      <td>0.0300</td>\n",
       "      <td>115.0020</td>\n",
       "      <td>...</td>\n",
       "      <td>0</td>\n",
       "      <td>0</td>\n",
       "      <td>1</td>\n",
       "      <td>0</td>\n",
       "      <td>0</td>\n",
       "      <td>0</td>\n",
       "      <td>0</td>\n",
       "      <td>0</td>\n",
       "      <td>0</td>\n",
       "      <td>1</td>\n",
       "    </tr>\n",
       "    <tr>\n",
       "      <th>2</th>\n",
       "      <td>28.0000</td>\n",
       "      <td>0.0031</td>\n",
       "      <td>0.6200</td>\n",
       "      <td>215613.0000</td>\n",
       "      <td>0.7550</td>\n",
       "      <td>0.0118</td>\n",
       "      <td>0.5340</td>\n",
       "      <td>-4.6170</td>\n",
       "      <td>0.0345</td>\n",
       "      <td>127.9940</td>\n",
       "      <td>...</td>\n",
       "      <td>0</td>\n",
       "      <td>0</td>\n",
       "      <td>0</td>\n",
       "      <td>0</td>\n",
       "      <td>0</td>\n",
       "      <td>0</td>\n",
       "      <td>0</td>\n",
       "      <td>0</td>\n",
       "      <td>1</td>\n",
       "      <td>0</td>\n",
       "    </tr>\n",
       "    <tr>\n",
       "      <th>3</th>\n",
       "      <td>34.0000</td>\n",
       "      <td>0.0254</td>\n",
       "      <td>0.7740</td>\n",
       "      <td>166875.0000</td>\n",
       "      <td>0.7000</td>\n",
       "      <td>0.0025</td>\n",
       "      <td>0.1570</td>\n",
       "      <td>-4.4980</td>\n",
       "      <td>0.2390</td>\n",
       "      <td>128.0140</td>\n",
       "      <td>...</td>\n",
       "      <td>0</td>\n",
       "      <td>1</td>\n",
       "      <td>0</td>\n",
       "      <td>0</td>\n",
       "      <td>0</td>\n",
       "      <td>0</td>\n",
       "      <td>0</td>\n",
       "      <td>0</td>\n",
       "      <td>0</td>\n",
       "      <td>0</td>\n",
       "    </tr>\n",
       "    <tr>\n",
       "      <th>4</th>\n",
       "      <td>32.0000</td>\n",
       "      <td>0.0046</td>\n",
       "      <td>0.6380</td>\n",
       "      <td>222369.0000</td>\n",
       "      <td>0.5870</td>\n",
       "      <td>0.9090</td>\n",
       "      <td>0.1570</td>\n",
       "      <td>-6.2660</td>\n",
       "      <td>0.0413</td>\n",
       "      <td>145.0360</td>\n",
       "      <td>...</td>\n",
       "      <td>0</td>\n",
       "      <td>0</td>\n",
       "      <td>0</td>\n",
       "      <td>0</td>\n",
       "      <td>0</td>\n",
       "      <td>0</td>\n",
       "      <td>1</td>\n",
       "      <td>0</td>\n",
       "      <td>0</td>\n",
       "      <td>0</td>\n",
       "    </tr>\n",
       "    <tr>\n",
       "      <th>...</th>\n",
       "      <td>...</td>\n",
       "      <td>...</td>\n",
       "      <td>...</td>\n",
       "      <td>...</td>\n",
       "      <td>...</td>\n",
       "      <td>...</td>\n",
       "      <td>...</td>\n",
       "      <td>...</td>\n",
       "      <td>...</td>\n",
       "      <td>...</td>\n",
       "      <td>...</td>\n",
       "      <td>...</td>\n",
       "      <td>...</td>\n",
       "      <td>...</td>\n",
       "      <td>...</td>\n",
       "      <td>...</td>\n",
       "      <td>...</td>\n",
       "      <td>...</td>\n",
       "      <td>...</td>\n",
       "      <td>...</td>\n",
       "      <td>...</td>\n",
       "    </tr>\n",
       "    <tr>\n",
       "      <th>49995</th>\n",
       "      <td>59.0000</td>\n",
       "      <td>0.0334</td>\n",
       "      <td>0.9130</td>\n",
       "      <td>210142.3333</td>\n",
       "      <td>0.5740</td>\n",
       "      <td>0.0000</td>\n",
       "      <td>0.1190</td>\n",
       "      <td>-7.0220</td>\n",
       "      <td>0.2980</td>\n",
       "      <td>98.0280</td>\n",
       "      <td>...</td>\n",
       "      <td>0</td>\n",
       "      <td>1</td>\n",
       "      <td>0</td>\n",
       "      <td>0</td>\n",
       "      <td>0</td>\n",
       "      <td>0</td>\n",
       "      <td>0</td>\n",
       "      <td>0</td>\n",
       "      <td>0</td>\n",
       "      <td>0</td>\n",
       "    </tr>\n",
       "    <tr>\n",
       "      <th>49996</th>\n",
       "      <td>72.0000</td>\n",
       "      <td>0.1570</td>\n",
       "      <td>0.7090</td>\n",
       "      <td>251860.0000</td>\n",
       "      <td>0.3620</td>\n",
       "      <td>0.0000</td>\n",
       "      <td>0.1090</td>\n",
       "      <td>-9.8140</td>\n",
       "      <td>0.0550</td>\n",
       "      <td>122.0430</td>\n",
       "      <td>...</td>\n",
       "      <td>0</td>\n",
       "      <td>0</td>\n",
       "      <td>0</td>\n",
       "      <td>0</td>\n",
       "      <td>0</td>\n",
       "      <td>0</td>\n",
       "      <td>0</td>\n",
       "      <td>0</td>\n",
       "      <td>0</td>\n",
       "      <td>0</td>\n",
       "    </tr>\n",
       "    <tr>\n",
       "      <th>49997</th>\n",
       "      <td>51.0000</td>\n",
       "      <td>0.0060</td>\n",
       "      <td>0.6930</td>\n",
       "      <td>189483.0000</td>\n",
       "      <td>0.7630</td>\n",
       "      <td>0.0000</td>\n",
       "      <td>0.1430</td>\n",
       "      <td>-5.4430</td>\n",
       "      <td>0.1460</td>\n",
       "      <td>131.0790</td>\n",
       "      <td>...</td>\n",
       "      <td>0</td>\n",
       "      <td>0</td>\n",
       "      <td>1</td>\n",
       "      <td>0</td>\n",
       "      <td>0</td>\n",
       "      <td>0</td>\n",
       "      <td>0</td>\n",
       "      <td>0</td>\n",
       "      <td>0</td>\n",
       "      <td>0</td>\n",
       "    </tr>\n",
       "    <tr>\n",
       "      <th>49998</th>\n",
       "      <td>65.0000</td>\n",
       "      <td>0.0831</td>\n",
       "      <td>0.7820</td>\n",
       "      <td>262773.0000</td>\n",
       "      <td>0.4720</td>\n",
       "      <td>0.0000</td>\n",
       "      <td>0.1060</td>\n",
       "      <td>-5.0160</td>\n",
       "      <td>0.0441</td>\n",
       "      <td>75.8860</td>\n",
       "      <td>...</td>\n",
       "      <td>0</td>\n",
       "      <td>0</td>\n",
       "      <td>0</td>\n",
       "      <td>0</td>\n",
       "      <td>0</td>\n",
       "      <td>0</td>\n",
       "      <td>0</td>\n",
       "      <td>1</td>\n",
       "      <td>0</td>\n",
       "      <td>1</td>\n",
       "    </tr>\n",
       "    <tr>\n",
       "      <th>49999</th>\n",
       "      <td>67.0000</td>\n",
       "      <td>0.1020</td>\n",
       "      <td>0.8620</td>\n",
       "      <td>267267.0000</td>\n",
       "      <td>0.6420</td>\n",
       "      <td>0.0000</td>\n",
       "      <td>0.2720</td>\n",
       "      <td>-13.6520</td>\n",
       "      <td>0.1010</td>\n",
       "      <td>99.2010</td>\n",
       "      <td>...</td>\n",
       "      <td>0</td>\n",
       "      <td>0</td>\n",
       "      <td>0</td>\n",
       "      <td>0</td>\n",
       "      <td>0</td>\n",
       "      <td>0</td>\n",
       "      <td>1</td>\n",
       "      <td>0</td>\n",
       "      <td>0</td>\n",
       "      <td>1</td>\n",
       "    </tr>\n",
       "  </tbody>\n",
       "</table>\n",
       "<p>50000 rows × 24 columns</p>\n",
       "</div>"
      ],
      "text/plain": [
       "       popularity  acousticness  danceability  duration_ms  energy  \\\n",
       "0         27.0000        0.0047        0.6520  265662.3333  0.9410   \n",
       "1         31.0000        0.0127        0.6220  218293.0000  0.8900   \n",
       "2         28.0000        0.0031        0.6200  215613.0000  0.7550   \n",
       "3         34.0000        0.0254        0.7740  166875.0000  0.7000   \n",
       "4         32.0000        0.0046        0.6380  222369.0000  0.5870   \n",
       "...           ...           ...           ...          ...     ...   \n",
       "49995     59.0000        0.0334        0.9130  210142.3333  0.5740   \n",
       "49996     72.0000        0.1570        0.7090  251860.0000  0.3620   \n",
       "49997     51.0000        0.0060        0.6930  189483.0000  0.7630   \n",
       "49998     65.0000        0.0831        0.7820  262773.0000  0.4720   \n",
       "49999     67.0000        0.1020        0.8620  267267.0000  0.6420   \n",
       "\n",
       "       instrumentalness  liveness  loudness  speechiness    tempo  ...  key_C  \\\n",
       "0                0.7920    0.1150   -5.2010       0.0748 100.8890  ...      0   \n",
       "1                0.9500    0.1240   -7.0430       0.0300 115.0020  ...      0   \n",
       "2                0.0118    0.5340   -4.6170       0.0345 127.9940  ...      0   \n",
       "3                0.0025    0.1570   -4.4980       0.2390 128.0140  ...      0   \n",
       "4                0.9090    0.1570   -6.2660       0.0413 145.0360  ...      0   \n",
       "...                 ...       ...       ...          ...      ...  ...    ...   \n",
       "49995            0.0000    0.1190   -7.0220       0.2980  98.0280  ...      0   \n",
       "49996            0.0000    0.1090   -9.8140       0.0550 122.0430  ...      0   \n",
       "49997            0.0000    0.1430   -5.4430       0.1460 131.0790  ...      0   \n",
       "49998            0.0000    0.1060   -5.0160       0.0441  75.8860  ...      0   \n",
       "49999            0.0000    0.2720  -13.6520       0.1010  99.2010  ...      0   \n",
       "\n",
       "      key_C#  key_D  key_D#  key_E  key_F  key_F#  key_G  key_G#  mode_Minor  \n",
       "0          0      0       0      0      0       0      0       0           1  \n",
       "1          0      1       0      0      0       0      0       0           1  \n",
       "2          0      0       0      0      0       0      0       1           0  \n",
       "3          1      0       0      0      0       0      0       0           0  \n",
       "4          0      0       0      0      0       1      0       0           0  \n",
       "...      ...    ...     ...    ...    ...     ...    ...     ...         ...  \n",
       "49995      1      0       0      0      0       0      0       0           0  \n",
       "49996      0      0       0      0      0       0      0       0           0  \n",
       "49997      0      1       0      0      0       0      0       0           0  \n",
       "49998      0      0       0      0      0       0      1       0           1  \n",
       "49999      0      0       0      0      0       1      0       0           1  \n",
       "\n",
       "[50000 rows x 24 columns]"
      ]
     },
     "execution_count": 25,
     "metadata": {},
     "output_type": "execute_result"
    }
   ],
   "source": [
    "from sklearn.neighbors import LocalOutlierFactor\n",
    "dfOutlier_LOF = dfOutlier.copy()\n",
    "dfOutlier_LOF = pd.get_dummies(dfOutlier_LOF, columns=['key','mode'], drop_first=True)\n",
    "dfOutlier_LOF"
   ]
  },
  {
   "cell_type": "markdown",
   "metadata": {},
   "source": [
    "##### **Search for Hyperparameter**"
   ]
  },
  {
   "cell_type": "code",
   "execution_count": 26,
   "metadata": {},
   "outputs": [],
   "source": [
    "# Impute missing values\n",
    "dfOutlier_LOF_find = dfOutlier_LOF.copy()\n",
    "X = dfOutlier_LOF_find.drop(['music_genre'], axis=1)\n",
    "y = dfOutlier_LOF_find['music_genre']\n",
    "colX = X.columns\n",
    "toend = ['Electronic', 'Anime', 'Jazz', 'Alternative', 'Country', 'Rap',\n",
    "       'Blues', 'Rock', 'Classical', 'Hip-Hop']\n",
    "coltoend = [['music_genre']]\n",
    "y = y.apply(lambda x: toend.index(x))\n",
    "scalerLOF = StandardScaler()\n",
    "X = scalerLOF.fit_transform(X)\n",
    "\n",
    "KN_LOF_param = [{ \n",
    "              'n_neighbors' : range(10,60,10),\n",
    "              # 'algorithm' : ['auto', 'ball_tree', 'kd_tree', 'brute'],\n",
    "              # 'leaf_size' : range(10,60,10),\n",
    "              }]\n",
    "\n",
    "KN_LOF_clf = KNeighborsClassifier(n_jobs=-1,algorithm='ball_tree')\n",
    "\n",
    "f1sc = make_scorer(f1_score, average='weighted')\n",
    "\n",
    "grid_KN_LOF_clf = GridSearchCV(KN_LOF_clf, \n",
    "                        KN_LOF_param,\n",
    "                        scoring=f1sc, \n",
    "                        refit=True,\n",
    "                        cv=4,\n",
    "                        n_jobs=-1,\n",
    "                        verbose=3,\n",
    "                        return_train_score=True)"
   ]
  },
  {
   "cell_type": "code",
   "execution_count": null,
   "metadata": {},
   "outputs": [],
   "source": [
    "# grid_KN_LOF_clf.fit(X, y)\n",
    "# print(\"tuned hpyerparameters :(best parameters) \",grid_KN_LOF_clf.best_params_)\n",
    "# print(\"score :\",grid_KN_LOF_clf.best_score_)\n",
    "\n",
    "\"\"\"\n",
    "Fitting 4 folds for each of 4 candidates, totalling 16 fits\n",
    "tuned hpyerparameters :(best parameters)  {'algorithm': 'ball_tree'}\n",
    "score : 0.4638039248476319\n",
    "\n",
    "Fitting 4 folds for each of 5 candidates, totalling 20 fits\n",
    "tuned hpyerparameters :(best parameters)  {'n_neighbors': 20}\n",
    "score : 0.4852892750123391\n",
    "\"\"\"\n",
    "pass"
   ]
  },
  {
   "cell_type": "markdown",
   "metadata": {},
   "source": [
    "##### **Remove outlier**"
   ]
  },
  {
   "cell_type": "code",
   "execution_count": 32,
   "metadata": {},
   "outputs": [],
   "source": [
    "X = dfOutlier_LOF.drop(['music_genre'], axis=1)\n",
    "y = dfOutlier_LOF['music_genre']\n",
    "colX = X.columns\n",
    "scalerLOF = StandardScaler()\n",
    "X = scalerLOF.fit_transform(X)\n",
    "\n",
    "clf_LOF = LocalOutlierFactor(n_neighbors=20, algorithm='ball_tree', n_jobs=-1)\n",
    "clf_LOF.fit_predict(X)\n",
    "lof_LOF  = clf_LOF.negative_outlier_factor_"
   ]
  },
  {
   "cell_type": "markdown",
   "metadata": {},
   "source": [
    "โดยการใช้งาน Local Outlier Factor จะต้องมีการกำหนด Threshold ให้กับการตัด Outlier โดยจะเลือก Threshold ที่มีค่า 0.03(จากการทดลองปรับค่า)"
   ]
  },
  {
   "cell_type": "code",
   "execution_count": 38,
   "metadata": {},
   "outputs": [
    {
     "name": "stdout",
     "output_type": "stream",
     "text": [
      "-1.3476365914081732\n"
     ]
    },
    {
     "data": {
      "text/html": [
       "<div>\n",
       "<style scoped>\n",
       "    .dataframe tbody tr th:only-of-type {\n",
       "        vertical-align: middle;\n",
       "    }\n",
       "\n",
       "    .dataframe tbody tr th {\n",
       "        vertical-align: top;\n",
       "    }\n",
       "\n",
       "    .dataframe thead th {\n",
       "        text-align: right;\n",
       "    }\n",
       "</style>\n",
       "<table border=\"1\" class=\"dataframe\">\n",
       "  <thead>\n",
       "    <tr style=\"text-align: right;\">\n",
       "      <th></th>\n",
       "      <th>popularity</th>\n",
       "      <th>acousticness</th>\n",
       "      <th>danceability</th>\n",
       "      <th>duration_ms</th>\n",
       "      <th>energy</th>\n",
       "      <th>instrumentalness</th>\n",
       "      <th>liveness</th>\n",
       "      <th>loudness</th>\n",
       "      <th>speechiness</th>\n",
       "      <th>tempo</th>\n",
       "      <th>...</th>\n",
       "      <th>key_C</th>\n",
       "      <th>key_C#</th>\n",
       "      <th>key_D</th>\n",
       "      <th>key_D#</th>\n",
       "      <th>key_E</th>\n",
       "      <th>key_F</th>\n",
       "      <th>key_F#</th>\n",
       "      <th>key_G</th>\n",
       "      <th>key_G#</th>\n",
       "      <th>mode_Minor</th>\n",
       "    </tr>\n",
       "  </thead>\n",
       "  <tbody>\n",
       "    <tr>\n",
       "      <th>0</th>\n",
       "      <td>27.0000</td>\n",
       "      <td>0.0047</td>\n",
       "      <td>0.6520</td>\n",
       "      <td>265662.3333</td>\n",
       "      <td>0.9410</td>\n",
       "      <td>0.7920</td>\n",
       "      <td>0.1150</td>\n",
       "      <td>-5.2010</td>\n",
       "      <td>0.0748</td>\n",
       "      <td>100.8890</td>\n",
       "      <td>...</td>\n",
       "      <td>0</td>\n",
       "      <td>0</td>\n",
       "      <td>0</td>\n",
       "      <td>0</td>\n",
       "      <td>0</td>\n",
       "      <td>0</td>\n",
       "      <td>0</td>\n",
       "      <td>0</td>\n",
       "      <td>0</td>\n",
       "      <td>1</td>\n",
       "    </tr>\n",
       "    <tr>\n",
       "      <th>1</th>\n",
       "      <td>31.0000</td>\n",
       "      <td>0.0127</td>\n",
       "      <td>0.6220</td>\n",
       "      <td>218293.0000</td>\n",
       "      <td>0.8900</td>\n",
       "      <td>0.9500</td>\n",
       "      <td>0.1240</td>\n",
       "      <td>-7.0430</td>\n",
       "      <td>0.0300</td>\n",
       "      <td>115.0020</td>\n",
       "      <td>...</td>\n",
       "      <td>0</td>\n",
       "      <td>0</td>\n",
       "      <td>1</td>\n",
       "      <td>0</td>\n",
       "      <td>0</td>\n",
       "      <td>0</td>\n",
       "      <td>0</td>\n",
       "      <td>0</td>\n",
       "      <td>0</td>\n",
       "      <td>1</td>\n",
       "    </tr>\n",
       "    <tr>\n",
       "      <th>2</th>\n",
       "      <td>28.0000</td>\n",
       "      <td>0.0031</td>\n",
       "      <td>0.6200</td>\n",
       "      <td>215613.0000</td>\n",
       "      <td>0.7550</td>\n",
       "      <td>0.0118</td>\n",
       "      <td>0.5340</td>\n",
       "      <td>-4.6170</td>\n",
       "      <td>0.0345</td>\n",
       "      <td>127.9940</td>\n",
       "      <td>...</td>\n",
       "      <td>0</td>\n",
       "      <td>0</td>\n",
       "      <td>0</td>\n",
       "      <td>0</td>\n",
       "      <td>0</td>\n",
       "      <td>0</td>\n",
       "      <td>0</td>\n",
       "      <td>0</td>\n",
       "      <td>1</td>\n",
       "      <td>0</td>\n",
       "    </tr>\n",
       "    <tr>\n",
       "      <th>3</th>\n",
       "      <td>34.0000</td>\n",
       "      <td>0.0254</td>\n",
       "      <td>0.7740</td>\n",
       "      <td>166875.0000</td>\n",
       "      <td>0.7000</td>\n",
       "      <td>0.0025</td>\n",
       "      <td>0.1570</td>\n",
       "      <td>-4.4980</td>\n",
       "      <td>0.2390</td>\n",
       "      <td>128.0140</td>\n",
       "      <td>...</td>\n",
       "      <td>0</td>\n",
       "      <td>1</td>\n",
       "      <td>0</td>\n",
       "      <td>0</td>\n",
       "      <td>0</td>\n",
       "      <td>0</td>\n",
       "      <td>0</td>\n",
       "      <td>0</td>\n",
       "      <td>0</td>\n",
       "      <td>0</td>\n",
       "    </tr>\n",
       "    <tr>\n",
       "      <th>4</th>\n",
       "      <td>32.0000</td>\n",
       "      <td>0.0046</td>\n",
       "      <td>0.6380</td>\n",
       "      <td>222369.0000</td>\n",
       "      <td>0.5870</td>\n",
       "      <td>0.9090</td>\n",
       "      <td>0.1570</td>\n",
       "      <td>-6.2660</td>\n",
       "      <td>0.0413</td>\n",
       "      <td>145.0360</td>\n",
       "      <td>...</td>\n",
       "      <td>0</td>\n",
       "      <td>0</td>\n",
       "      <td>0</td>\n",
       "      <td>0</td>\n",
       "      <td>0</td>\n",
       "      <td>0</td>\n",
       "      <td>1</td>\n",
       "      <td>0</td>\n",
       "      <td>0</td>\n",
       "      <td>0</td>\n",
       "    </tr>\n",
       "    <tr>\n",
       "      <th>...</th>\n",
       "      <td>...</td>\n",
       "      <td>...</td>\n",
       "      <td>...</td>\n",
       "      <td>...</td>\n",
       "      <td>...</td>\n",
       "      <td>...</td>\n",
       "      <td>...</td>\n",
       "      <td>...</td>\n",
       "      <td>...</td>\n",
       "      <td>...</td>\n",
       "      <td>...</td>\n",
       "      <td>...</td>\n",
       "      <td>...</td>\n",
       "      <td>...</td>\n",
       "      <td>...</td>\n",
       "      <td>...</td>\n",
       "      <td>...</td>\n",
       "      <td>...</td>\n",
       "      <td>...</td>\n",
       "      <td>...</td>\n",
       "      <td>...</td>\n",
       "    </tr>\n",
       "    <tr>\n",
       "      <th>49995</th>\n",
       "      <td>59.0000</td>\n",
       "      <td>0.0334</td>\n",
       "      <td>0.9130</td>\n",
       "      <td>210142.3333</td>\n",
       "      <td>0.5740</td>\n",
       "      <td>0.0000</td>\n",
       "      <td>0.1190</td>\n",
       "      <td>-7.0220</td>\n",
       "      <td>0.2980</td>\n",
       "      <td>98.0280</td>\n",
       "      <td>...</td>\n",
       "      <td>0</td>\n",
       "      <td>1</td>\n",
       "      <td>0</td>\n",
       "      <td>0</td>\n",
       "      <td>0</td>\n",
       "      <td>0</td>\n",
       "      <td>0</td>\n",
       "      <td>0</td>\n",
       "      <td>0</td>\n",
       "      <td>0</td>\n",
       "    </tr>\n",
       "    <tr>\n",
       "      <th>49996</th>\n",
       "      <td>72.0000</td>\n",
       "      <td>0.1570</td>\n",
       "      <td>0.7090</td>\n",
       "      <td>251860.0000</td>\n",
       "      <td>0.3620</td>\n",
       "      <td>0.0000</td>\n",
       "      <td>0.1090</td>\n",
       "      <td>-9.8140</td>\n",
       "      <td>0.0550</td>\n",
       "      <td>122.0430</td>\n",
       "      <td>...</td>\n",
       "      <td>0</td>\n",
       "      <td>0</td>\n",
       "      <td>0</td>\n",
       "      <td>0</td>\n",
       "      <td>0</td>\n",
       "      <td>0</td>\n",
       "      <td>0</td>\n",
       "      <td>0</td>\n",
       "      <td>0</td>\n",
       "      <td>0</td>\n",
       "    </tr>\n",
       "    <tr>\n",
       "      <th>49997</th>\n",
       "      <td>51.0000</td>\n",
       "      <td>0.0060</td>\n",
       "      <td>0.6930</td>\n",
       "      <td>189483.0000</td>\n",
       "      <td>0.7630</td>\n",
       "      <td>0.0000</td>\n",
       "      <td>0.1430</td>\n",
       "      <td>-5.4430</td>\n",
       "      <td>0.1460</td>\n",
       "      <td>131.0790</td>\n",
       "      <td>...</td>\n",
       "      <td>0</td>\n",
       "      <td>0</td>\n",
       "      <td>1</td>\n",
       "      <td>0</td>\n",
       "      <td>0</td>\n",
       "      <td>0</td>\n",
       "      <td>0</td>\n",
       "      <td>0</td>\n",
       "      <td>0</td>\n",
       "      <td>0</td>\n",
       "    </tr>\n",
       "    <tr>\n",
       "      <th>49998</th>\n",
       "      <td>65.0000</td>\n",
       "      <td>0.0831</td>\n",
       "      <td>0.7820</td>\n",
       "      <td>262773.0000</td>\n",
       "      <td>0.4720</td>\n",
       "      <td>0.0000</td>\n",
       "      <td>0.1060</td>\n",
       "      <td>-5.0160</td>\n",
       "      <td>0.0441</td>\n",
       "      <td>75.8860</td>\n",
       "      <td>...</td>\n",
       "      <td>0</td>\n",
       "      <td>0</td>\n",
       "      <td>0</td>\n",
       "      <td>0</td>\n",
       "      <td>0</td>\n",
       "      <td>0</td>\n",
       "      <td>0</td>\n",
       "      <td>1</td>\n",
       "      <td>0</td>\n",
       "      <td>1</td>\n",
       "    </tr>\n",
       "    <tr>\n",
       "      <th>49999</th>\n",
       "      <td>67.0000</td>\n",
       "      <td>0.1020</td>\n",
       "      <td>0.8620</td>\n",
       "      <td>267267.0000</td>\n",
       "      <td>0.6420</td>\n",
       "      <td>0.0000</td>\n",
       "      <td>0.2720</td>\n",
       "      <td>-13.6520</td>\n",
       "      <td>0.1010</td>\n",
       "      <td>99.2010</td>\n",
       "      <td>...</td>\n",
       "      <td>0</td>\n",
       "      <td>0</td>\n",
       "      <td>0</td>\n",
       "      <td>0</td>\n",
       "      <td>0</td>\n",
       "      <td>0</td>\n",
       "      <td>1</td>\n",
       "      <td>0</td>\n",
       "      <td>0</td>\n",
       "      <td>1</td>\n",
       "    </tr>\n",
       "  </tbody>\n",
       "</table>\n",
       "<p>48500 rows × 24 columns</p>\n",
       "</div>"
      ],
      "text/plain": [
       "       popularity  acousticness  danceability  duration_ms  energy  \\\n",
       "0         27.0000        0.0047        0.6520  265662.3333  0.9410   \n",
       "1         31.0000        0.0127        0.6220  218293.0000  0.8900   \n",
       "2         28.0000        0.0031        0.6200  215613.0000  0.7550   \n",
       "3         34.0000        0.0254        0.7740  166875.0000  0.7000   \n",
       "4         32.0000        0.0046        0.6380  222369.0000  0.5870   \n",
       "...           ...           ...           ...          ...     ...   \n",
       "49995     59.0000        0.0334        0.9130  210142.3333  0.5740   \n",
       "49996     72.0000        0.1570        0.7090  251860.0000  0.3620   \n",
       "49997     51.0000        0.0060        0.6930  189483.0000  0.7630   \n",
       "49998     65.0000        0.0831        0.7820  262773.0000  0.4720   \n",
       "49999     67.0000        0.1020        0.8620  267267.0000  0.6420   \n",
       "\n",
       "       instrumentalness  liveness  loudness  speechiness    tempo  ...  key_C  \\\n",
       "0                0.7920    0.1150   -5.2010       0.0748 100.8890  ...      0   \n",
       "1                0.9500    0.1240   -7.0430       0.0300 115.0020  ...      0   \n",
       "2                0.0118    0.5340   -4.6170       0.0345 127.9940  ...      0   \n",
       "3                0.0025    0.1570   -4.4980       0.2390 128.0140  ...      0   \n",
       "4                0.9090    0.1570   -6.2660       0.0413 145.0360  ...      0   \n",
       "...                 ...       ...       ...          ...      ...  ...    ...   \n",
       "49995            0.0000    0.1190   -7.0220       0.2980  98.0280  ...      0   \n",
       "49996            0.0000    0.1090   -9.8140       0.0550 122.0430  ...      0   \n",
       "49997            0.0000    0.1430   -5.4430       0.1460 131.0790  ...      0   \n",
       "49998            0.0000    0.1060   -5.0160       0.0441  75.8860  ...      0   \n",
       "49999            0.0000    0.2720  -13.6520       0.1010  99.2010  ...      0   \n",
       "\n",
       "      key_C#  key_D  key_D#  key_E  key_F  key_F#  key_G  key_G#  mode_Minor  \n",
       "0          0      0       0      0      0       0      0       0           1  \n",
       "1          0      1       0      0      0       0      0       0           1  \n",
       "2          0      0       0      0      0       0      0       1           0  \n",
       "3          1      0       0      0      0       0      0       0           0  \n",
       "4          0      0       0      0      0       1      0       0           0  \n",
       "...      ...    ...     ...    ...    ...     ...    ...     ...         ...  \n",
       "49995      1      0       0      0      0       0      0       0           0  \n",
       "49996      0      0       0      0      0       0      0       0           0  \n",
       "49997      0      1       0      0      0       0      0       0           0  \n",
       "49998      0      0       0      0      0       0      1       0           1  \n",
       "49999      0      0       0      0      0       1      0       0           1  \n",
       "\n",
       "[48500 rows x 24 columns]"
      ]
     },
     "execution_count": 38,
     "metadata": {},
     "output_type": "execute_result"
    }
   ],
   "source": [
    "thresh_LOF = np.quantile(lof_LOF, .03)\n",
    "dfoutlier_LOF = dfOutlier_LOF[lof_LOF <= thresh_LOF]\n",
    "dfNormal_LOF = dfOutlier_LOF[lof_LOF > thresh_LOF]\n",
    "print(thresh_LOF)\n",
    "dfNormal_LOF"
   ]
  },
  {
   "cell_type": "code",
   "execution_count": 36,
   "metadata": {},
   "outputs": [
    {
     "data": {
      "image/png": "[encoded data removed]",
      "text/plain": [
       "<Figure size 2000x1200 with 11 Axes>"
      ]
     },
     "metadata": {},
     "output_type": "display_data"
    }
   ],
   "source": [
    "outlierplotstripALL, axes = plt.subplots(2, 6, figsize=(20, 12))\n",
    "outlierplotstripALL.delaxes(axes[1,5])\n",
    "for idx, col in enumerate(dfNum.columns):\n",
    "    sns.stripplot(x=dfNormal_LOF[col],ax=axes[idx//6, idx%6])\n",
    "    plt.title(col + ' (strip)')"
   ]
  },
  {
   "cell_type": "markdown",
   "metadata": {},
   "source": [
    "##### **Performance**"
   ]
  },
  {
   "cell_type": "code",
   "execution_count": 39,
   "metadata": {},
   "outputs": [
    {
     "name": "stdout",
     "output_type": "stream",
     "text": [
      "Logistic Regression Model (F1 score) : 0.5357630309884516\n",
      "Decision Tree Model (F1 score) : 0.4436429258486196\n",
      "Random Forest Model (F1 score) : 0.5509402128633895\n",
      "KNN Model (F1 score) : 0.4709673156959691\n",
      "MLPC Model (F1 score) : 0.582190201113514\n"
     ]
    }
   ],
   "source": [
    "'''\n",
    "Th = 0.02\n",
    "Logistic Regression Model (F1 score) : 0.5238398871943494\n",
    "Decision Tree Model (F1 score) : 0.4330370225715272\n",
    "Random Forest Model (F1 score) : 0.5449326069204797\n",
    "KNN Model (F1 score) : 0.46741804142315196\n",
    "MLPC Model (F1 score) : 0.5742095585178162\n",
    "\n",
    "Th = 0.03\n",
    "Logistic Regression Model (F1 score) : 0.5357630309884516\n",
    "Decision Tree Model (F1 score) : 0.4436429258486196\n",
    "Random Forest Model (F1 score) : 0.5509369531669782\n",
    "KNN Model (F1 score) : 0.4709673156959691\n",
    "MLPC Model (F1 score) : 0.582190201113514\n",
    "\n",
    "Th = 0.04\n",
    "Logistic Regression Model (F1 score) : 0.5314441403627492\n",
    "Decision Tree Model (F1 score) : 0.43931121200020734\n",
    "Random Forest Model (F1 score) : 0.5465498426129649\n",
    "KNN Model (F1 score) : 0.4717953792857485\n",
    "MLPC Model (F1 score) : 0.5786413839961951\n",
    "'''\n",
    "\n",
    "modelBM_LOF, resultBM_LOF, confmatrixBM_LOF, f1BM_LOF = modelTestProcess(dfNormal_LOF, getdummy=0)"
   ]
  },
  {
   "cell_type": "markdown",
   "metadata": {},
   "source": [
    "#### **Nearest Neighbors**"
   ]
  },
  {
   "cell_type": "code",
   "execution_count": null,
   "metadata": {},
   "outputs": [],
   "source": [
    "# create arrays\n",
    "dfnbrs = dfOutlier.copy()\n",
    "dfnbrsOrig = dfnbrs.copy()\n",
    "# Unsupervised learning we consider all features even the target\n",
    "X = pd.get_dummies(dfnbrs, columns=['key','mode','music_genre'], drop_first=True)\n",
    "X"
   ]
  },
  {
   "cell_type": "markdown",
   "metadata": {},
   "source": [
    "โดยจะใช้ HYPERPARAMETER ที่ได้จาก Section ที่แล้ว คือ n_neighbors = 20, algorithm = 'ball_tree'"
   ]
  },
  {
   "cell_type": "markdown",
   "metadata": {},
   "source": [
    "##### **Remove outlier**"
   ]
  },
  {
   "cell_type": "code",
   "execution_count": null,
   "metadata": {},
   "outputs": [],
   "source": [
    "# instantiate model\n",
    "scaler = StandardScaler()\n",
    "X = scaler.fit_transform(X)\n",
    "nbrs = NearestNeighbors(n_jobs=-1,n_neighbors=20,algorithm='ball_tree').fit(X)\n",
    "# distances and indexes of k-neaighbors from model outputs\n",
    "distances, indexes = nbrs.kneighbors(X)\n",
    "# plot mean of k-distances of each observation\n",
    "anomalyPlot, ax = plt.subplots(1, 1, figsize=(30, 30))\n",
    "ax.set_yticks(np.arange(0, 25, 0.5))\n",
    "ax.plot(distances.mean(axis =1))"
   ]
  },
  {
   "cell_type": "markdown",
   "metadata": {},
   "source": [
    "โดยเราจะทำการ plot average distances กับข้อมูลต่าง ๆ โดย Spike ที่เกิดขึ้นในกราฟ จะเป็นข้อมูลที่มี Distance ค่อนข้างสูง และจะมีความเป็นไปได้ที่มากว่าจะเป็น Outlier ที่ต้องการลบออกจาก Dataset โดยเราจะพิจารณาที่ Threshold หลาย ๆ ค่าใน Range(2.5-3.5) แล้วเลือกค่าที่ให้ผลลัพธ์ที่ดีที่สุด"
   ]
  },
  {
   "cell_type": "code",
   "execution_count": null,
   "metadata": {},
   "outputs": [],
   "source": [
    "# visually determine cutoff values for outliers\n",
    "outlier_index = np.where(distances.mean(axis = 1) > 2.975)\n",
    "# filter outlier values\n",
    "outlier_values = dfnbrsOrig.iloc[outlier_index]\n",
    "outlier_values"
   ]
  },
  {
   "cell_type": "code",
   "execution_count": null,
   "metadata": {},
   "outputs": [],
   "source": [
    "dropOutliers = outlier_index[0].tolist()\n",
    "dfnbrsOrig.drop(dropOutliers, axis=0, inplace=True)\n",
    "dfnbrsOrig.reset_index(drop=True, inplace=True)\n",
    "dfnbrsOrig"
   ]
  },
  {
   "cell_type": "code",
   "execution_count": null,
   "metadata": {},
   "outputs": [],
   "source": [
    "outlierplotstripALL, axes = plt.subplots(2, 6, figsize=(20, 12))\n",
    "outlierplotstripALL.delaxes(axes[1,5])\n",
    "for idx, col in enumerate(dfNum.columns):\n",
    "    sns.stripplot(x=dfnbrsOrig[col],ax=axes[idx//6, idx%6])\n",
    "    plt.title(col + ' (strip)')"
   ]
  },
  {
   "cell_type": "markdown",
   "metadata": {},
   "source": [
    "ผลลัพท์ที่ได้จากการทำ Anomaly Detection ด้วย KNN แล้วพบว่า Stip plot ที่เกิดขึ้นข้อมูลที่อยู๋ห่างจากกลุ่มจะถูกตัดออกไป(เช่น duration_ms)"
   ]
  },
  {
   "cell_type": "markdown",
   "metadata": {},
   "source": [
    "##### **Performance**"
   ]
  },
  {
   "cell_type": "markdown",
   "metadata": {},
   "source": [
    "โดยหลังจากการทดลองปรับค่า Threshold แล้วพบว่า ค่า Threshold ที่ดีที่สุดคือ 2.975 โดยจะได้ผลลัพธ์ดังนี้"
   ]
  },
  {
   "cell_type": "code",
   "execution_count": null,
   "metadata": {},
   "outputs": [],
   "source": [
    "modelBM_KN, resultBM_KN, confmatrixBM_KN, f1BM_KN = modelTestProcess(dfnbrsOrig, getdummy=1)"
   ]
  },
  {
   "cell_type": "code",
   "execution_count": null,
   "metadata": {},
   "outputs": [],
   "source": [
    "\"\"\"\n",
    "K=20 th=2.9\n",
    "Logistic Regression Model (F1 score) : 0.5300078750331876\n",
    "Decision Tree Model (F1 score) : 0.4448510895693021\n",
    "Random Forest Model (F1 score) : 0.5545604054224168\n",
    "KNN Model (F1 score) : 0.47863908758521234\n",
    "MLPC Model (F1 score) : 0.581484283715538\n",
    "\n",
    "K=20 th=2.94\n",
    "Logistic Regression Model (F1 score) : 0.5326983805416181\n",
    "Decision Tree Model (F1 score) : 0.44205368755913105\n",
    "Random Forest Model (F1 score) : 0.5542896148957841\n",
    "KNN Model (F1 score) : 0.4721819604260609\n",
    "MLPC Model (F1 score) : 0.5813603773058057\n",
    "\n",
    "K=20 th=2.95\n",
    "Logistic Regression Model (F1 score) : 0.5447856841847529\n",
    "Decision Tree Model (F1 score) : 0.4415909764450539\n",
    "Random Forest Model (F1 score) : 0.5595058243180487\n",
    "KNN Model (F1 score) : 0.4767397739703312\n",
    "MLPC Model (F1 score) : 0.582619189672567\n",
    "\n",
    "K=20 th=2.96\n",
    "Logistic Regression Model (F1 score) : 0.5399907971118559\n",
    "Decision Tree Model (F1 score) : 0.44305473438854\n",
    "Random Forest Model (F1 score) : 0.5523443128253722\n",
    "KNN Model (F1 score) : 0.4727611914074832\n",
    "MLPC Model (F1 score) : 0.5821927618951872\n",
    "\n",
    "K=20 th=2.975\n",
    "Logistic Regression Model (F1 score) : 0.5402484692906768\n",
    "Decision Tree Model (F1 score) : 0.4441746762715256\n",
    "Random Forest Model (F1 score) : 0.5579672459960456\n",
    "KNN Model (F1 score) : 0.4726499324878151\n",
    "MLPC Model (F1 score) : 0.5828767671301366\n",
    "\n",
    "K=20 th=3.0\n",
    "Logistic Regression Model (F1 score) : 0.5416241410065534\n",
    "Decision Tree Model (F1 score) : 0.4433749145453252\n",
    "Random Forest Model (F1 score) : 0.5478935208519854\n",
    "KNN Model (F1 score) : 0.47676748749978265\n",
    "MLPC Model (F1 score) : 0.58335157974587\n",
    "\n",
    "K=20 th=3.1\n",
    "Logistic Regression Model (F1 score) : 0.5357822141642334\n",
    "Decision Tree Model (F1 score) : 0.44204716218012724\n",
    "Random Forest Model (F1 score) : 0.5463769216284956\n",
    "KNN Model (F1 score) : 0.47381955482770066\n",
    "MLPC Model (F1 score) : 0.5790372433599889\n",
    "\n",
    "K=20 th=3.2\n",
    "Logistic Regression Model (F1 score) : 0.5303425786087081\n",
    "Decision Tree Model (F1 score) : 0.4426743258720088\n",
    "Random Forest Model (F1 score) : 0.5459842383691916\n",
    "KNN Model (F1 score) : 0.47489998340378187\n",
    "MLPC Model (F1 score) : 0.5781303662646728\n",
    "\n",
    "K=20 th=3.5\n",
    "Logistic Regression Model (F1 score) : 0.5303540049417697\n",
    "Decision Tree Model (F1 score) : 0.4356136185430889\n",
    "Random Forest Model (F1 score) : 0.549371729901834\n",
    "KNN Model (F1 score) : 0.4695434052470765\n",
    "MLPC Model (F1 score) : 0.5772159860162416\n",
    "\n",
    "\"\"\"\n",
    "pass"
   ]
  },
  {
   "cell_type": "markdown",
   "metadata": {},
   "source": [
    "#### **Conclusion**\n",
    "\n",
    "<table>\n",
    " <tr>\n",
    "  <td rowspan=\"2\" style=\"text-align:center\">Model</td>\n",
    "  <td colspan=\"4\" style=\"text-align:center\">f1-Score</td>\n",
    " </tr>\n",
    " <tr>\n",
    "  <td style=\"text-align:center\">Benchmark</td>\n",
    "  <td style=\"text-align:center\">Isolation Forest</td>\n",
    "  <td style=\"text-align:center\">Local Outlier Factor</td>\n",
    "  <td style=\"text-align:center\">Nearest Neighbors</td>\n",
    " </tr>\n",
    " <tr>\n",
    "  <td style=\"text-align:center\">Logistic Regression</td>\n",
    "  <td style=\"text-align:center\">\n",
    "    <font color=\"Aqua\">0.524447965191827</font>\n",
    "  </td>\n",
    "  <td style=\"text-align:center\">0.5289420692335385</td>\n",
    "  <td style=\"text-align:center\">0.5357630309884516</td>\n",
    "  <td style=\"text-align:center\">\n",
    "    <font color=\"Lime\">0.5402484692906768</font>\n",
    "  </td>\n",
    " </tr>\n",
    "<tr>\n",
    "  <td style=\"text-align:center\">Decision Tree</td>\n",
    "  <td style=\"text-align:center\">\n",
    "    <font color=\"Aqua\">0.44075530167155413</font>\n",
    "  </td>\n",
    "  <td style=\"text-align:center\">0.44370417825324693</td>\n",
    "  <td style=\"text-align:center\">0.4436429258486196</td>\n",
    "  <td style=\"text-align:center\">\n",
    "    <font color=\"Lime\">0.4441746762715256</font>\n",
    "  </td>\n",
    " </tr>\n",
    "<tr>\n",
    "  <td style=\"text-align:center\">Random Forest</td>\n",
    "  <td style=\"text-align:center\">\n",
    "    <font color=\"Aqua\">0.5470660382319463</font>\n",
    "  </td>\n",
    "  <td style=\"text-align:center\">0.5500204039684669</td>\n",
    "  <td style=\"text-align:center\">0.5509402128633895</td>\n",
    "  <td style=\"text-align:center\">\n",
    "    <font color=\"Lime\">0.5579672459960456</font>\n",
    "  </td>\n",
    " </tr>\n",
    "<tr>\n",
    "  <td style=\"text-align:center\">K-Nearest Neighbors</td>\n",
    "  <td style=\"text-align:center\">\n",
    "    <font color=\"Aqua\">0.47193630572630274</font>\n",
    "  </td>\n",
    "  <td style=\"text-align:center\">0.46712937911671276</td>\n",
    "  <td style=\"text-align:center\">0.4709673156959691</td>\n",
    "  <td style=\"text-align:center\">\n",
    "    <font color=\"Lime\">0.4726499324878151</font>\n",
    "  </td>\n",
    " </tr>\n",
    "<tr>\n",
    "  <td style=\"text-align:center\">Multi-layer Perceptron</td>\n",
    "  <td style=\"text-align:center\">\n",
    "    <font color=\"Aqua\">0.5821545904941349</font>\n",
    "  </td>\n",
    "  <td style=\"text-align:center\">0.5714024337810822</td>\n",
    "  <td style=\"text-align:center\">0.582190201113514</td>\n",
    "  <td style=\"text-align:center\">\n",
    "    <font color=\"Lime\">0.5828767671301366</font>\n",
    "  </td>\n",
    " </tr>\n",
    "</table>\n",
    "\n",
    "โดยจากการทำการทดลองตัด Outlier ด้วยวิธีการต่าง ๆ จะทำให้ได้ข้อสรุปว่าการตัด Outlier ด้วยวิธี Nearest Neighbors จะทำให้ได้ค่า f1-Score ที่สูงที่สุด โดยที่จะใช้ Threshold ในการตัด Outlier ที่เหมาะสมที่สุด คือ 2.975"
   ]
  },
  {
   "cell_type": "code",
   "execution_count": null,
   "metadata": {},
   "outputs": [],
   "source": [
    "# dfOutlier_res = dfOutlier.copy()\n",
    "# dfOutlier_res = dfOutlier_res[lof_LOF > thresh_LOF]\n",
    "# dfOutlier_res.reset_index(drop=True, inplace=True)\n",
    "dfnbrsOrig.to_csv('Data/dfOutlier_res.csv', index=False)"
   ]
  },
  {
   "cell_type": "markdown",
   "metadata": {},
   "source": [
    "### **Data Transformation**"
   ]
  },
  {
   "cell_type": "markdown",
   "metadata": {},
   "source": [
    "#### **Import Data**"
   ]
  },
  {
   "cell_type": "code",
   "execution_count": null,
   "metadata": {},
   "outputs": [],
   "source": [
    "df = pd.read_csv('Data/dfOutlier_res.csv')\n",
    "dfNum = df.select_dtypes(include=['float64'])\n",
    "dfCate = df.select_dtypes(include=['object'])"
   ]
  },
  {
   "cell_type": "markdown",
   "metadata": {},
   "source": [
    "#### **Performance Benchmark**"
   ]
  },
  {
   "cell_type": "code",
   "execution_count": null,
   "metadata": {},
   "outputs": [],
   "source": [
    "modelBM, resultBM, confmatrixBM, f1BM = modelTestProcess(df, getdummy=1)"
   ]
  },
  {
   "cell_type": "code",
   "execution_count": null,
   "metadata": {},
   "outputs": [],
   "source": [
    "NumHists, axes = plt.subplots(4, 3, figsize=(15, 15))\n",
    "NumHists.suptitle('Numeric Features Histograms', fontsize=20)\n",
    "NumHists.tight_layout(pad=3.0)\n",
    "for i, feature in enumerate(dfNum.columns):\n",
    "    ax = axes[i//3, i%3]\n",
    "    sns.histplot(dfNum[feature], ax=ax, color=snsPalette[0])\n",
    "    ax.set_title(f'{feature} Histogram', fontsize=15)\n",
    "    ax.set_xlabel(f'{feature}', fontsize=12)\n",
    "    ax.set_ylabel('Count', fontsize=12)\n",
    "    ax.set_facecolor(axBGColor)\n",
    "NumHists.delaxes(axes[3,2])"
   ]
  },
  {
   "cell_type": "markdown",
   "metadata": {},
   "source": [
    "#### **acousticness Feature**"
   ]
  },
  {
   "cell_type": "code",
   "execution_count": null,
   "metadata": {},
   "outputs": [],
   "source": [
    "acousticness_base = df['acousticness']\n",
    "acousticness_log = np.log(df[\"acousticness\"]+1)\n",
    "acousticness_sqrt = np.sqrt(df[\"acousticness\"])\n",
    "acousticness_cbrt = np.cbrt(df[\"acousticness\"])\n",
    "title = ['acousticness', 'log(acousticness)', 'sqrt(acousticness)', 'cbrt(acousticness)']\n",
    "acousticnesstf , axes = plt.subplots(1, 4, figsize=(25, 5))\n",
    "for idx, col in enumerate([acousticness_base, acousticness_log, acousticness_sqrt, acousticness_cbrt]):\n",
    "    sns.histplot(col, ax=axes[idx], kde=True,bins=20)\n",
    "    axes[idx].set_title(title[idx])"
   ]
  },
  {
   "cell_type": "markdown",
   "metadata": {},
   "source": [
    "#### **duration_ms Feature**"
   ]
  },
  {
   "cell_type": "code",
   "execution_count": null,
   "metadata": {},
   "outputs": [],
   "source": [
    "duration_ms_base = df['duration_ms']\n",
    "duration_ms_log = np.log(df[\"duration_ms\"])\n",
    "duration_ms_sqrt = np.sqrt(df[\"duration_ms\"])\n",
    "duration_ms_cbrt = np.cbrt(df[\"duration_ms\"])\n",
    "title = ['duration_ms', 'log(duration_ms)', 'sqrt(duration_ms)', 'cbrt(duration_ms)']\n",
    "duration_mstf , axes = plt.subplots(1, 4, figsize=(25, 5))\n",
    "for idx, col in enumerate([duration_ms_base, duration_ms_log, duration_ms_sqrt, duration_ms_cbrt]):\n",
    "    sns.histplot(col, ax=axes[idx], kde=True,bins=20)\n",
    "    axes[idx].set_title(title[idx])"
   ]
  },
  {
   "cell_type": "code",
   "execution_count": null,
   "metadata": {},
   "outputs": [],
   "source": [
    "dfDuration = df.copy()\n",
    "dfDuration['duration_ms'] = duration_ms_log\n",
    "\n",
    "modelBM_Duration_log, resultBM_Duration_log, confmatrixBM_Duration_log, f1BM_Duration_log = modelTestProcess(dfDuration, getdummy=1)"
   ]
  },
  {
   "cell_type": "code",
   "execution_count": null,
   "metadata": {},
   "outputs": [],
   "source": [
    "dfDuration = df.copy()\n",
    "dfDuration['duration_ms'] = duration_ms_cbrt\n",
    "\n",
    "modelBM_Duration_cbrt, resultBM_Duration_cbrt, confmatrixBM_Duration_cbrt, f1BM_Duration_cbrt = modelTestProcess(dfDuration, getdummy=1)"
   ]
  },
  {
   "cell_type": "markdown",
   "metadata": {},
   "source": [
    "#### **instrumentalness Feature**"
   ]
  },
  {
   "cell_type": "code",
   "execution_count": null,
   "metadata": {},
   "outputs": [],
   "source": [
    "instrumentalness_base = df['instrumentalness']\n",
    "instrumentalness_log = np.log(df[\"instrumentalness\"]+1)\n",
    "instrumentalness_sqrt = np.sqrt(df[\"instrumentalness\"])\n",
    "instrumentalness_cbrt = np.cbrt(df[\"instrumentalness\"])\n",
    "title = ['instrumentalness', 'log(instrumentalness)', 'sqrt(instrumentalness)', 'cbrt(instrumentalness)']\n",
    "instrumentalnesstf , axes = plt.subplots(1, 4, figsize=(25, 5))\n",
    "for idx, col in enumerate([instrumentalness_base, instrumentalness_log, instrumentalness_sqrt, instrumentalness_cbrt]):\n",
    "    sns.histplot(col, ax=axes[idx], kde=True,bins=20)\n",
    "    axes[idx].set_title(title[idx])"
   ]
  },
  {
   "cell_type": "markdown",
   "metadata": {},
   "source": [
    "#### **liveness Feature**"
   ]
  },
  {
   "cell_type": "code",
   "execution_count": null,
   "metadata": {},
   "outputs": [],
   "source": [
    "liveness_base = df['liveness']\n",
    "liveness_log = np.log(df[\"liveness\"])\n",
    "liveness_sqrt = np.sqrt(df[\"liveness\"])\n",
    "liveness_cbrt = np.cbrt(df[\"liveness\"])\n",
    "title = ['liveness', 'log(liveness)', 'sqrt(liveness)', 'cbrt(liveness)']\n",
    "livenesstf , axes = plt.subplots(1, 4, figsize=(25, 5))\n",
    "for idx, col in enumerate([liveness_base, liveness_log, liveness_sqrt, liveness_cbrt]):\n",
    "    sns.histplot(col, ax=axes[idx], kde=True,bins=20)\n",
    "    axes[idx].set_title(title[idx])"
   ]
  },
  {
   "cell_type": "code",
   "execution_count": null,
   "metadata": {},
   "outputs": [],
   "source": [
    "dfLiveness = df.copy()\n",
    "dfLiveness['liveness'] = liveness_log\n",
    "\n",
    "modelBM_Liveness_log, resultBM_Liveness_log, confmatrixBM_Liveness_log, f1BM_Liveness_log = modelTestProcess(dfLiveness, getdummy=1)"
   ]
  },
  {
   "cell_type": "code",
   "execution_count": null,
   "metadata": {},
   "outputs": [],
   "source": [
    "dfLiveness = df.copy()\n",
    "dfLiveness['liveness'] = liveness_cbrt\n",
    "\n",
    "modelBM_Liveness_cbrt, resultBM_Liveness_cbrt, confmatrixBM_Liveness_cbrt, f1BM_Liveness_cbrt = modelTestProcess(dfLiveness, getdummy=1)"
   ]
  },
  {
   "cell_type": "markdown",
   "metadata": {},
   "source": [
    "#### **loudness Feature**"
   ]
  },
  {
   "cell_type": "code",
   "execution_count": null,
   "metadata": {},
   "outputs": [],
   "source": [
    "# Left skewed data can be transformed by taking the square first\n",
    "loudness_base = df['loudness']\n",
    "X = np.square(df[\"loudness\"])\n",
    "loudness_log = np.log(X+1)\n",
    "loudness_sqrt = np.sqrt(X)\n",
    "loudness_cbrt = np.cbrt(X)\n",
    "title = ['loudness', 'log(loudness)', 'sqrt(loudness)', 'cbrt(loudness)']\n",
    "loudnesstf , axes = plt.subplots(1, 4, figsize=(25, 5))\n",
    "for idx, col in enumerate([loudness_base, loudness_log, loudness_sqrt, loudness_cbrt]):\n",
    "    sns.histplot(col, ax=axes[idx], kde=True,bins=20)\n",
    "    axes[idx].set_title(title[idx])"
   ]
  },
  {
   "cell_type": "code",
   "execution_count": null,
   "metadata": {},
   "outputs": [],
   "source": [
    "dfLoudness = df.copy()\n",
    "dfLoudness['loudness'] = loudness_log\n",
    "\n",
    "modelBM_Loudness_log, resultBM_Loudness_log, confmatrixBM_Loudness_log, f1BM_Loudness_log = modelTestProcess(dfLoudness, getdummy=1)"
   ]
  },
  {
   "cell_type": "markdown",
   "metadata": {},
   "source": [
    "#### **speechiness Feature**"
   ]
  },
  {
   "cell_type": "code",
   "execution_count": null,
   "metadata": {},
   "outputs": [],
   "source": [
    "speechiness_base = df['speechiness']\n",
    "speechiness_log = np.log(df[\"speechiness\"])\n",
    "speechiness_sqrt = np.sqrt(df[\"speechiness\"])\n",
    "speechiness_cbrt = np.cbrt(df[\"speechiness\"])\n",
    "title = ['speechiness', 'log(speechiness)', 'sqrt(speechiness)', 'cbrt(speechiness)']\n",
    "speechinesstf , axes = plt.subplots(1, 4, figsize=(25, 5))\n",
    "for idx, col in enumerate([speechiness_base, speechiness_log, speechiness_sqrt, speechiness_cbrt]):\n",
    "    sns.histplot(col, ax=axes[idx], kde=True,bins=20)\n",
    "    axes[idx].set_title(title[idx])"
   ]
  },
  {
   "cell_type": "markdown",
   "metadata": {},
   "source": [
    "#### **Mix Feature**"
   ]
  },
  {
   "cell_type": "code",
   "execution_count": null,
   "metadata": {},
   "outputs": [],
   "source": [
    "dfMix = df.copy()\n",
    "dfMix['duration_ms'] = duration_ms_cbrt\n",
    "dfMix['liveness'] = liveness_cbrt\n",
    "dfMix['loudness'] = loudness_log\n",
    "\n",
    "modelBM_Mix, resultBM_Mix, confmatrixBM_Mix, f1BM_Mix = modelTestProcess(dfMix, getdummy=1)"
   ]
  },
  {
   "cell_type": "markdown",
   "metadata": {},
   "source": [
    "#### **Conclusion**"
   ]
  },
  {
   "cell_type": "code",
   "execution_count": null,
   "metadata": {},
   "outputs": [],
   "source": [
    "dfLoudness.to_csv('Data/dfTranform.csv', index=False)"
   ]
  },
  {
   "cell_type": "markdown",
   "metadata": {},
   "source": [
    "### **Feature Scaling**"
   ]
  },
  {
   "cell_type": "markdown",
   "metadata": {},
   "source": [
    "#### **Import Data**"
   ]
  },
  {
   "cell_type": "code",
   "execution_count": null,
   "metadata": {},
   "outputs": [],
   "source": [
    "df = pd.read_csv('Data/dfTranform.csv')\n",
    "dfNum = ['popularity', 'acousticness', 'danceability', 'duration_ms', 'energy',\n",
    "       'instrumentalness', 'liveness', 'loudness', 'speechiness', 'tempo',\n",
    "       'valence']\n",
    "dfCate = ['key', 'mode']"
   ]
  },
  {
   "cell_type": "code",
   "execution_count": null,
   "metadata": {},
   "outputs": [],
   "source": [
    "df = pd.get_dummies(df, columns=['key','mode'],drop_first=True)\n",
    "X = df.drop(['music_genre'], axis=1)\n",
    "y = df['music_genre']"
   ]
  },
  {
   "cell_type": "markdown",
   "metadata": {},
   "source": [
    "#### **StandardScaler**"
   ]
  },
  {
   "cell_type": "code",
   "execution_count": null,
   "metadata": {},
   "outputs": [],
   "source": [
    "Standardscaler = StandardScaler()\n",
    "Xss = Standardscaler.fit_transform(X)\n",
    "df_FE_SS = pd.DataFrame(Xss, columns=df.drop(['music_genre'], axis=1).columns)\n",
    "df_FE_SS['music_genre'] = y\n",
    "df_FE_SS.describe()"
   ]
  },
  {
   "cell_type": "code",
   "execution_count": null,
   "metadata": {},
   "outputs": [],
   "source": [
    "modelBM_FE_SS, resultBM_FE_SS, confmatrixBM_FE_SS, f1BM_FE_SS = modelTestProcess(df_FE_SS, getdummy=0,tranform=0)"
   ]
  },
  {
   "cell_type": "markdown",
   "metadata": {},
   "source": [
    "#### **MinMaxScaler**"
   ]
  },
  {
   "cell_type": "code",
   "execution_count": null,
   "metadata": {},
   "outputs": [],
   "source": [
    "MinMaxscaler = MinMaxScaler()\n",
    "Xmm = MinMaxscaler.fit_transform(X)\n",
    "df_FE_MM = pd.DataFrame(Xmm, columns=df.drop(['music_genre'], axis=1).columns)\n",
    "df_FE_MM['music_genre'] = y\n",
    "df_FE_MM.describe()"
   ]
  },
  {
   "cell_type": "code",
   "execution_count": null,
   "metadata": {},
   "outputs": [],
   "source": [
    "modelBM_FE_MM, resultBM_FE_MM, confmatrixBM_FE_MM, f1BM_FE_MM = modelTestProcess(df_FE_MM, getdummy=0,tranform=0)"
   ]
  },
  {
   "cell_type": "markdown",
   "metadata": {},
   "source": [
    "#### **RobustScaler**"
   ]
  },
  {
   "cell_type": "code",
   "execution_count": null,
   "metadata": {},
   "outputs": [],
   "source": [
    "Robustscaler = RobustScaler()\n",
    "Xrb = Robustscaler.fit_transform(X)\n",
    "df_FE_RB = pd.DataFrame(Xrb, columns=df.drop(['music_genre'], axis=1).columns)\n",
    "df_FE_RB['music_genre'] = y\n",
    "df_FE_RB.describe()"
   ]
  },
  {
   "cell_type": "code",
   "execution_count": null,
   "metadata": {},
   "outputs": [],
   "source": [
    "modelBM_FE_RB, resultBM_FE_RB, confmatrixBM_FE_RB, f1BM_FE_RB = modelTestProcess(df_FE_RB, getdummy=0,tranform=0)"
   ]
  },
  {
   "cell_type": "markdown",
   "metadata": {},
   "source": [
    "#### **Conclusion**"
   ]
  },
  {
   "cell_type": "code",
   "execution_count": null,
   "metadata": {},
   "outputs": [],
   "source": [
    "df_FE_SS.to_csv('Data/df_FE_SS.csv', index=False)\n",
    "df_FE_RB.to_csv('Data/df_FE_RB.csv', index=False)"
   ]
  },
  {
   "cell_type": "markdown",
   "metadata": {},
   "source": [
    "### **Feature Extraction**"
   ]
  },
  {
   "cell_type": "code",
   "execution_count": null,
   "metadata": {},
   "outputs": [],
   "source": [
    "def checkCorrFF(df, figw, figh):\n",
    "    corr, ax = plt.subplots(1, 1, figsize=(figw, figh))\n",
    "    cor = df.corr()\n",
    "    sns.heatmap(cor, annot=True, cmap='inferno', ax=ax)\n",
    "    return corr"
   ]
  },
  {
   "cell_type": "markdown",
   "metadata": {},
   "source": [
    "#### **Import Data**"
   ]
  },
  {
   "cell_type": "code",
   "execution_count": null,
   "metadata": {},
   "outputs": [],
   "source": [
    "dfSS = pd.read_csv('Data/df_FE_SS.csv')\n",
    "dfRB = pd.read_csv('Data/df_FE_RB.csv')\n",
    "dfNum = ['popularity', 'acousticness', 'danceability', 'duration_ms', 'energy',\n",
    "       'instrumentalness', 'liveness', 'loudness', 'speechiness', 'tempo',\n",
    "       'valence']\n",
    "dfCate = ['key', 'mode']\n",
    "Xss = dfSS.drop(['music_genre'], axis=1)\n",
    "y = dfSS['music_genre']\n",
    "Xrb = dfRB.drop(['music_genre'], axis=1)\n",
    "y_vis = y.replace({'Electronic':0, 'Anime':1, 'Jazz':2, 'Alternative':3, 'Country':4, 'Rap':5, 'Blues':6, 'Rock':7, 'Classical':8, 'Hip-Hop':9})"
   ]
  },
  {
   "cell_type": "code",
   "execution_count": null,
   "metadata": {},
   "outputs": [],
   "source": [
    "dfvis = pd.DataFrame(Xss.copy(), columns=Xrb.columns)\n",
    "dfvis['music_genre'] = y_vis\n",
    "dfSS.describe()"
   ]
  },
  {
   "cell_type": "code",
   "execution_count": null,
   "metadata": {},
   "outputs": [],
   "source": [
    "scaledFECorr = checkCorrFF(dfvis, 20, 20)"
   ]
  },
  {
   "cell_type": "markdown",
   "metadata": {},
   "source": [
    "#### **ANOVA**"
   ]
  },
  {
   "cell_type": "markdown",
   "metadata": {},
   "source": [
    "We will be using ANOVA to select the best features from the dataset because our dataset is both categorical and numerical."
   ]
  },
  {
   "cell_type": "code",
   "execution_count": null,
   "metadata": {},
   "outputs": [],
   "source": [
    "def anovaSelector(df,k:list=['Default'],verbose:int=0):\n",
    "    verboseprint = print if verbose==1 else lambda *a, **k: None\n",
    "    dfa = df.copy()\n",
    "    if k == ['Default']:\n",
    "        k = [int(len(dfa.columns)/2)]\n",
    "    print(f'Start ANOVA feature selection with k={k}')\n",
    "    # Split the data into X and y\n",
    "    X = dfa.drop(['music_genre'], axis=1)\n",
    "    y = dfa['music_genre']\n",
    "    y_vis = y.replace({'Electronic':0, 'Anime':1, 'Jazz':2, 'Alternative':3, 'Country':4, 'Rap':5, 'Blues':6, 'Rock':7, 'Classical':8, 'Hip-Hop':9})\n",
    "    # Create Buffer\n",
    "    bestmodel = {\n",
    "        \"Logistic Regression Model\" : None,\n",
    "        \"Decision Tree Model\" : None,\n",
    "        \"Random Forest Model\" : None,\n",
    "        \"KNN Model\" : None,\n",
    "        \"MLPC Model\" : None,\n",
    "    }\n",
    "    bestresult = {\n",
    "        \"Logistic Regression Model\" : 0,\n",
    "        \"Decision Tree Model\" : 0,\n",
    "        \"Random Forest Model\" : 0,\n",
    "        \"KNN Model\" : 0,\n",
    "        \"MLPC Model\" : 0,   \n",
    "    }\n",
    "    bestK = {\n",
    "        \"Logistic Regression Model\" : 0,\n",
    "        \"Decision Tree Model\" : 0,\n",
    "        \"Random Forest Model\" : 0,\n",
    "        \"KNN Model\" : 0,\n",
    "        \"MLPC Model\" : 0,\n",
    "    }\n",
    "    iteration = 0\n",
    "    for idx in k:\n",
    "        verboseprint(f'Number of features: {idx}')\n",
    "        anova_filter = SelectKBest(f_classif, k=idx)\n",
    "        anova_filter.fit_transform(X, y)\n",
    "        anova_support = anova_filter.get_support(indices=True)\n",
    "        dfanova_select = dfa.iloc[:,anova_support]\n",
    "        dfanova_select['music_genre'] = y\n",
    "        verboseprint(f'Features selected: {dfanova_select.columns}')\n",
    "        verboseprint(f'Star training model...')\n",
    "        model, result, confmatrix, f1 = modelTestProcess(dfanova_select, getdummy=0,tranform=0)\n",
    "        for key in bestmodel:\n",
    "            if f1[key] > bestresult[key]:\n",
    "                bestmodel[key] = model[key]\n",
    "                bestresult[key] = f1[key]\n",
    "                bestK[key] = idx\n",
    "        iteration += 1\n",
    "        verboseprint(f'Iteration {iteration} Best K: {bestK}')\n",
    "        verboseprint('-'*50)\n",
    "    return bestmodel, bestresult, bestK"
   ]
  },
  {
   "cell_type": "code",
   "execution_count": null,
   "metadata": {},
   "outputs": [],
   "source": [
    "'''\n",
    "Start ANOVA feature selection with k=[8, 9, 10, 11, 12, 13, 14, 15, 16]\n",
    "Number of features: 8\n",
    "Features selected: Index(['popularity', 'acousticness', 'danceability', 'energy',\n",
    "       'instrumentalness', 'loudness', 'speechiness', 'valence',\n",
    "       'music_genre'],\n",
    "      dtype='object')\n",
    "Star training model...\n",
    "Logistic Regression Model (F1 score) : 0.5227237031632449\n",
    "Decision Tree Model (F1 score) : 0.43392723233412334\n",
    "Random Forest Model (F1 score) : 0.5398526121142971\n",
    "KNN Model (F1 score) : 0.4951971868881801\n",
    "MLPC Model (F1 score) : 0.5826777164013291\n",
    "Iteration 1 Best K: {'Logistic Regression Model': 8, 'Decision Tree Model': 8, 'Random Forest Model': 8, 'KNN Model': 8, 'MLPC Model': 8}\n",
    "--------------------------------------------------\n",
    "Number of features: 9\n",
    "Features selected: Index(['popularity', 'acousticness', 'danceability', 'duration_ms', 'energy',\n",
    "       'instrumentalness', 'loudness', 'speechiness', 'valence',\n",
    "       'music_genre'],\n",
    "      dtype='object')\n",
    "Star training model...\n",
    "Logistic Regression Model (F1 score) : 0.5297273878521709\n",
    "Decision Tree Model (F1 score) : 0.44192720700336197\n",
    "Random Forest Model (F1 score) : 0.5525403088851218\n",
    "KNN Model (F1 score) : 0.5074958918239332\n",
    "MLPC Model (F1 score) : 0.5906099675537292\n",
    "Iteration 2 Best K: {'Logistic Regression Model': 9, 'Decision Tree Model': 9, 'Random Forest Model': 9, 'KNN Model': 9, 'MLPC Model': 9}\n",
    "--------------------------------------------------\n",
    "Number of features: 10\n",
    "Features selected: Index(['popularity', 'acousticness', 'danceability', 'duration_ms', 'energy',\n",
    "       'instrumentalness', 'loudness', 'speechiness', 'tempo', 'valence',\n",
    "       'music_genre'],\n",
    "      dtype='object')\n",
    "Star training model...\n",
    "Logistic Regression Model (F1 score) : 0.5297312540851875\n",
    "Decision Tree Model (F1 score) : 0.446366726121146\n",
    "Random Forest Model (F1 score) : 0.5579863489861715\n",
    "KNN Model (F1 score) : 0.5140944966621642\n",
    "MLPC Model (F1 score) : 0.5859517043992354\n",
    "Iteration 3 Best K: {'Logistic Regression Model': 10, 'Decision Tree Model': 10, 'Random Forest Model': 10, 'KNN Model': 10, 'MLPC Model': 9}\n",
    "--------------------------------------------------\n",
    "Number of features: 11\n",
    "Features selected: Index(['popularity', 'acousticness', 'danceability', 'duration_ms', 'energy',\n",
    "       'instrumentalness', 'loudness', 'speechiness', 'tempo', 'valence',\n",
    "       'mode_Minor', 'music_genre'],\n",
    "      dtype='object')\n",
    "Star training model...\n",
    "Logistic Regression Model (F1 score) : 0.5368166247627245\n",
    "Decision Tree Model (F1 score) : 0.4424139190259887\n",
    "Random Forest Model (F1 score) : 0.5624468965467975\n",
    "KNN Model (F1 score) : 0.5149300661725246\n",
    "MLPC Model (F1 score) : 0.5909779951636618\n",
    "Iteration 4 Best K: {'Logistic Regression Model': 11, 'Decision Tree Model': 10, 'Random Forest Model': 11, 'KNN Model': 11, 'MLPC Model': 11}\n",
    "--------------------------------------------------\n",
    "Number of features: 12\n",
    "Features selected: Index(['popularity', 'acousticness', 'danceability', 'duration_ms', 'energy',\n",
    "       'instrumentalness', 'liveness', 'loudness', 'speechiness', 'tempo',\n",
    "       'valence', 'mode_Minor', 'music_genre'],\n",
    "      dtype='object')\n",
    "Star training model...\n",
    "Logistic Regression Model (F1 score) : 0.5395554307871461\n",
    "Decision Tree Model (F1 score) : 0.44477939829525365\n",
    "Random Forest Model (F1 score) : 0.5603611637420521\n",
    "KNN Model (F1 score) : 0.5004860053668904\n",
    "MLPC Model (F1 score) : 0.602901304734554\n",
    "Iteration 5 Best K: {'Logistic Regression Model': 12, 'Decision Tree Model': 10, 'Random Forest Model': 11, 'KNN Model': 11, 'MLPC Model': 12}\n",
    "--------------------------------------------------\n",
    "Number of features: 13\n",
    "Features selected: Index(['popularity', 'acousticness', 'danceability', 'duration_ms', 'energy',\n",
    "       'instrumentalness', 'liveness', 'loudness', 'speechiness', 'tempo',\n",
    "       'valence', 'key_C#', 'mode_Minor', 'music_genre'],\n",
    "      dtype='object')\n",
    "Star training model...\n",
    "Logistic Regression Model (F1 score) : 0.5404414382374619\n",
    "Decision Tree Model (F1 score) : 0.44790410411653075\n",
    "Random Forest Model (F1 score) : 0.5630821209411979\n",
    "KNN Model (F1 score) : 0.5000854114293107\n",
    "MLPC Model (F1 score) : 0.5894448864740857\n",
    "Iteration 6 Best K: {'Logistic Regression Model': 13, 'Decision Tree Model': 13, 'Random Forest Model': 13, 'KNN Model': 11, 'MLPC Model': 12}\n",
    "--------------------------------------------------\n",
    "Number of features: 14\n",
    "Features selected: Index(['popularity', 'acousticness', 'danceability', 'duration_ms', 'energy',\n",
    "       'instrumentalness', 'liveness', 'loudness', 'speechiness', 'tempo',\n",
    "       'valence', 'key_C#', 'key_D#', 'mode_Minor', 'music_genre'],\n",
    "      dtype='object')\n",
    "Star training model...\n",
    "Logistic Regression Model (F1 score) : 0.5403303705374426\n",
    "Decision Tree Model (F1 score) : 0.4471806497445034\n",
    "Random Forest Model (F1 score) : 0.5602618411837514\n",
    "KNN Model (F1 score) : 0.4964662520373163\n",
    "MLPC Model (F1 score) : 0.6001207744431826\n",
    "Iteration 7 Best K: {'Logistic Regression Model': 13, 'Decision Tree Model': 13, 'Random Forest Model': 13, 'KNN Model': 11, 'MLPC Model': 12}\n",
    "--------------------------------------------------\n",
    "Number of features: 15\n",
    "Features selected: Index(['popularity', 'acousticness', 'danceability', 'duration_ms', 'energy',\n",
    "       'instrumentalness', 'liveness', 'loudness', 'speechiness', 'tempo',\n",
    "       'valence', 'key_A#', 'key_C#', 'key_D#', 'mode_Minor', 'music_genre'],\n",
    "      dtype='object')\n",
    "Star training model...\n",
    "Logistic Regression Model (F1 score) : 0.5408758154934225\n",
    "Decision Tree Model (F1 score) : 0.44788436321107206\n",
    "Random Forest Model (F1 score) : 0.5598881891565288\n",
    "KNN Model (F1 score) : 0.4908762607162461\n",
    "MLPC Model (F1 score) : 0.5963033764752333\n",
    "Iteration 8 Best K: {'Logistic Regression Model': 15, 'Decision Tree Model': 13, 'Random Forest Model': 13, 'KNN Model': 11, 'MLPC Model': 12}\n",
    "--------------------------------------------------\n",
    "Number of features: 16\n",
    "Features selected: Index(['popularity', 'acousticness', 'danceability', 'duration_ms', 'energy',\n",
    "       'instrumentalness', 'liveness', 'loudness', 'speechiness', 'tempo',\n",
    "       'valence', 'key_A#', 'key_C#', 'key_D', 'key_D#', 'mode_Minor',\n",
    "       'music_genre'],\n",
    "      dtype='object')\n",
    "Star training model...\n",
    "Logistic Regression Model (F1 score) : 0.540789684653497\n",
    "Decision Tree Model (F1 score) : 0.44873556674861154\n",
    "Random Forest Model (F1 score) : 0.5574525890615369\n",
    "KNN Model (F1 score) : 0.4912984248150588\n",
    "MLPC Model (F1 score) : 0.5901304744338816\n",
    "Iteration 9 Best K: {'Logistic Regression Model': 15, 'Decision Tree Model': 16, 'Random Forest Model': 13, 'KNN Model': 11, 'MLPC Model': 12}\n",
    "--------------------------------------------------\n",
    "\n",
    "'''\n",
    "# anovamodelSS, anovaresultSS, anovaKSS = anovaSelector(dfSS,k = [8,9,10,11,12,13,14,15,16],verbose=1)\n",
    "pass"
   ]
  },
  {
   "cell_type": "code",
   "execution_count": null,
   "metadata": {},
   "outputs": [],
   "source": [
    "'''\n",
    "Start ANOVA feature selection with k=[8, 9, 10, 11, 12, 13, 14, 15, 16]\n",
    "Number of features: 8\n",
    "Features selected: Index(['popularity', 'acousticness', 'danceability', 'energy',\n",
    "       'instrumentalness', 'loudness', 'speechiness', 'valence',\n",
    "       'music_genre'],\n",
    "      dtype='object')\n",
    "Star training model...\n",
    "Logistic Regression Model (F1 score) : 0.5230053050686406\n",
    "Decision Tree Model (F1 score) : 0.43411568590165317\n",
    "Random Forest Model (F1 score) : 0.5362054115173611\n",
    "KNN Model (F1 score) : 0.4993425595311983\n",
    "MLPC Model (F1 score) : 0.5851012909274124\n",
    "Iteration 1 Best K: {'Logistic Regression Model': 8, 'Decision Tree Model': 8, 'Random Forest Model': 8, 'KNN Model': 8, 'MLPC Model': 8}\n",
    "--------------------------------------------------\n",
    "Number of features: 9\n",
    "Features selected: Index(['popularity', 'acousticness', 'danceability', 'duration_ms', 'energy',\n",
    "       'instrumentalness', 'loudness', 'speechiness', 'valence',\n",
    "       'music_genre'],\n",
    "      dtype='object')\n",
    "Star training model...\n",
    "Logistic Regression Model (F1 score) : 0.5293303806163776\n",
    "Decision Tree Model (F1 score) : 0.44348851849517135\n",
    "Random Forest Model (F1 score) : 0.552673975914363\n",
    "KNN Model (F1 score) : 0.504402920406828\n",
    "MLPC Model (F1 score) : 0.5907946392797983\n",
    "Iteration 2 Best K: {'Logistic Regression Model': 9, 'Decision Tree Model': 9, 'Random Forest Model': 9, 'KNN Model': 9, 'MLPC Model': 9}\n",
    "--------------------------------------------------\n",
    "Number of features: 10\n",
    "Features selected: Index(['popularity', 'acousticness', 'danceability', 'duration_ms', 'energy',\n",
    "       'instrumentalness', 'loudness', 'speechiness', 'tempo', 'valence',\n",
    "       'music_genre'],\n",
    "      dtype='object')\n",
    "Star training model...\n",
    "Logistic Regression Model (F1 score) : 0.5296285510296003\n",
    "Decision Tree Model (F1 score) : 0.44873811444365735\n",
    "Random Forest Model (F1 score) : 0.5550084056914361\n",
    "KNN Model (F1 score) : 0.5058644840521187\n",
    "MLPC Model (F1 score) : 0.5891689013814947\n",
    "Iteration 3 Best K: {'Logistic Regression Model': 10, 'Decision Tree Model': 10, 'Random Forest Model': 10, 'KNN Model': 10, 'MLPC Model': 9}\n",
    "--------------------------------------------------\n",
    "Number of features: 11\n",
    "Features selected: Index(['popularity', 'acousticness', 'danceability', 'duration_ms', 'energy',\n",
    "       'instrumentalness', 'loudness', 'speechiness', 'tempo', 'valence',\n",
    "       'mode_Minor', 'music_genre'],\n",
    "      dtype='object')\n",
    "Star training model...\n",
    "Logistic Regression Model (F1 score) : 0.5370195686630351\n",
    "Decision Tree Model (F1 score) : 0.44757916126223474\n",
    "Random Forest Model (F1 score) : 0.5616059240879082\n",
    "KNN Model (F1 score) : 0.5052100895135229\n",
    "MLPC Model (F1 score) : 0.5886125555735734\n",
    "Iteration 4 Best K: {'Logistic Regression Model': 11, 'Decision Tree Model': 10, 'Random Forest Model': 11, 'KNN Model': 10, 'MLPC Model': 9}\n",
    "--------------------------------------------------\n",
    "Number of features: 12\n",
    "Features selected: Index(['popularity', 'acousticness', 'danceability', 'duration_ms', 'energy',\n",
    "       'instrumentalness', 'liveness', 'loudness', 'speechiness', 'tempo',\n",
    "       'valence', 'mode_Minor', 'music_genre'],\n",
    "      dtype='object')\n",
    "Star training model...\n",
    "Logistic Regression Model (F1 score) : 0.5390950654528935\n",
    "Decision Tree Model (F1 score) : 0.44486716044030417\n",
    "Random Forest Model (F1 score) : 0.5580967298476013\n",
    "KNN Model (F1 score) : 0.4908427897142021\n",
    "MLPC Model (F1 score) : 0.6021549363189792\n",
    "Iteration 5 Best K: {'Logistic Regression Model': 12, 'Decision Tree Model': 10, 'Random Forest Model': 11, 'KNN Model': 10, 'MLPC Model': 12}\n",
    "--------------------------------------------------\n",
    "Number of features: 13\n",
    "Features selected: Index(['popularity', 'acousticness', 'danceability', 'duration_ms', 'energy',\n",
    "       'instrumentalness', 'liveness', 'loudness', 'speechiness', 'tempo',\n",
    "       'valence', 'key_C#', 'mode_Minor', 'music_genre'],\n",
    "      dtype='object')\n",
    "Star training model...\n",
    "Logistic Regression Model (F1 score) : 0.5402195474485278\n",
    "Decision Tree Model (F1 score) : 0.442352233436013\n",
    "Random Forest Model (F1 score) : 0.563232314387615\n",
    "KNN Model (F1 score) : 0.4907745058531065\n",
    "MLPC Model (F1 score) : 0.5929460211873627\n",
    "Iteration 6 Best K: {'Logistic Regression Model': 13, 'Decision Tree Model': 10, 'Random Forest Model': 13, 'KNN Model': 10, 'MLPC Model': 12}\n",
    "--------------------------------------------------\n",
    "Number of features: 14\n",
    "Features selected: Index(['popularity', 'acousticness', 'danceability', 'duration_ms', 'energy',\n",
    "       'instrumentalness', 'liveness', 'loudness', 'speechiness', 'tempo',\n",
    "       'valence', 'key_C#', 'key_D#', 'mode_Minor', 'music_genre'],\n",
    "      dtype='object')\n",
    "Star training model...\n",
    "Logistic Regression Model (F1 score) : 0.5401314217324025\n",
    "Decision Tree Model (F1 score) : 0.4408979826485338\n",
    "Random Forest Model (F1 score) : 0.5592613843659694\n",
    "KNN Model (F1 score) : 0.49195211023511626\n",
    "MLPC Model (F1 score) : 0.6042552207891586\n",
    "Iteration 7 Best K: {'Logistic Regression Model': 13, 'Decision Tree Model': 10, 'Random Forest Model': 13, 'KNN Model': 10, 'MLPC Model': 14}\n",
    "--------------------------------------------------\n",
    "Number of features: 15\n",
    "Features selected: Index(['popularity', 'acousticness', 'danceability', 'duration_ms', 'energy',\n",
    "       'instrumentalness', 'liveness', 'loudness', 'speechiness', 'tempo',\n",
    "       'valence', 'key_A#', 'key_C#', 'key_D#', 'mode_Minor', 'music_genre'],\n",
    "      dtype='object')\n",
    "Star training model...\n",
    "Logistic Regression Model (F1 score) : 0.5408905204659693\n",
    "Decision Tree Model (F1 score) : 0.446231301481206\n",
    "Random Forest Model (F1 score) : 0.5612048805463546\n",
    "KNN Model (F1 score) : 0.4910809317027264\n",
    "MLPC Model (F1 score) : 0.5962027138682453\n",
    "Iteration 8 Best K: {'Logistic Regression Model': 15, 'Decision Tree Model': 10, 'Random Forest Model': 13, 'KNN Model': 10, 'MLPC Model': 14}\n",
    "--------------------------------------------------\n",
    "Number of features: 16\n",
    "Features selected: Index(['popularity', 'acousticness', 'danceability', 'duration_ms', 'energy',\n",
    "       'instrumentalness', 'liveness', 'loudness', 'speechiness', 'tempo',\n",
    "       'valence', 'key_A#', 'key_C#', 'key_D', 'key_D#', 'mode_Minor',\n",
    "       'music_genre'],\n",
    "      dtype='object')\n",
    "Star training model...\n",
    "Logistic Regression Model (F1 score) : 0.5408699968863111\n",
    "Decision Tree Model (F1 score) : 0.4462829488675167\n",
    "Random Forest Model (F1 score) : 0.5632327896756598\n",
    "KNN Model (F1 score) : 0.49133212232225687\n",
    "MLPC Model (F1 score) : 0.5936959589730711\n",
    "Iteration 9 Best K: {'Logistic Regression Model': 15, 'Decision Tree Model': 10, 'Random Forest Model': 16, 'KNN Model': 10, 'MLPC Model': 14}\n",
    "--------------------------------------------------\n",
    "\n",
    "'''\n",
    "# anovamodelRB, anovaresultRB, anovaKRB = anovaSelector(dfRB,k = [8,9,10,11,12,13,14,15,16],verbose=1)\n",
    "pass"
   ]
  },
  {
   "cell_type": "markdown",
   "metadata": {},
   "source": [
    "เนื่องจากคะแนนที่ได้จากการทำ Benchmark ด้วย ANOVA ที่เลือก Feature ที่มีค่าค่อนข้างสูงที่ K = 11 โดยหากมากกว่านั้นจะมีบาง Model ที่มีคะแนนเพิ่มมากขึ้น แต่เพิ่มขึ้นค่อนข้างน้อยมากดังนั้นแล้วเราจะเลือก K = 11 เพื่อให้ Model ที่ได้มีความแม่นและลด Overfitting ของ Model ลง (เนื่องจากจำนวน Feature ที่เหลือน้อยลง)"
   ]
  },
  {
   "cell_type": "code",
   "execution_count": null,
   "metadata": {},
   "outputs": [],
   "source": [
    "#Logistic Regression Model#\n",
    "selectorSS13 = SelectKBest(f_classif, k=13)\n",
    "XSSselect13 = selectorSS13.fit(Xss, y)\n",
    "col = XSSselect13.get_support(indices=True)\n",
    "dfSSSelect13 = dfSS.iloc[:,col]\n",
    "dfSSSelect13['music_genre'] = y\n",
    "#Decision Tree Model#\n",
    "selectorRB10 = SelectKBest(f_classif, k=10)\n",
    "XselectRB10 = selectorRB10.fit(Xrb, y)\n",
    "col = XselectRB10.get_support(indices=True)\n",
    "dfRBSelect10 = dfRB.iloc[:,col]\n",
    "dfRBSelect10['music_genre'] = y\n",
    "#Random Forest Model#\n",
    "selectorRB13 = SelectKBest(f_classif, k=13)\n",
    "XselectRB13 = selectorRB13.fit(Xrb, y)\n",
    "col = XselectRB13.get_support(indices=True)\n",
    "dfRBSelect13 = dfRB.iloc[:,col]\n",
    "dfRBSelect13['music_genre'] = y\n",
    "#KNN Model#\n",
    "selectorSS11 = SelectKBest(f_classif, k=11)\n",
    "XSSselect11 = selectorSS11.fit(Xss, y)\n",
    "col = XSSselect11.get_support(indices=True)\n",
    "dfSSelect11 = dfSS.iloc[:,col]\n",
    "dfSSelect11['music_genre'] = y\n",
    "#MLPC Model#\n",
    "selectorRB14 = SelectKBest(f_classif, k=14)\n",
    "XselectRB14 = selectorRB14.fit(Xrb, y)\n",
    "col = XselectRB14.get_support(indices=True) \n",
    "dfRBSelect14 = dfRB.iloc[:,col]\n",
    "dfRBSelect14['music_genre'] = y\n",
    "#Grouping the dataframes#\n",
    "dfSelectDict = {'Logistic Regression Model':dfSSSelect13,\n",
    "                'Decision Tree Model':dfRBSelect10,\n",
    "                'Random Forest Model':dfRBSelect13,\n",
    "                'KNN Model':dfSSelect11,\n",
    "                'MLPC Model':dfRBSelect14}"
   ]
  },
  {
   "cell_type": "markdown",
   "metadata": {},
   "source": [
    "โดย Feature ที่ถูกตัดออกจาก Dataset จะมีข้อสังเกตดังนี้ดังนี้"
   ]
  },
  {
   "cell_type": "code",
   "execution_count": null,
   "metadata": {},
   "outputs": [],
   "source": [
    "df = pd.read_csv('Data/dfOutlier_res.csv')\n",
    "Xcat = pd.get_dummies(df.drop(['music_genre'],axis=1),drop_first=True)\n",
    "Xcat = Xcat[['key_A#', 'key_B', 'key_C', 'key_C#', 'key_D', 'key_D#',\n",
    "       'key_E', 'key_F', 'key_F#', 'key_G', 'key_G#', 'mode_Minor',]]\n",
    "Xcat"
   ]
  },
  {
   "cell_type": "code",
   "execution_count": null,
   "metadata": {},
   "outputs": [],
   "source": [
    "dfXCat = pd.concat([Xcat,df['music_genre']],axis=1)\n",
    "dfCateDict = {\"Electronic\": dfXCat.groupby('music_genre').get_group('Hip-Hop'),\n",
    "            \"Anime\": dfXCat.groupby('music_genre').get_group('Anime'),\n",
    "            \"Jazz\": dfXCat.groupby('music_genre').get_group('Jazz'),\n",
    "            \"Alternative\": dfXCat.groupby('music_genre').get_group('Alternative'),\n",
    "            \"Country\": dfXCat.groupby('music_genre').get_group('Country'),\n",
    "            \"Rap\": dfXCat.groupby('music_genre').get_group('Rap'),\n",
    "            \"Blues\": dfXCat.groupby('music_genre').get_group('Blues'),\n",
    "            \"Rock\": dfXCat.groupby('music_genre').get_group('Rock'),\n",
    "            \"Classical\": dfXCat.groupby('music_genre').get_group('Classical'),\n",
    "            \"Hip-Hop\": dfXCat.groupby('music_genre').get_group('Hip-Hop'),\n",
    "}"
   ]
  },
  {
   "cell_type": "code",
   "execution_count": null,
   "metadata": {},
   "outputs": [],
   "source": [
    "catcol = ['key_A#', 'key_B', 'key_C', 'key_C#', 'key_D', 'key_D#',]\n",
    "catVisPlot , axes = plt.subplots( len(catcol),10, figsize=(40, 30))\n",
    "count = 0\n",
    "for key, item in dfCateDict.items():\n",
    "    for idx,col in enumerate(catcol):\n",
    "        ax = axes[idx,count]\n",
    "        sns.countplot(x=col, data=item, ax=ax)\n",
    "        ax.set_title(f'{key} Groups', weight='bold', fontsize=10)\n",
    "    count += 1"
   ]
  },
  {
   "cell_type": "code",
   "execution_count": null,
   "metadata": {},
   "outputs": [],
   "source": [
    "catcol = ['key_E', 'key_F', 'key_F#', 'key_G', 'key_G#', 'mode_Minor',]\n",
    "catVisPlot , axes = plt.subplots( len(catcol),10, figsize=(40, 30))\n",
    "count = 0\n",
    "for key, item in dfCateDict.items():\n",
    "    for idx,col in enumerate(catcol):\n",
    "        ax = axes[idx,count]\n",
    "        sns.countplot(x=col, data=item, ax=ax)\n",
    "        ax.set_title(f'{key} Groups', weight='bold', fontsize=10)\n",
    "    count += 1"
   ]
  },
  {
   "cell_type": "code",
   "execution_count": null,
   "metadata": {},
   "outputs": [],
   "source": [
    "selectorChi2 = SelectKBest(chi2, k=3)\n",
    "XcatSelected = selectorChi2.fit_transform(Xcat, df['music_genre'])\n",
    "colcat = selectorChi2.get_support(indices=True)\n",
    "Xcat = Xcat.iloc[:,colcat]\n",
    "catcol = Xcat.columns\n",
    "Xcat['music_genre'] = df['music_genre']\n",
    "Xcat"
   ]
  },
  {
   "cell_type": "code",
   "execution_count": null,
   "metadata": {},
   "outputs": [],
   "source": [
    "dfCateDict = {\"Electronic\": Xcat.groupby('music_genre').get_group('Hip-Hop'),\n",
    "            \"Anime\": Xcat.groupby('music_genre').get_group('Anime'),\n",
    "            \"Jazz\": Xcat.groupby('music_genre').get_group('Jazz'),\n",
    "            \"Alternative\": Xcat.groupby('music_genre').get_group('Alternative'),\n",
    "            \"Country\": Xcat.groupby('music_genre').get_group('Country'),\n",
    "            \"Rap\": Xcat.groupby('music_genre').get_group('Rap'),\n",
    "            \"Blues\": Xcat.groupby('music_genre').get_group('Blues'),\n",
    "            \"Rock\": Xcat.groupby('music_genre').get_group('Rock'),\n",
    "            \"Classical\": Xcat.groupby('music_genre').get_group('Classical'),\n",
    "            \"Hip-Hop\": Xcat.groupby('music_genre').get_group('Hip-Hop'),\n",
    "}\n",
    "catVisPlot , axes = plt.subplots( len(catcol), 10, figsize=(30, 30))\n",
    "count = 0\n",
    "for key, item in dfCateDict.items():\n",
    "    for idx,col in enumerate(catcol):\n",
    "        ax = axes[idx,count]\n",
    "        sns.countplot(x=col, data=item, ax=ax)\n",
    "        ax.set_title(f'{key} Groups', weight='bold', fontsize=10)\n",
    "    count += 1"
   ]
  },
  {
   "cell_type": "markdown",
   "metadata": {},
   "source": [
    "##### **Performance**"
   ]
  },
  {
   "cell_type": "code",
   "execution_count": null,
   "metadata": {},
   "outputs": [],
   "source": [
    "def modelTestProcessFE(dfdict ,verbose=0):\n",
    "    verboseprint = print if verbose==1 else lambda *a, **k: None\n",
    "    # Model\n",
    "    LR_clf = LogisticRegression(n_jobs=-1, random_state=1,multi_class='multinomial')\n",
    "    DT_clf = DecisionTreeClassifier(random_state=1)\n",
    "    RF_clf = RandomForestClassifier(n_jobs=-1, random_state=1)\n",
    "    KNN_clf = KNeighborsClassifier(n_jobs=-1)\n",
    "    MLPC_clf = MLPClassifier(random_state=1)\n",
    "    # SVC_clf = LinearSVC(random_state=1,multi_class='crammer_singer') # U take too much time\n",
    "    modeldict = {'Logistic Regression Model':LR_clf, 'Decision Tree Model':DT_clf, 'Random Forest Model':RF_clf,\n",
    "                'KNN Model':KNN_clf, 'MLPC Model':MLPC_clf}\n",
    "    # Training\n",
    "    traintestdict = {}\n",
    "    for modelname, model in modeldict.items():\n",
    "        X = dfdict[modelname].drop(['music_genre'],axis=1)\n",
    "        y = dfdict[modelname]['music_genre']\n",
    "        X_train, X_test, y_train, y_test = train_test_split(X, y, test_size=0.2, random_state=1)\n",
    "        traintestdict[modelname] = [X_train, X_test, y_train, y_test]\n",
    "        model.fit(X_train, y_train)\n",
    "        verboseprint(f'{modelname} trained.')\n",
    "        verboseprint(f'-'*50)\n",
    "    # Testing\n",
    "    resultdict = {}\n",
    "    confusion_matrix_dict = {}\n",
    "    f1scoredict = {}\n",
    "    for modelname, model in modeldict.items():\n",
    "        X_train, X_test, y_train, y_test = traintestdict[modelname]\n",
    "        y_pred = model.predict(X_test)\n",
    "        resultdict[modelname] = classification_report(y_test, y_pred)\n",
    "        confusion_matrix_dict[modelname] = confusion_matrix(y_test, y_pred)\n",
    "        f1scoredict[modelname] = f1_score(y_test, y_pred, average='weighted')\n",
    "    for key, value in f1scoredict.items():\n",
    "        print(f'{key} (F1 score) : {value}')\n",
    "    return modeldict,resultdict,confusion_matrix_dict,f1scoredict"
   ]
  },
  {
   "cell_type": "code",
   "execution_count": null,
   "metadata": {},
   "outputs": [],
   "source": [
    "modelBM_Select, resultBM_Select, confmatrixBM_Select, f1BM_Select = modelTestProcessFE(dfSelectDict,verbose=0)"
   ]
  },
  {
   "cell_type": "markdown",
   "metadata": {},
   "source": [
    "#### **Feature Drop Experiment**"
   ]
  },
  {
   "cell_type": "code",
   "execution_count": null,
   "metadata": {},
   "outputs": [],
   "source": [
    "dfSelectDictD = {}\n",
    "for dfname, df in dfSelectDict.items():\n",
    "    dfdrop = df.copy()\n",
    "    dfSelectDictD[dfname] = dfdrop.drop(['loudness','energy'], axis=1)"
   ]
  },
  {
   "cell_type": "code",
   "execution_count": null,
   "metadata": {},
   "outputs": [],
   "source": [
    "SelectD = checkCorrFF(dfSelectDictD['Logistic Regression Model'], 10, 10)"
   ]
  },
  {
   "cell_type": "markdown",
   "metadata": {},
   "source": [
    "##### **Performance**"
   ]
  },
  {
   "cell_type": "code",
   "execution_count": null,
   "metadata": {},
   "outputs": [],
   "source": [
    "modelBM_SelectD, resultBM_SelectD, confmatrixBM_SelectD, f1BM_SelectD = modelTestProcessFE(dfSelectDictD,verbose=0)"
   ]
  },
  {
   "cell_type": "markdown",
   "metadata": {},
   "source": [
    "#### **Principal Component Analysis (PCA)**"
   ]
  },
  {
   "cell_type": "code",
   "execution_count": null,
   "metadata": {},
   "outputs": [],
   "source": [
    "def dfPCAGenerator(df, threshold,verbose:int=0):\n",
    "    verboseprint = print if verbose==1 else lambda *a, **k: None\n",
    "    dfPCA = df.copy()\n",
    "    pca = PCA(n_components = len(dfPCA.columns))           \n",
    "    pca.fit_transform(dfPCA)          \n",
    "\n",
    "    # Print the explained variance ratio\n",
    "    verboseprint('Number of components: ', pca.n_components_)\n",
    "    verboseprint(f'Variace list: {pca.explained_variance_ratio_}')\n",
    "    for i in range(len(pca.explained_variance_ratio_)):\n",
    "        verboseprint('PC', i+1, ': ', np.around(pca.explained_variance_ratio_[i],4), ' (', np.around(sum(pca.explained_variance_ratio_[0:i+1]),4), ')')\n",
    "    \n",
    "    # Select the number of components where the variance is above the threshold\n",
    "    varThreshold = threshold\n",
    "    var = np.where(pca.explained_variance_ratio_.cumsum() >= varThreshold)[0][0] +1\n",
    "    realVar = pca.explained_variance_ratio_.cumsum()[var-1]\n",
    "    print(f'Number of components to explain {realVar*100}% of variance: {var}')\n",
    "    \n",
    "    # Plot the explained variance ratio\n",
    "    if verbose == 1:\n",
    "        fig, ax = plt.subplots(1, 1, figsize=(5, 5))\n",
    "        for i in range(0, len(pca.explained_variance_ratio_)):\n",
    "            ax.plot(i+1, pca.explained_variance_ratio_[i], 'ro')\n",
    "    else :\n",
    "        fig = None\n",
    "    \n",
    "    # Apply PCA to the dataset\n",
    "    dfPCA = df.copy()\n",
    "    pca = PCA(n_components = var)\n",
    "    x_pca = pca.fit_transform(dfPCA)\n",
    "    col = [\n",
    "        str(f'PC{i+1}') for i in range(0, len(pca.explained_variance_ratio_))\n",
    "        ]\n",
    "\n",
    "    dfPCA = pd.DataFrame(x_pca, columns = col)\n",
    "    return dfPCA, fig"
   ]
  },
  {
   "cell_type": "code",
   "execution_count": null,
   "metadata": {},
   "outputs": [],
   "source": [
    "def pcaSelector(df,threshold:list=['Default'],verbose:int=0):\n",
    "    verboseprint = print if verbose==1 else lambda *a, **k: None\n",
    "    dfp = df.copy()\n",
    "    if threshold == ['Default']:\n",
    "        threshold = [0.9]\n",
    "    print(f'Start PCA feature selection with threshold={threshold}')\n",
    "    # Split the data into X and y\n",
    "    X = dfp.drop(['music_genre'], axis=1)\n",
    "    y = dfp['music_genre']\n",
    "    y_vis = y.replace({'Electronic':0, 'Anime':1, 'Jazz':2, 'Alternative':3, 'Country':4, 'Rap':5, 'Blues':6, 'Rock':7, 'Classical':8, 'Hip-Hop':9})\n",
    "    # Create Buffer\n",
    "    bestmodel = {\n",
    "        \"Logistic Regression Model\" : None,\n",
    "        \"Decision Tree Model\" : None,\n",
    "        \"Random Forest Model\" : None,\n",
    "        \"KNN Model\" : None,\n",
    "        \"MLPC Model\" : None,\n",
    "    }\n",
    "    bestresult = {\n",
    "        \"Logistic Regression Model\" : 0,\n",
    "        \"Decision Tree Model\" : 0,\n",
    "        \"Random Forest Model\" : 0,\n",
    "        \"KNN Model\" : 0,\n",
    "        \"MLPC Model\" : 0,   \n",
    "    }\n",
    "    bestthreshold = {\n",
    "        \"Logistic Regression Model\" : 0,\n",
    "        \"Decision Tree Model\" : 0,\n",
    "        \"Random Forest Model\" : 0,\n",
    "        \"KNN Model\" : 0,\n",
    "        \"MLPC Model\" : 0,   \n",
    "    }\n",
    "    for idx in threshold:\n",
    "        verboseprint(f'Threshold: {idx}')\n",
    "        dfPCA, fig = dfPCAGenerator(X, idx, verbose)\n",
    "        dfPCA['music_genre'] = y\n",
    "        verboseprint(f'Star training model...')\n",
    "        model, result, confmatrix, f1 = modelTestProcess(dfPCA, getdummy=0, verbose = verbose)\n",
    "        for key in bestmodel:\n",
    "            if f1[key] > bestresult[key]:\n",
    "                bestmodel[key] = model[key]\n",
    "                bestresult[key] = f1[key]\n",
    "                bestthreshold[key] = idx\n",
    "        print(f'Best Threshold: {bestthreshold}')\n",
    "        print('-'*50)\n",
    "    return bestmodel, bestresult, bestthreshold"
   ]
  },
  {
   "cell_type": "code",
   "execution_count": null,
   "metadata": {},
   "outputs": [],
   "source": [
    "dfSelectPCA = dfSelectDict['KNN Model'].copy()\n",
    "dfSelectDPCA = dfSelectDictD['KNN Model'].copy()\n",
    "Xpca, ypca = dfSelectPCA.drop(['music_genre'], axis=1), dfSelectPCA['music_genre']\n",
    "Xdpca, ydpca = dfSelectDPCA.drop(['music_genre'], axis=1), dfSelectDPCA['music_genre']"
   ]
  },
  {
   "cell_type": "markdown",
   "metadata": {},
   "source": [
    "<hr>\n",
    "\n",
    "##### **PCA For ANOVA data**"
   ]
  },
  {
   "cell_type": "code",
   "execution_count": null,
   "metadata": {},
   "outputs": [],
   "source": [
    "pca = PCA(n_components = len(Xpca.columns))           \n",
    "pca.fit_transform(Xpca)          \n",
    "\n",
    "# Print the explained variance ratio\n",
    "print('Number of components: ', pca.n_components_)\n",
    "print(f'Variace list: {pca.explained_variance_ratio_}')\n",
    "for i in range(len(pca.explained_variance_ratio_)):\n",
    "    print('PC', i+1, ': ', np.around(pca.explained_variance_ratio_[i],4), ' (', np.around(sum(pca.explained_variance_ratio_[0:i+1]),4), ')')"
   ]
  },
  {
   "cell_type": "code",
   "execution_count": null,
   "metadata": {},
   "outputs": [],
   "source": [
    "\"\"\"\n",
    "Start PCA feature selection with threshold=[0.8, 0.85, 0.9, 0.95]\n",
    "Number of components to explain 80.13341881312809% of variance: 6\n",
    "Logistic Regression Model (F1 score) : 0.4118503473308909\n",
    "Decision Tree Model (F1 score) : 0.36533526869986394\n",
    "Random Forest Model (F1 score) : 0.46273105896279\n",
    "KNN Model (F1 score) : 0.44053996015931257\n",
    "MLPC Model (F1 score) : 0.5269162802077092\n",
    "Best Threshold: {'Logistic Regression Model': 0.8, 'Decision Tree Model': 0.8, 'Random Forest Model': 0.8, 'KNN Model': 0.8, 'MLPC Model': 0.8}\n",
    "--------------------------------------------------\n",
    "Number of components to explain 86.8734672325645% of variance: 7\n",
    "Logistic Regression Model (F1 score) : 0.47575086404011274\n",
    "Decision Tree Model (F1 score) : 0.3905854269177193\n",
    "Random Forest Model (F1 score) : 0.49047423230113785\n",
    "KNN Model (F1 score) : 0.4631280889988411\n",
    "MLPC Model (F1 score) : 0.5470036936144879\n",
    "Best Threshold: {'Logistic Regression Model': 0.85, 'Decision Tree Model': 0.85, 'Random Forest Model': 0.85, 'KNN Model': 0.85, 'MLPC Model': 0.85}\n",
    "--------------------------------------------------\n",
    "Number of components to explain 92.26927422848206% of variance: 8\n",
    "Logistic Regression Model (F1 score) : 0.4962113543764658\n",
    "Decision Tree Model (F1 score) : 0.39967763762609543\n",
    "Random Forest Model (F1 score) : 0.5033848948456541\n",
    "KNN Model (F1 score) : 0.47949239177692393\n",
    "MLPC Model (F1 score) : 0.5622034463062784\n",
    "Best Threshold: {'Logistic Regression Model': 0.9, 'Decision Tree Model': 0.9, 'Random Forest Model': 0.9, 'KNN Model': 0.9, 'MLPC Model': 0.9}\n",
    "--------------------------------------------------\n",
    "Number of components to explain 96.49052957230026% of variance: 9\n",
    "Logistic Regression Model (F1 score) : 0.5293066781457637\n",
    "Decision Tree Model (F1 score) : 0.4252619263545418\n",
    "Random Forest Model (F1 score) : 0.5289283656181305\n",
    "KNN Model (F1 score) : 0.5073365597533371\n",
    "MLPC Model (F1 score) : 0.5862417294601185\n",
    "Best Threshold: {'Logistic Regression Model': 0.95, 'Decision Tree Model': 0.95, 'Random Forest Model': 0.95, 'KNN Model': 0.95, 'MLPC Model': 0.95}\n",
    "--------------------------------------------------\n",
    "\"\"\"\n",
    "# bestmodelPCA, bestresultPCA, bestthresholdPCA = pcaSelector(dfSelectPCA,threshold=[0.80,0.85,0.90,0.95],verbose=0)\n",
    "pass"
   ]
  },
  {
   "cell_type": "code",
   "execution_count": null,
   "metadata": {},
   "outputs": [],
   "source": [
    "dfPCA, fig = dfPCAGenerator(Xpca, 0.95)\n",
    "dfPCA['music_genre'] = ypca\n",
    "pcaSummary_df = pd.DataFrame({'Standard deviation': np.sqrt(pca.explained_variance_),\n",
    "                           'Proportion of variance': pca.explained_variance_ratio_,\n",
    "                           'Cumulative proportion': np.cumsum(pca.explained_variance_ratio_),\n",
    "                             'Variance Explanation Ratio': pca.explained_variance_ratio_,\n",
    "                             'Cumulative Ratio' : np.cumsum(pca.explained_variance_ratio_) })\n",
    "\n",
    "pcaSummary_df = pcaSummary_df.transpose()\n",
    "pcaSummary_df.columns = ['PC{}'.format(i) for i in range(1, len(Xpca.columns) + 1)]\n",
    "pcaSummary_df.round(4)"
   ]
  },
  {
   "cell_type": "code",
   "execution_count": null,
   "metadata": {},
   "outputs": [],
   "source": [
    "modelPCA, resultPCA, confmatrixPCA, f1PCA = modelTestProcess(dfPCA, getdummy=0, verbose = 0)"
   ]
  },
  {
   "cell_type": "markdown",
   "metadata": {},
   "source": [
    "<hr>\n",
    "\n",
    "##### **PCA For Feature Drop Experiment**"
   ]
  },
  {
   "cell_type": "code",
   "execution_count": null,
   "metadata": {},
   "outputs": [],
   "source": [
    "pcad = PCA(n_components = len(Xdpca.columns))           \n",
    "pcad.fit_transform(Xdpca)          \n",
    "\n",
    "# Print the explained variance ratio\n",
    "print('Number of components: ', pcad.n_components_)\n",
    "print(f'Variace list: {pcad.explained_variance_ratio_}')\n",
    "for i in range(len(pcad.explained_variance_ratio_)):\n",
    "    print('PC', i+1, ': ', np.around(pcad.explained_variance_ratio_[i],4), ' (', np.around(sum(pcad.explained_variance_ratio_[0:i+1]),4), ')')"
   ]
  },
  {
   "cell_type": "code",
   "execution_count": null,
   "metadata": {},
   "outputs": [],
   "source": [
    "\"\"\"\n",
    "Start PCA feature selection with threshold=[0.8, 0.85, 0.9, 0.95]\n",
    "Number of components to explain 81.88514269137127% of variance: 6\n",
    "Logistic Regression Model (F1 score) : 0.43749069061194235\n",
    "Decision Tree Model (F1 score) : 0.34656430650925113\n",
    "Random Forest Model (F1 score) : 0.4428558407450395\n",
    "KNN Model (F1 score) : 0.4207557937726902\n",
    "MLPC Model (F1 score) : 0.5033062484895149\n",
    "Best Threshold: {'Logistic Regression Model': 0.8, 'Decision Tree Model': 0.8, 'Random Forest Model': 0.8, 'KNN Model': 0.8, 'MLPC Model': 0.8}\n",
    "--------------------------------------------------\n",
    "Number of components to explain 88.74018372435376% of variance: 7\n",
    "Logistic Regression Model (F1 score) : 0.47425527441175735\n",
    "Decision Tree Model (F1 score) : 0.37784552178451886\n",
    "Random Forest Model (F1 score) : 0.4870847622693907\n",
    "KNN Model (F1 score) : 0.4615966974248341\n",
    "MLPC Model (F1 score) : 0.5502193876259416\n",
    "Best Threshold: {'Logistic Regression Model': 0.85, 'Decision Tree Model': 0.85, 'Random Forest Model': 0.85, 'KNN Model': 0.85, 'MLPC Model': 0.85}\n",
    "--------------------------------------------------\n",
    "Number of components to explain 95.15440049248286% of variance: 8\n",
    "Logistic Regression Model (F1 score) : 0.49525616559612523\n",
    "Decision Tree Model (F1 score) : 0.3974066910779274\n",
    "Random Forest Model (F1 score) : 0.5074406182471797\n",
    "KNN Model (F1 score) : 0.4758637837011082\n",
    "MLPC Model (F1 score) : 0.5636870649976061\n",
    "Best Threshold: {'Logistic Regression Model': 0.9, 'Decision Tree Model': 0.9, 'Random Forest Model': 0.9, 'KNN Model': 0.9, 'MLPC Model': 0.9}\n",
    "--------------------------------------------------\n",
    "Number of components to explain 95.15440049248286% of variance: 8\n",
    "Logistic Regression Model (F1 score) : 0.49525616559612523\n",
    "Decision Tree Model (F1 score) : 0.3974066910779274\n",
    "Random Forest Model (F1 score) : 0.5074406182471797\n",
    "KNN Model (F1 score) : 0.4758637837011082\n",
    "MLPC Model (F1 score) : 0.5636870649976061\n",
    "Best Threshold: {'Logistic Regression Model': 0.9, 'Decision Tree Model': 0.9, 'Random Forest Model': 0.9, 'KNN Model': 0.9, 'MLPC Model': 0.9}\n",
    "--------------------------------------------------\n",
    "\"\"\"\n",
    "bestmodelPCA, bestresultPCA, bestthresholdPCA = pcaSelector(dfSelectDPCA,threshold=[0.80,0.85,0.90,0.95],verbose=0)\n",
    "pass"
   ]
  },
  {
   "cell_type": "code",
   "execution_count": null,
   "metadata": {},
   "outputs": [],
   "source": [
    "dfPCAd, fig = dfPCAGenerator(Xdpca, 0.95)\n",
    "dfPCAd['music_genre'] = ydpca\n",
    "pcadSummary_df = pd.DataFrame({'Standard deviation': np.sqrt(pcad.explained_variance_),\n",
    "                           'Proportion of variance': pcad.explained_variance_ratio_,\n",
    "                           'Cumulative proportion': np.cumsum(pcad.explained_variance_ratio_),\n",
    "                             'Variance Explanation Ratio': pcad.explained_variance_ratio_,\n",
    "                             'Cumulative Ratio' : np.cumsum(pcad.explained_variance_ratio_) })\n",
    "\n",
    "pcadSummary_df = pcadSummary_df.transpose()\n",
    "pcadSummary_df.columns = ['PC{}'.format(i) for i in range(1, len(Xdpca.columns) + 1)]\n",
    "pcadSummary_df.round(4)"
   ]
  },
  {
   "cell_type": "code",
   "execution_count": null,
   "metadata": {},
   "outputs": [],
   "source": [
    "modelPCAd , resultPCAd, confmatrixPCAd, f1PCAd = modelTestProcess(dfPCAd, getdummy=0, verbose = 0)"
   ]
  },
  {
   "cell_type": "markdown",
   "metadata": {},
   "source": [
    "#### **Conclusion**"
   ]
  },
  {
   "cell_type": "code",
   "execution_count": null,
   "metadata": {},
   "outputs": [],
   "source": [
    "# ANOVA (11 features)\n",
    "for model, df in dfSelectDict.items():\n",
    "    modelname = model.replace(' ','_')\n",
    "    df.to_csv(f'Data/dfSelect_{modelname}.csv', index=False)\n",
    "dfPCA.to_csv('Data/dfSelectPCA.csv', index=False)\n",
    "# Drop High Correlation (9 features)\n",
    "for model, df in dfSelectDictD.items():\n",
    "    modelname = model.replace(' ','_')\n",
    "    df.to_csv(f'Data/dfSelectD_{modelname}.csv', index=False)\n",
    "dfPCAd.to_csv('Data/dfSelectPCAD.csv', index=False)"
   ]
  }
 ],
 "metadata": {
  "kernelspec": {
   "display_name": "Python 3.9.13 ('tf_ml')",
   "language": "python",
   "name": "python3"
  },
  "language_info": {
   "codemirror_mode": {
    "name": "ipython",
    "version": 3
   },
   "file_extension": ".py",
   "mimetype": "text/x-python",
   "name": "python",
   "nbconvert_exporter": "python",
   "pygments_lexer": "ipython3",
   "version": "3.9.13"
  },
  "orig_nbformat": 4,
  "vscode": {
   "interpreter": {
    "hash": "dcf82d96119c0eaad73d46a06358807d9ad3f569d75914db3f0e04bae2efcc9e"
   }
  }
 },
 "nbformat": 4,
 "nbformat_minor": 2
}
