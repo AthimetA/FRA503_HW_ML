{
 "cells": [
  {
   "cell_type": "code",
   "execution_count": 5,
   "metadata": {},
   "outputs": [],
   "source": [
    "numcol = ['popularity', 'acousticness', 'danceability', 'duration_ms', 'energy',\n",
    "    'instrumentalness', 'liveness', 'loudness', 'speechiness', 'tempo',\n",
    "    'valence']"
   ]
  },
  {
   "cell_type": "code",
   "execution_count": 6,
   "metadata": {},
   "outputs": [
    {
     "name": "stdout",
     "output_type": "stream",
     "text": [
      "['popularity', 'acousticness', 'danceability', 'duration_ms', 'energy', 'instrumentalness', 'loudness', 'speechiness', 'tempo', 'valence']\n"
     ]
    }
   ],
   "source": [
    "numcol.remove('liveness')\n",
    "print(numcol)"
   ]
  },
  {
   "cell_type": "code",
   "execution_count": null,
   "metadata": {},
   "outputs": [],
   "source": [
    "sns.barplot(x=sum_group[col], y=sum_group.index, ci=None, orient='h', ax=ax[0])\n",
    "            ax[0].set_title(f'Total {col} \\nby {feature1} Groups', weight='bold', fontsize=16)\n",
    "\n",
    "            for i,v in enumerate(sum_group[col]):\n",
    "                if i in [1, 2, 3, 4]:\n",
    "                    ax[0].text(v+offset[0], i, '{}'.format(round(v,2)), horizontalalignment='right', verticalalignment='center', weight='bold', color='black', fontsize=12)\n",
    "                else:\n",
    "                    ax[0].text(v+offset[1], i, '{}'.format(round(v,2)), horizontalalignment='left', verticalalignment='center', weight='bold', color='black', fontsize=12)\n",
    "\n",
    "            sns.barplot(x=mean_group[col], y=mean_group.index, ci=None, orient='h', ax=ax[1])\n",
    "            ax[1].set_title(f'Average {col} \\nby {feature1} Groups', weight='bold', fontsize=16)\n",
    "\n",
    "            for i,v in enumerate(mean_group[col]):\n",
    "                ax[1].text(v+offset[2], i, '{}'.format(round(v,2)), horizontalalignment='left', verticalalignment='center', weight='bold', color='black', fontsize=12)\n",
    "                "
   ]
  }
 ],
 "metadata": {
  "kernelspec": {
   "display_name": "Python 3.10.6 64-bit",
   "language": "python",
   "name": "python3"
  },
  "language_info": {
   "codemirror_mode": {
    "name": "ipython",
    "version": 3
   },
   "file_extension": ".py",
   "mimetype": "text/x-python",
   "name": "python",
   "nbconvert_exporter": "python",
   "pygments_lexer": "ipython3",
   "version": "3.10.6"
  },
  "orig_nbformat": 4,
  "vscode": {
   "interpreter": {
    "hash": "26de051ba29f2982a8de78e945f0abaf191376122a1563185a90213a26c5da77"
   }
  }
 },
 "nbformat": 4,
 "nbformat_minor": 2
}
