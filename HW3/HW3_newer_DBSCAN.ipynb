{
 "cells": [
  {
   "cell_type": "markdown",
   "metadata": {},
   "source": [
    "# **HW 3: Data Clustering**\n",
    "<hr>\n",
    "\n",
    "<u>**Members**</u><br>\n",
    "Tharnarch Thoranisttakul 63340500025<br>\n",
    "Athimet Aiewcharoen 63340500068\n",
    "<hr>"
   ]
  },
  {
   "cell_type": "code",
   "execution_count": 1,
   "metadata": {},
   "outputs": [],
   "source": [
    "import warnings\n",
    "warnings.filterwarnings('ignore')\n",
    "\n",
    "import pandas as pd\n",
    "import numpy as np\n",
    "from matplotlib import pyplot as plt\n",
    "import seaborn as sns\n",
    "import plotly.express as px\n",
    "%matplotlib inline\n",
    "\n",
    "import pandas_profiling as pp\n",
    "from yellowbrick.cluster import KElbowVisualizer, SilhouetteVisualizer, InterclusterDistance\n",
    "\n",
    "# Preprocessing\n",
    "from sklearn.preprocessing import StandardScaler, MinMaxScaler, RobustScaler\n",
    "from sklearn.preprocessing import LabelEncoder, OneHotEncoder\n",
    "\n",
    "# Fetures selection\n",
    "from sklearn.feature_selection import SelectKBest, f_classif, chi2,VarianceThreshold\n",
    "from sklearn.decomposition import PCA\n",
    "\n",
    "# Models\n",
    "from sklearn.cluster import KMeans, AgglomerativeClustering, DBSCAN, SpectralClustering, AffinityPropagation, Birch, MeanShift, OPTICS\n",
    "\n",
    "# Model selection\n",
    "from sklearn.model_selection import train_test_split, GridSearchCV, RepeatedKFold, StratifiedKFold, cross_val_score\n",
    "\n",
    "# Resampling\n",
    "from imblearn.over_sampling import SMOTE, ADASYN, RandomOverSampler\n",
    "from imblearn.under_sampling import InstanceHardnessThreshold, RandomUnderSampler, NearMiss\n",
    "\n",
    "# Classification metrics\n",
    "from sklearn.metrics import classification_report, confusion_matrix , silhouette_score , rand_score , adjusted_mutual_info_score, mutual_info_score\n",
    "\n",
    "# Pipeline\n",
    "from sklearn.pipeline import Pipeline\n",
    "from sklearn.impute import SimpleImputer\n",
    "from sklearn.compose import ColumnTransformer\n",
    "from sklearn.base import BaseEstimator, TransformerMixin\n",
    "\n",
    "# For Hierarchical clustering\n",
    "from scipy.cluster.hierarchy import dendrogram, linkage, fcluster, cophenet\n",
    "from scipy.spatial.distance import pdist\n",
    "\n",
    "# Gower distance\n",
    "import gower\n",
    "\n",
    "# Make image directory (img)\n",
    "import os\n",
    "currDir = os.getcwd()\n",
    "if not os.path.exists('img'):\n",
    "    os.mkdir('img')\n",
    "if not os.path.exists('img/hierplot/numvsnum') or not os.path.exists('img/hierplot/catevscate') or not os.path.exists('img/hierplot/numvscate'):\n",
    "    os.makedirs('img/hierplot/numvsnum')\n",
    "    os.makedirs('img/hierplot/catevscate')\n",
    "    os.makedirs('img/hierplot/numvscate')\n",
    "\n",
    "# Set global random seed\n",
    "np.random.seed(1)"
   ]
  },
  {
   "cell_type": "code",
   "execution_count": 2,
   "metadata": {},
   "outputs": [],
   "source": [
    "from matplotlib.colors import ListedColormap\n",
    "\n",
    "cmap = ListedColormap([(0.235, 0.635, 0.827), (0.863, 0.863, 0.863)])\n",
    "snsPalette = [(0.235, 0.635, 0.827), (0.475, 0.027, 0.082)]\n",
    "bgColor = (0.059, 0.067, 0.102)\n",
    "axBGColor = (0.863, 0.863, 0.863)\n",
    "barColor = (0.235, 0.635, 0.827)\n",
    "axTextColor = (0.9, 0.9, 0.9)\n",
    "textColor = (0, 0, 0)\n",
    "titleColor = (0.9, 0.9, 0.9)\n",
    "plt.rcParams['figure.facecolor'] = bgColor\n",
    "plt.rcParams['axes.facecolor'] = axBGColor\n",
    "plt.rcParams['axes.edgecolor'] = axTextColor\n",
    "plt.rcParams['axes.labelcolor'] = axTextColor\n",
    "plt.rcParams['xtick.color'] = axTextColor\n",
    "plt.rcParams['ytick.color'] = axTextColor\n",
    "plt.rcParams['text.color'] = textColor\n",
    "plt.rcParams['axes.titlecolor'] = titleColor\n",
    "plt.rcParams['legend.labelcolor'] = titleColor"
   ]
  },
  {
   "cell_type": "code",
   "execution_count": null,
   "metadata": {},
   "outputs": [],
   "source": [
    "def checkCorrFF(df, pathToImg = None):\n",
    "    plt.figure(figsize=(20,10))\n",
    "    cor = df.corr()\n",
    "    sns.heatmap(cor, annot=True, cmap='inferno')\n",
    "    if pathToImg != None:\n",
    "        plt.savefig(pathToImg, bbox_inches='tight')\n",
    "    plt.show()"
   ]
  },
  {
   "cell_type": "markdown",
   "metadata": {},
   "source": [
    "## **Data Exploration**\n",
    "\n",
    "From the description file, there are a total of 17 features in this dataset which are:\n",
    "\n",
    "|Feature Name|Description|Data Type|\n",
    "|:-:|-|:-:|\n",
    "|<font color='green'>age</font>|Customer's age (in years)|<font color='red'>Numerical</font>|\n",
    "|<font color='green'>job</font>|Types of Job|<font color='red'>Categorical</font>|\n",
    "|<font color='green'>marital</font>|Marital Status|<font color='red'>Categorical</font>|\n",
    "|<font color='green'>education</font>|Education|<font color='red'>Categorical</font>|\n",
    "|<font color='green'>default</font>|Has credit in Default?|<font color='red'>Categorical</font>|\n",
    "|<font color='green'>balance</font>|Average yearly balance|<font color='red'>Numerical</font>|\n",
    "|<font color='green'>housing</font>|Has housing loan?|<font color='red'>Categorical</font>|\n",
    "|<font color='green'>loan</font>|Has personal loan?|<font color='red'>Categorical</font>|\n",
    "|<font color='green'>contact</font>|Contact Communication Type|<font color='red'>Categorical</font>|\n",
    "|<font color='green'>day</font>|Last contact day of the month|<font color='red'>Numerical</font>|\n",
    "|<font color='green'>month</font>|Last contact month of the year|<font color='red'>Categorical</font>|\n",
    "|<font color='green'>duration</font>|Last contact duration (in seconds).<br><br> Important note: this attribute highly affects the output target (e.g., if duration=0 then y='no'). Yet, the duration is not known before a call is performed. Also, after the end of the call y is obviously known. Thus, this input should only be included for benchmark purposes and should be discarded if the intention is to have a realistic predictive model.|<font color='red'>Numerical</font>|\n",
    "|<font color='green'>campaign</font>|no. of contacts performed during this campaign and for this client|<font color='red'>Numerical</font>|\n",
    "|<font color='green'>pdays</font>|no. of days that passed by after the client was last contacted from a previous campaign (-1 means client was not previously contacted)|<font color='red'>Numerical</font>|\n",
    "|<font color='green'>previous</font>|no. of contacts performed before this campaign and for this client|<font color='red'>Numerical</font>|\n",
    "|<font color='green'>poutcome</font>|outcome of the previous marketing campaign|<font color='red'>Categorical</font>|\n",
    "|<font color='green'>y</font>|has the client subscribed a term deposit?|<font color='red'>Categorical</font> [Output]|\n",
    "\n",
    "Number of instances: 45211 for bank-full.csv <br>\n",
    "Number of Attributes: 16 + output attribute (17)<br>\n",
    "(45211 rows, 17 columns)\n",
    "\n",
    "Missing Attribute Values: None"
   ]
  },
  {
   "cell_type": "markdown",
   "metadata": {},
   "source": [
    "### **Import Dataset**"
   ]
  },
  {
   "cell_type": "code",
   "execution_count": 1,
   "metadata": {},
   "outputs": [
    {
     "ename": "NameError",
     "evalue": "name 'pd' is not defined",
     "output_type": "error",
     "traceback": [
      "\u001b[1;31m---------------------------------------------------------------------------\u001b[0m",
      "\u001b[1;31mNameError\u001b[0m                                 Traceback (most recent call last)",
      "Cell \u001b[1;32mIn [1], line 1\u001b[0m\n\u001b[1;32m----> 1\u001b[0m dfOri \u001b[39m=\u001b[39m pd\u001b[39m.\u001b[39mread_csv(\u001b[39m'\u001b[39m\u001b[39m../HWdata/bank/bank-full.csv\u001b[39m\u001b[39m'\u001b[39m, sep\u001b[39m=\u001b[39m\u001b[39m'\u001b[39m\u001b[39m;\u001b[39m\u001b[39m'\u001b[39m)\n\u001b[0;32m      2\u001b[0m df \u001b[39m=\u001b[39m dfOri\u001b[39m.\u001b[39mcopy()\n",
      "\u001b[1;31mNameError\u001b[0m: name 'pd' is not defined"
     ]
    }
   ],
   "source": [
    "dfOri = pd.read_csv('../HWdata/bank/bank-full.csv', sep=';')\n",
    "df = dfOri.copy()"
   ]
  },
  {
   "cell_type": "code",
   "execution_count": null,
   "metadata": {},
   "outputs": [],
   "source": [
    "df.head()"
   ]
  },
  {
   "cell_type": "code",
   "execution_count": null,
   "metadata": {},
   "outputs": [],
   "source": [
    "df.tail()"
   ]
  },
  {
   "cell_type": "code",
   "execution_count": null,
   "metadata": {},
   "outputs": [],
   "source": [
    "print(f\"No. of Instances: {df.shape[0]}\\nNo. of Features: {df.shape[1]}\")"
   ]
  },
  {
   "cell_type": "markdown",
   "metadata": {},
   "source": [
    "### **Remove Unnecessary Features**"
   ]
  },
  {
   "cell_type": "code",
   "execution_count": null,
   "metadata": {},
   "outputs": [],
   "source": [
    "if 'duration' in df.columns:\n",
    "    df.drop('duration', axis=1, inplace=True)\n",
    "    print(f\"No. of Features Left: {df.shape[1]}\")\n",
    "else:\n",
    "    print(\"\\'Duration\\' removed!\")"
   ]
  },
  {
   "cell_type": "markdown",
   "metadata": {},
   "source": [
    "### **Check and Remove Duplicates** "
   ]
  },
  {
   "cell_type": "code",
   "execution_count": null,
   "metadata": {},
   "outputs": [],
   "source": [
    "print(f\"No. of Duplicates: {df.duplicated().sum()}\")"
   ]
  },
  {
   "cell_type": "code",
   "execution_count": null,
   "metadata": {},
   "outputs": [],
   "source": [
    "if df.duplicated().sum() > 0:\n",
    "    df.drop_duplicates(inplace=True)\n",
    "    print(f\"No. of Instances Left: {df.shape[0]}\")\n",
    "else:\n",
    "    print(\"No duplicates!\")"
   ]
  },
  {
   "cell_type": "code",
   "execution_count": null,
   "metadata": {},
   "outputs": [],
   "source": [
    "df.info()"
   ]
  },
  {
   "cell_type": "markdown",
   "metadata": {},
   "source": [
    "### **Check and Remove Missing Values**"
   ]
  },
  {
   "cell_type": "code",
   "execution_count": null,
   "metadata": {},
   "outputs": [],
   "source": [
    "if df.isna().sum().sum() > 0:\n",
    "    df.dropna(inplace=True)\n",
    "    print(f\"No. of Instances Left: {df.shape[0]}\")\n",
    "else:\n",
    "    print(\"No missing values!\")"
   ]
  },
  {
   "cell_type": "markdown",
   "metadata": {},
   "source": [
    "### **Replace Data in \"pdays\"**\n",
    "The datasets stated that the value of -1 in \"pdays\" means that the client was not previously contacted. However, the value of -1 is not a valid value for \"pdays\" because it is a numerical value (day can't be negative). Therefore, we replace the value of -1 with 0."
   ]
  },
  {
   "cell_type": "code",
   "execution_count": null,
   "metadata": {},
   "outputs": [],
   "source": [
    "df['pdays'].value_counts()"
   ]
  },
  {
   "cell_type": "code",
   "execution_count": null,
   "metadata": {},
   "outputs": [],
   "source": [
    "df['pdays'].replace(-1, 0, inplace=True)\n",
    "df['pdays'].value_counts()"
   ]
  },
  {
   "cell_type": "markdown",
   "metadata": {},
   "source": [
    "Since there are 16 duplicated instances and no missing values, we are left with 45195 instances.  \n",
    "Furthermore, after dropping the unnecessary features, we are left with 16 features including output (y).\n",
    "\n",
    "In which, there are:\n",
    "\n",
    "- 10 features, including output, that are '<font color='green'>object</font>', which means that they are '<font color='red'>Categorical Features</font>'.\n",
    "- 6 features that are '<font color='green'>int64</font>', which means that they are '<font color='red'>Numerical Features</font>'"
   ]
  },
  {
   "cell_type": "markdown",
   "metadata": {},
   "source": [
    "### **Sort Features**\n",
    "**Order:**\n",
    "1. Numerical Features\n",
    "2. Categorical Features\n",
    "3. Output\n",
    "\n",
    "**Separate Numerical Features from Dataset**"
   ]
  },
  {
   "cell_type": "code",
   "execution_count": null,
   "metadata": {},
   "outputs": [],
   "source": [
    "dfNum = df.select_dtypes(include=['int64'])"
   ]
  },
  {
   "cell_type": "markdown",
   "metadata": {},
   "source": [
    "**Separate Categorical Features from Dataset**"
   ]
  },
  {
   "cell_type": "code",
   "execution_count": null,
   "metadata": {},
   "outputs": [],
   "source": [
    "dfCate = df.select_dtypes(include=['object'])\n",
    "dfCate = dfCate.iloc[:,:-1]"
   ]
  },
  {
   "cell_type": "markdown",
   "metadata": {},
   "source": [
    "**Separate Output from Dataset**"
   ]
  },
  {
   "cell_type": "code",
   "execution_count": null,
   "metadata": {},
   "outputs": [],
   "source": [
    "dfOut = df.iloc[:,len(df.columns)-1:len(df.columns)]"
   ]
  },
  {
   "cell_type": "markdown",
   "metadata": {},
   "source": [
    "**Concatenate Separated Data**"
   ]
  },
  {
   "cell_type": "code",
   "execution_count": null,
   "metadata": {},
   "outputs": [],
   "source": [
    "df = pd.concat([dfNum, dfCate, dfOut], axis=1)\n",
    "df['y'] = df['y'].apply(lambda x: 1 if x == 'yes' else 0)"
   ]
  },
  {
   "cell_type": "markdown",
   "metadata": {},
   "source": [
    "**Separate Yes and No from Output**"
   ]
  },
  {
   "cell_type": "code",
   "execution_count": null,
   "metadata": {},
   "outputs": [],
   "source": [
    "dfYes = df[df['y'] == 1]\n",
    "dfNo = df[df['y'] == 0]"
   ]
  },
  {
   "cell_type": "code",
   "execution_count": null,
   "metadata": {},
   "outputs": [],
   "source": [
    "df.info()"
   ]
  },
  {
   "cell_type": "markdown",
   "metadata": {},
   "source": [
    "### **Overall Report**"
   ]
  },
  {
   "cell_type": "code",
   "execution_count": null,
   "metadata": {},
   "outputs": [],
   "source": [
    "dfProfile = df.copy()\n",
    "dfProfile.reset_index(drop=True, inplace=True)\n",
    "profile = pp.ProfileReport(dfProfile, title=\"Bank Full Report\", dark_mode=True)\n",
    "profile.config.html.style.primary_color = '#3CA2D3'\n",
    "if not os.path.exists(os.path.join(currDir, 'HW3OverallReport.html')):\n",
    "    profile.to_file('HW3OverallReport.html')\n",
    "profile.to_notebook_iframe()"
   ]
  },
  {
   "cell_type": "markdown",
   "metadata": {},
   "source": [
    "#### **Plot Features of Separated Output**"
   ]
  },
  {
   "cell_type": "code",
   "execution_count": null,
   "metadata": {},
   "outputs": [],
   "source": [
    "OutDist, ax = plt.subplots(1, 1, figsize=(5,5))\n",
    "df.groupby('y').size().plot(kind = 'pie',\n",
    "                            y = \"y\",\n",
    "                            autopct = '%1.1f%%',\n",
    "                            ax = ax,\n",
    "                            colormap = cmap)\n",
    "ax.set_ylabel('Output')\n",
    "OutDist.suptitle(\"Output Distribution\", fontsize=16, color=titleColor)\n",
    "OutDist.subplots_adjust(top=1.1)"
   ]
  },
  {
   "cell_type": "code",
   "execution_count": null,
   "metadata": {},
   "outputs": [],
   "source": [
    "AllHists, axes = plt.subplots(3, 15, figsize=(80, 20))\n",
    "for idx, col in enumerate(df.columns):\n",
    "    if col != 'y':\n",
    "        sns.histplot(ax = axes[0, idx],\n",
    "                     data = df,\n",
    "                     x = col,\n",
    "                     kde = False,\n",
    "                     color = barColor)\n",
    "        axes[0, idx].set_title(col + \" (Base)\")\n",
    "for idx, col in enumerate(dfNo.columns):\n",
    "    if col != 'y':\n",
    "        sns.histplot(ax = axes[1, idx],\n",
    "                     data = dfNo,\n",
    "                     x = col,\n",
    "                     kde = False,\n",
    "                     color = barColor)\n",
    "        axes[1, idx].set_title(col + \" (No)\")\n",
    "for idx, col in enumerate(dfYes.columns):\n",
    "    if col != 'y':\n",
    "        sns.histplot(ax = axes[2, idx],\n",
    "                     data = df,\n",
    "                     x = col,\n",
    "                     kde = False,\n",
    "                     color = barColor)\n",
    "        axes[2, idx].set_title(col + \" (Yes)\")\n",
    "AllHists.suptitle(\"Histograms of All Features\",\n",
    "                  fontsize = 36,\n",
    "                  color = titleColor)\n",
    "AllHists.subplots_adjust(top=0.92)"
   ]
  },
  {
   "cell_type": "code",
   "execution_count": null,
   "metadata": {},
   "outputs": [],
   "source": [
    "NumHists, axes = plt.subplots(2, 3, figsize=(20, 10))\n",
    "for idx, col in enumerate(dfNum.columns):\n",
    "    if col != 'y' and idx < 3:\n",
    "        sns.histplot(ax = axes[0, idx],\n",
    "                     data = df,\n",
    "                     x = col,\n",
    "                     kde = False,\n",
    "                     color = barColor)\n",
    "        axes[0, idx].set_title(col + \" (Base)\")\n",
    "    else:\n",
    "        sns.histplot(ax = axes[1, idx-3],\n",
    "                     data = df,\n",
    "                     x = col,\n",
    "                     kde = False,\n",
    "                     color = barColor)\n",
    "        axes[1, idx-3].set_title(col + \" (Base)\")\n",
    "NumHists.suptitle(\"Histograms of Numerical Features\",\n",
    "                  fontsize = 24,\n",
    "                  color = titleColor)\n",
    "NumHists.subplots_adjust(top=0.9)\n"
   ]
  },
  {
   "cell_type": "code",
   "execution_count": null,
   "metadata": {},
   "outputs": [],
   "source": [
    "CateHists, axes = plt.subplots(3, 3, figsize=(30, 20))\n",
    "for idx, col in enumerate(dfCate.columns):\n",
    "    if col != 'y' and idx < 3:\n",
    "        sns.histplot(ax = axes[0, idx],\n",
    "                     data = df,\n",
    "                     x = col,\n",
    "                     kde = False,\n",
    "                     color = barColor)\n",
    "        axes[0, idx].set_title(col + \" (Base)\")\n",
    "    elif col != 'y' and idx < 6:\n",
    "        sns.histplot(ax = axes[1, idx-3],\n",
    "                     data = df,\n",
    "                     x = col,\n",
    "                     kde = False,\n",
    "                     color = barColor)\n",
    "        axes[1, idx-3].set_title(col + \" (Base)\")\n",
    "    else:\n",
    "        sns.histplot(ax = axes[2, idx-6],\n",
    "                     data = df,\n",
    "                     x = col,\n",
    "                     kde = False,\n",
    "                     color = barColor)\n",
    "        axes[2, idx-6].set_title(col + \" (Base)\")\n",
    "CateHists.suptitle(\"Histograms of Categorical Features\",\n",
    "                   fontsize = 28,\n",
    "                   color = titleColor)\n",
    "CateHists.subplots_adjust(top=0.93)"
   ]
  },
  {
   "cell_type": "markdown",
   "metadata": {},
   "source": [
    "From here, we will be taking some features that are noticeably different when plotting against output to re-plot it for better visualization."
   ]
  },
  {
   "cell_type": "code",
   "execution_count": null,
   "metadata": {},
   "outputs": [],
   "source": [
    "colToPlot = ['education', 'housing', 'contact', 'poutcome']\n",
    "SelectHists, axes = plt.subplots(3, 4, figsize=(25, 15))\n",
    "for idx, col in enumerate(colToPlot):\n",
    "    sns.histplot(ax = axes[0, idx],\n",
    "                 data = df,\n",
    "                 x = col,\n",
    "                 kde = False,\n",
    "                 color = barColor)\n",
    "    axes[0, idx].set_title(col + \" (Base)\")\n",
    "    sns.histplot(ax = axes[1, idx],\n",
    "                 data = dfNo,\n",
    "                 x = col,\n",
    "                 kde = False,\n",
    "                 color = barColor)\n",
    "    axes[1, idx].set_title(col + \" (No)\")\n",
    "    sns.histplot(ax = axes[2, idx],\n",
    "                 data = dfYes,\n",
    "                 x = col,\n",
    "                 kde = False,\n",
    "                 color = barColor)\n",
    "    axes[2, idx].set_title(col + \" (Yes)\")\n",
    "SelectHists.suptitle(\"Histograms of Selected Categorical Features\",\n",
    "                     fontsize = 24,\n",
    "                     color = titleColor)\n",
    "SelectHists.subplots_adjust(top=0.92)\n"
   ]
  },
  {
   "cell_type": "code",
   "execution_count": null,
   "metadata": {},
   "outputs": [],
   "source": [
    "df_vis = df.copy()\n",
    "df_vis.columns\n",
    "df_vis['month'] = pd.Categorical(df_vis['month'],['jan', 'feb', 'mar', 'apr', 'may', 'jun', 'jul', 'aug', 'sep', 'oct', 'nov', 'dec'])"
   ]
  },
  {
   "cell_type": "code",
   "execution_count": null,
   "metadata": {},
   "outputs": [],
   "source": [
    "dayPlot, axes = plt.subplots(1, 2, figsize=(10, 5))\n",
    "sns.histplot(data = df_vis, \n",
    "            x = 'day', \n",
    "            hue = 'y',\n",
    "            bins=31,\n",
    "            ax=axes[0])\n",
    "sns.histplot(data = df_vis, \n",
    "            x = 'month', \n",
    "            hue = 'y',\n",
    "            ax=axes[1])"
   ]
  },
  {
   "cell_type": "code",
   "execution_count": null,
   "metadata": {},
   "outputs": [],
   "source": [
    "MoneyPlot, axes = plt.subplots(1, 3, figsize=(15, 5))\n",
    "sns.histplot(data = df_vis, \n",
    "            x = 'default', \n",
    "            hue = 'y',\n",
    "            palette = snsPalette,\n",
    "            ax=axes[0])\n",
    "sns.histplot(data = df_vis, \n",
    "            x = 'housing', \n",
    "            hue = 'y',\n",
    "            palette = snsPalette,\n",
    "            ax=axes[1])\n",
    "sns.histplot(data = df_vis, \n",
    "            x = 'loan', \n",
    "            hue = 'y',\n",
    "            palette = snsPalette,\n",
    "            ax=axes[2])"
   ]
  },
  {
   "cell_type": "code",
   "execution_count": null,
   "metadata": {},
   "outputs": [],
   "source": [
    "age_group = pd.cut(df_vis['age'], [10, 20, 30, 40, 50, 60, 70, 80])\n",
    "df_vis['age'] = age_group\n",
    "sum_group = df_vis[['balance','age']].groupby('age').sum()\n",
    "mean_group  = df_vis[['balance','age']].groupby('age').mean()"
   ]
  },
  {
   "cell_type": "code",
   "execution_count": null,
   "metadata": {},
   "outputs": [],
   "source": [
    "ageGroupPlot, axes = plt.subplots(1, 2, figsize=(20, 8))\n",
    "axes = axes.flatten()\n",
    "\n",
    "sns.barplot(x=sum_group['balance'], y=sum_group.index, ci=None, orient='h', ax=axes[0])\n",
    "axes[0].set_title('Total balance \\nby Age Groups', weight='bold', fontsize=16)\n",
    "\n",
    "for i,v in enumerate(sum_group['balance']):\n",
    "    if i in [1, 2, 3, 4]:\n",
    "        axes[0].text(v-1000000, i, '$ {}'.format(v), horizontalalignment='right', verticalalignment='center', weight='bold', color='black', fontsize=12)\n",
    "    else:\n",
    "        axes[0].text(v+500000, i, '$ {}'.format(v), horizontalalignment='left', verticalalignment='center', weight='bold', color='black', fontsize=12)\n",
    "\n",
    "sns.barplot(x=mean_group['balance'], y=mean_group.index, ci=None, orient='h', ax=axes[1])\n",
    "axes[1].set_title('Average balance \\nby Age Groups', weight='bold', fontsize=16)\n",
    "\n",
    "for i,v in enumerate(mean_group['balance']):\n",
    "    axes[1].text(v-130, i, '$ {}'.format(round(v,2)), horizontalalignment='right', verticalalignment='center', weight='bold', color='black', fontsize=12)"
   ]
  },
  {
   "cell_type": "markdown",
   "metadata": {},
   "source": [
    "We can see that these features have different charts when plotting against each output. Features plotted against output 'yes' have different bar charts compared to features plotted against all output data while features plotted against output 'no' has the same bar charts.\n",
    "\n",
    "|Feature Names|Information|\n",
    "|-|-|\n",
    "|education|The client with 'secondary' education level has more chance to subscribe a term deposit|\n",
    "|housing|The client with 'no' housing loan has more chance to subscribe a term deposit|\n",
    "|contact|The client with 'unknown' communication type has more chance not to subscribe a term deposit|\n",
    "|poutcome|The client with 'success' outcome of the previous marketing campaign has more chance to subscribe a term deposit|"
   ]
  },
  {
   "cell_type": "markdown",
   "metadata": {},
   "source": [
    "#### **Pairplotting Data Samples**\n",
    "\n",
    "We will be pairplotting a tenth of the whole dataset to see the distribution of the data."
   ]
  },
  {
   "cell_type": "code",
   "execution_count": null,
   "metadata": {},
   "outputs": [],
   "source": [
    "# PairSamp, ax = plt.subplots(1, 1, figsize=(10, 10))\n",
    "PairSamp = sns.pairplot(data = df.sample(int(df.shape[0]/10), random_state=777),\n",
    "             diag_kind = 'kde',\n",
    "             hue = 'y',\n",
    "             palette = snsPalette)\n",
    "PairSamp.fig.suptitle(\"Pairplot of Sampled Data\",\n",
    "                      fontsize=16,\n",
    "                      color=titleColor)\n",
    "PairSamp.fig.subplots_adjust(top=0.95)\n",
    "plt.show(PairSamp)"
   ]
  },
  {
   "cell_type": "markdown",
   "metadata": {},
   "source": [
    "From the pairplot, we can see that the variance between features are quite low and the variance within features are quite high."
   ]
  },
  {
   "cell_type": "markdown",
   "metadata": {},
   "source": [
    "#### **Check for Outliers**"
   ]
  },
  {
   "cell_type": "code",
   "execution_count": null,
   "metadata": {},
   "outputs": [],
   "source": [
    "BoxStrip, axes = plt.subplots(2, 6, figsize=(30, 30))\n",
    "for idx, col in enumerate(dfNum.columns):\n",
    "    if col != 'y':\n",
    "        sns.boxplot(ax = axes[0, idx],\n",
    "                    data = df,\n",
    "                    x = 'y',\n",
    "                    y = col,\n",
    "                    palette = snsPalette)\n",
    "        axes[0, idx].set_title(col + \" (Box)\")\n",
    "        sns.stripplot(ax = axes[1, idx],\n",
    "                      data = df,\n",
    "                      x = 'y',\n",
    "                      y = col,\n",
    "                      palette = snsPalette)\n",
    "        axes[1, idx].set_title(col + \" (Strip)\")\n",
    "BoxStrip.suptitle(\"Box and Strip Plots of All Features\",\n",
    "                  fontsize = 32,\n",
    "                  color = titleColor)\n",
    "BoxStrip.subplots_adjust(top=0.95, hspace=0.08)\n",
    "plt.show(BoxStrip)"
   ]
  },
  {
   "cell_type": "markdown",
   "metadata": {},
   "source": [
    "From the plot above, outliers can be seen in the following features:\n",
    "- balance\n",
    "- campaign\n",
    "- previous\n",
    "\n",
    "We will remove the outliers at the start of data preprocessing."
   ]
  },
  {
   "cell_type": "markdown",
   "metadata": {},
   "source": [
    "### **Data Exploration's Conclusion**"
   ]
  },
  {
   "cell_type": "markdown",
   "metadata": {},
   "source": [
    "From the overall report,\n",
    "\n",
    "Plotting Histogram of Numerical Features:\n",
    "\n",
    "|Feature Names|Distribution|\n",
    "|-|-|\n",
    "|age|Right-skewed|\n",
    "|balance|Right-skewed|\n",
    "|day|Uniform|\n",
    "|campaign|Right-skewed|\n",
    "|pdays|Right-skewed|\n",
    "|previous|Right-skewed|"
   ]
  },
  {
   "cell_type": "markdown",
   "metadata": {},
   "source": [
    "Plotting Values Count of Categorical Features:\n",
    "\n",
    "|Feature Names|What we got|\n",
    "|-|-|\n",
    "|job|Most common jobs are 'blue-collar', 'management' and 'technician' (59.2% in total).|\n",
    "|marital|60.2% of this data are 'Married', 28.3% are 'Single' and the rest are 'Divorced'|\n",
    "|education|Mostly 'secondary' (51.3%) followed by 'tertiary' (29.4%), 'primary' (15.2%) and 'unknown' (4.1%)|\n",
    "|default|Mostly 'false' (98.2%)|\n",
    "|housing|55.6% are 'true' and the rest are 'false'|\n",
    "|loan|Mostly 'false' (84%)|\n",
    "|contact|Mostly 'cellular' (64.8%) followed by 'unknown' (28.8%) and 'telephone' (6.4%)|\n",
    "|month|Mostly 'may' (30.4%)|\n",
    "|poutcome|Mostly 'unknown' (81.7%) followed by 'failure' (10.8%), 'other' (4.1%) and 'success' (3.3%)|"
   ]
  },
  {
   "cell_type": "markdown",
   "metadata": {},
   "source": [
    "Good things of this dataset:\n",
    "\n",
    "|Good Things|Explanation|\n",
    "|-|-|\n",
    "|Filled Data in Numerical Features|There are no missing data (NaN) or unknown in numerical features of this dataset.|"
   ]
  },
  {
   "cell_type": "markdown",
   "metadata": {},
   "source": [
    "Bad things of this dataset:\n",
    "\n",
    "|Bad Things|Explanation|\n",
    "|-|-|\n",
    "|Data Explanation|Most features come with little to no explanation or bad explanation.|\n",
    "|Data Distribution|There are no normal distributed data. Almost all of them are right-skewed.|\n",
    "|Data Variation|As we can see when pairplotting, variance between features are quite low and variance within class are quite high in some feature, which means that data variation is very bad.|\n",
    "|Correlation|There are a lot of high correlation between features.|\n",
    "|'poutcome' Features|This feature's data are mostly 'unknown' (around 81.7%).|\n",
    "|Output data|The output is imbalanced. ('yes' is 11.7% and 'no' is 88.3%)|\n",
    "|Unknown Data|Unclear explanation of what unknown data means and there are a lot of them in categorical features.|"
   ]
  },
  {
   "cell_type": "markdown",
   "metadata": {},
   "source": [
    "**NOTE**: For all 'Unknown' data in categorical features, we assumed 'Unknown' as a type of data because there are quite a lot of 'Unknown' data.\n",
    "\n",
    "Furthermore, because we are dealing with a dataset from bank, those 'Unknown' data might be undisclosed information of the customers.\n",
    "\n",
    "<hr>\n",
    "\n",
    "Since we are going to use clustering algorithms (unsupervised learning), we will drop the output (y) from the dataset."
   ]
  },
  {
   "cell_type": "code",
   "execution_count": null,
   "metadata": {},
   "outputs": [],
   "source": [
    "dfOri = df.copy()\n",
    "df.drop('y', axis=1, inplace=True)"
   ]
  },
  {
   "cell_type": "markdown",
   "metadata": {},
   "source": [
    "## **Data Preprocessing**"
   ]
  },
  {
   "cell_type": "code",
   "execution_count": null,
   "metadata": {},
   "outputs": [],
   "source": [
    "df = dfOri.copy()\n",
    "df"
   ]
  },
  {
   "cell_type": "code",
   "execution_count": null,
   "metadata": {},
   "outputs": [],
   "source": [
    "df['poutcome'].value_counts()"
   ]
  },
  {
   "cell_type": "code",
   "execution_count": null,
   "metadata": {},
   "outputs": [],
   "source": [
    "df['poutcome'] = df['poutcome'].replace({'other': 'unknown'})"
   ]
  },
  {
   "cell_type": "code",
   "execution_count": null,
   "metadata": {},
   "outputs": [],
   "source": [
    "df['contact'] = df['contact'].replace({'cellular': 'cellular-telephone',\n",
    "                                       'telephone' : 'cellular-telephone',\n",
    "                                        'unknown': 'unknown'})"
   ]
  },
  {
   "cell_type": "code",
   "execution_count": null,
   "metadata": {},
   "outputs": [],
   "source": [
    "df['marital'] = df['marital'].replace({'single': 'Alone',\n",
    "                                       'married': 'Partnered',\n",
    "                                       'divorced': 'Alone'})"
   ]
  },
  {
   "cell_type": "code",
   "execution_count": null,
   "metadata": {},
   "outputs": [],
   "source": [
    "# https://ilostat.ilo.org/resources/concepts-and-definitions/classification-occupation/\n",
    "df['job'] = df['job'].replace({'entrepreneur': 'high-skill-levels',\n",
    "                                    'management' : 'high-skill-levels',\n",
    "                                    'technician' : 'high-skill-levels',\n",
    "                                    'self-employed' : 'middle-skill-levels',\n",
    "                                    'admin.' : 'middle-skill-levels',\n",
    "                                    'services' : 'middle-skill-levels',\n",
    "                                    'housemaid' : 'middle-skill-levels',\n",
    "                                    'blue-collar' : 'low-None-skill-levels',\n",
    "                                    'retired' : 'low-None-skill-levels',\n",
    "                                    'unemployed' : 'low-None-skill-levels',\n",
    "                                    'student' : 'low-None-skill-levels',\n",
    "                                    'unknown' : 'low-None-skill-levels'})"
   ]
  },
  {
   "cell_type": "markdown",
   "metadata": {},
   "source": [
    "### **Experiment 1 : Remove Outliers**"
   ]
  },
  {
   "cell_type": "markdown",
   "metadata": {},
   "source": [
    "#### **Hypothesis**\n",
    "    \n",
    "Outliers in features affects model's performance."
   ]
  },
  {
   "cell_type": "markdown",
   "metadata": {},
   "source": [
    "We will check outliers by printing out the first and last 30 sorted values of each numerical features."
   ]
  },
  {
   "cell_type": "code",
   "execution_count": null,
   "metadata": {},
   "outputs": [],
   "source": [
    "with open('checkOutliers.txt', 'w') as f:\n",
    "    for col in dfNum.columns:\n",
    "        f.write(f'First 30 Sorted of \\'{col}\\'' + '\\n')\n",
    "        f.write(str(df[col].sort_values().head(30)) + '\\n')\n",
    "        f.write('='*50 + '\\n')\n",
    "        f.write(f'Last 30 Sorted of \\'{col}\\'' + '\\n')\n",
    "        f.write(str(df[col].sort_values().tail(30)) + '\\n')\n",
    "        f.write('='*50 + '\\n')"
   ]
  },
  {
   "cell_type": "markdown",
   "metadata": {},
   "source": [
    "From the file we generated, we will be removing those instances that seems to be outliers, which includes these indices below:\n",
    "- age: none\n",
    "- day: none\n",
    "- balance: [12909, 15682, 41693, 42558, 43393, 26227, 39989]\n",
    "- campaign: [5073, 11914, 4330]\n",
    "- pdays: [45024, 44530, 44698, 44785, 44858, 44837, 44829, 45146]\n",
    "- previous: [28886, 44089, 38326, 29182]"
   ]
  },
  {
   "cell_type": "code",
   "execution_count": null,
   "metadata": {},
   "outputs": [],
   "source": [
    "dropBalance = [12909, 15682, 41693, 42558, 43393, 26227, 39989]\n",
    "dropCampaign = [5073, 11914, 4330]\n",
    "droppdays = [45024, 44530, 44698, 44785, 44858, 44837, 44829, 45146]\n",
    "dropPrevious = [28886, 44089, 38326, 29182]\n",
    "\n",
    "dropOutliers = dropBalance + dropCampaign + droppdays + dropPrevious\n",
    "df.drop(dropOutliers, axis=0, inplace=True)\n",
    "df.reset_index(drop=True, inplace=True)"
   ]
  },
  {
   "cell_type": "code",
   "execution_count": null,
   "metadata": {},
   "outputs": [],
   "source": [
    "df.info()"
   ]
  },
  {
   "cell_type": "markdown",
   "metadata": {},
   "source": [
    "After removing outliers, we are left with <u>**45173 instances**</u> (originally 45211 instances)."
   ]
  },
  {
   "cell_type": "code",
   "execution_count": null,
   "metadata": {},
   "outputs": [],
   "source": [
    "columnToOnehot = df.select_dtypes(include=['object']).columns\n",
    "dfV = df.copy()\n",
    "dfVB = df.copy()"
   ]
  },
  {
   "cell_type": "code",
   "execution_count": null,
   "metadata": {},
   "outputs": [],
   "source": [
    "class LabelEncoder2():\n",
    "    def __init__(self, toEncode:list, columnToEncode:list):\n",
    "        self.toEncode = toEncode\n",
    "        self.columnToEncode = columnToEncode\n",
    "        \n",
    "    def transform(self,X,y=None,**transform_params):\n",
    "        for toEn, colToEn in zip(self.toEncode, self.columnToEncode):\n",
    "            X[colToEn] = X[colToEn].apply(lambda x: toEn.index(x))\n",
    "        return X\n",
    "    \n",
    "    def fit(self, X, y=None, **fit_params):\n",
    "        return self"
   ]
  },
  {
   "cell_type": "code",
   "execution_count": null,
   "metadata": {},
   "outputs": [],
   "source": [
    "toend = [['no','yes'],\n",
    "         ['no','yes'],\n",
    "         ['no','yes'],\n",
    "         ['low-None-skill-levels','middle-skill-levels','high-skill-levels'],\n",
    "         ['Alone','Partnered'],\n",
    "         ['unknown','primary', 'secondary', 'tertiary'],\n",
    "         ['unknown','cellular-telephone'],\n",
    "         ['jan', 'feb', 'mar', 'apr', 'may', 'jun', 'jul', 'aug', 'sep', 'oct', 'nov', 'dec'],\n",
    "         ['unknown','failure', 'success'],\n",
    "         ]\n",
    "coltoend = ['default', 'housing', 'loan','job', 'marital', 'education', 'contact', 'month', 'poutcome']\n",
    "LB = LabelEncoder2(toEncode = toend,\n",
    "                   columnToEncode = coltoend)\n",
    "\n",
    "dfV = LB.transform(dfV)"
   ]
  },
  {
   "cell_type": "code",
   "execution_count": null,
   "metadata": {},
   "outputs": [],
   "source": [
    "# dfOutliers = pd.get_dummies(df, columns=columnToOnehot)\n",
    "LBO = LabelEncoder2(toEncode = toend,\n",
    "                   columnToEncode = coltoend)\n",
    "\n",
    "dfOutliers = LBO.transform(df)"
   ]
  },
  {
   "cell_type": "code",
   "execution_count": null,
   "metadata": {},
   "outputs": [],
   "source": [
    "df = dfOutliers.copy().drop('y', axis=1)\n",
    "df.describe()"
   ]
  },
  {
   "cell_type": "markdown",
   "metadata": {},
   "source": [
    "### **Experiment 2 : Feature Scaling**"
   ]
  },
  {
   "cell_type": "markdown",
   "metadata": {},
   "source": [
    "#### **Hypothesis**\n",
    "    \n",
    "Scaling data affects model's performance."
   ]
  },
  {
   "cell_type": "markdown",
   "metadata": {},
   "source": [
    "##### **Feature Scaling**"
   ]
  },
  {
   "cell_type": "code",
   "execution_count": null,
   "metadata": {},
   "outputs": [],
   "source": [
    "dfFS = df.copy()"
   ]
  },
  {
   "cell_type": "code",
   "execution_count": null,
   "metadata": {},
   "outputs": [],
   "source": [
    "MinMaxScale = Pipeline(steps=[\n",
    "    ('imputer', SimpleImputer(strategy='mean')),\n",
    "    ('scaler', MinMaxScaler())\n",
    "])"
   ]
  },
  {
   "cell_type": "code",
   "execution_count": null,
   "metadata": {},
   "outputs": [],
   "source": [
    "for idx in dfFS.columns:\n",
    "    dfFS[idx] = MinMaxScale.fit_transform(dfFS[idx].values.reshape(-1,1))"
   ]
  },
  {
   "cell_type": "code",
   "execution_count": null,
   "metadata": {},
   "outputs": [],
   "source": [
    "dfFS.describe()"
   ]
  },
  {
   "cell_type": "code",
   "execution_count": null,
   "metadata": {},
   "outputs": [],
   "source": [
    "df = dfFS.copy()"
   ]
  },
  {
   "cell_type": "markdown",
   "metadata": {},
   "source": [
    "### **Experiment 3 : Feature Extraction**"
   ]
  },
  {
   "cell_type": "markdown",
   "metadata": {},
   "source": [
    "#### **Hypothesis**\n",
    "\n",
    "Too many features affects model's performance."
   ]
  },
  {
   "cell_type": "markdown",
   "metadata": {},
   "source": [
    "#### **Feature Extraction**"
   ]
  },
  {
   "cell_type": "code",
   "execution_count": null,
   "metadata": {},
   "outputs": [],
   "source": [
    "dfFE = df.copy()\n",
    "dfFE.describe()"
   ]
  },
  {
   "cell_type": "code",
   "execution_count": null,
   "metadata": {},
   "outputs": [],
   "source": [
    "checkCorrFF(dfFE)"
   ]
  },
  {
   "cell_type": "code",
   "execution_count": null,
   "metadata": {},
   "outputs": [],
   "source": [
    "# selector = VarianceThreshold(threshold=0.04)\n",
    "# X = selector.fit(dfFE)\n",
    "# col = selector.get_support(indices=True)\n",
    "# dfVar = dfFE.iloc[:,col]\n",
    "# print(col)"
   ]
  },
  {
   "cell_type": "code",
   "execution_count": null,
   "metadata": {},
   "outputs": [],
   "source": [
    "coltoDel = ['month', 'day']\n",
    "dfVar = dfFE.copy()\n",
    "dfVar = dfFE.drop(coltoDel, axis=1)"
   ]
  },
  {
   "cell_type": "code",
   "execution_count": null,
   "metadata": {},
   "outputs": [],
   "source": [
    "dfFE = dfVar.copy()\n",
    "dfFE.describe()"
   ]
  },
  {
   "cell_type": "code",
   "execution_count": null,
   "metadata": {},
   "outputs": [],
   "source": [
    "checkCorrFF(dfFE)"
   ]
  },
  {
   "cell_type": "markdown",
   "metadata": {},
   "source": [
    "We will be using Principal Component Analysis (PCA) to extract features."
   ]
  },
  {
   "cell_type": "markdown",
   "metadata": {},
   "source": [
    "#### **Principal Component Analysis (PCA)**"
   ]
  },
  {
   "cell_type": "code",
   "execution_count": null,
   "metadata": {},
   "outputs": [],
   "source": [
    "def plot3Dscatter(df, target, imgName = None, title = None):\n",
    "    X = df.drop([target], axis=1)\n",
    "    ax = [X.columns[0], X.columns[1], X.columns[2]]\n",
    "    X = X.to_numpy()\n",
    "    y = df[target].to_numpy()\n",
    "    fig = px.scatter_3d(\n",
    "        X, x=0, y=1, z=2, color=y,\n",
    "        labels = {\n",
    "        str(i): f\"{var}\"\n",
    "        for i, var in enumerate(ax)\n",
    "        },\n",
    "        title = title,\n",
    "        width=800, height=800\n",
    "    )\n",
    "    if imgName != None:\n",
    "        fig.write_image(\"img/\"+imgName+\".png\") \n",
    "    fig.show()"
   ]
  },
  {
   "cell_type": "code",
   "execution_count": null,
   "metadata": {},
   "outputs": [],
   "source": [
    "pca = PCA(n_components = len(dfFE.columns))           \n",
    "pca_data = pca.fit_transform(dfFE)          \n",
    "\n",
    "print(pca.explained_variance_ratio_.cumsum())\n",
    "print(pca.explained_variance_ratio_.cumsum().shape)\n",
    "varThreshold = 0.90\n",
    "var = np.where(pca.explained_variance_ratio_.cumsum() > varThreshold)[0][0]\n",
    "print(f'Number of components to explain {varThreshold*100}% of variance: {var}')\n",
    "\n",
    "plt.figure(figsize=(5,5))\n",
    "for i in range(0, len(pca.explained_variance_ratio_)):\n",
    "    plt.plot(i+1, pca.explained_variance_ratio_[i], 'ro')\n",
    "plt.show()"
   ]
  },
  {
   "cell_type": "code",
   "execution_count": null,
   "metadata": {},
   "outputs": [],
   "source": [
    "pca = PCA(n_components = var) # ~90% of Data Representation\n",
    "x_pca = pca.fit_transform(dfFS)\n",
    "col = [\n",
    "    str(f'PC{i+1}') for i in range(0, len(pca.explained_variance_ratio_))\n",
    "    ]\n",
    "\n",
    "dfPCA = pd.DataFrame(x_pca, columns = col)\n",
    "dfPCA.describe()"
   ]
  },
  {
   "cell_type": "markdown",
   "metadata": {},
   "source": [
    "#### **Save to CSV**\n",
    "We do it so we don't have to run everything again every single time. It takes forever to run! ;-;"
   ]
  },
  {
   "cell_type": "code",
   "execution_count": null,
   "metadata": {},
   "outputs": [],
   "source": [
    "dfV.to_csv('dfForVisualization.csv', index=False)\n",
    "dfPCA.to_csv('dfPCAForModeling.csv', index=False)"
   ]
  },
  {
   "cell_type": "markdown",
   "metadata": {},
   "source": [
    "## **Modeling**"
   ]
  },
  {
   "cell_type": "markdown",
   "metadata": {},
   "source": [
    "### **Model 3: Hierarchical Clustering**"
   ]
  },
  {
   "cell_type": "code",
   "execution_count": 3,
   "metadata": {},
   "outputs": [
    {
     "name": "stdout",
     "output_type": "stream",
     "text": [
      "Modeling DataFrame Shape and Index: (45173, 5) , RangeIndex(start=0, stop=45173, step=1)\n"
     ]
    },
    {
     "data": {
      "text/html": [
       "<div>\n",
       "<style scoped>\n",
       "    .dataframe tbody tr th:only-of-type {\n",
       "        vertical-align: middle;\n",
       "    }\n",
       "\n",
       "    .dataframe tbody tr th {\n",
       "        vertical-align: top;\n",
       "    }\n",
       "\n",
       "    .dataframe thead th {\n",
       "        text-align: right;\n",
       "    }\n",
       "</style>\n",
       "<table border=\"1\" class=\"dataframe\">\n",
       "  <thead>\n",
       "    <tr style=\"text-align: right;\">\n",
       "      <th></th>\n",
       "      <th>count</th>\n",
       "      <th>mean</th>\n",
       "      <th>std</th>\n",
       "      <th>min</th>\n",
       "      <th>25%</th>\n",
       "      <th>50%</th>\n",
       "      <th>75%</th>\n",
       "      <th>max</th>\n",
       "    </tr>\n",
       "  </thead>\n",
       "  <tbody>\n",
       "    <tr>\n",
       "      <th>PC1</th>\n",
       "      <td>45173.0</td>\n",
       "      <td>5.536737e-17</td>\n",
       "      <td>0.544925</td>\n",
       "      <td>-1.087341</td>\n",
       "      <td>-0.434887</td>\n",
       "      <td>-0.003002</td>\n",
       "      <td>0.402405</td>\n",
       "      <td>1.141635</td>\n",
       "    </tr>\n",
       "    <tr>\n",
       "      <th>PC2</th>\n",
       "      <td>45173.0</td>\n",
       "      <td>-1.510019e-17</td>\n",
       "      <td>0.500297</td>\n",
       "      <td>-0.910750</td>\n",
       "      <td>-0.402505</td>\n",
       "      <td>-0.083005</td>\n",
       "      <td>0.441430</td>\n",
       "      <td>1.037098</td>\n",
       "    </tr>\n",
       "    <tr>\n",
       "      <th>PC3</th>\n",
       "      <td>45173.0</td>\n",
       "      <td>-1.510019e-17</td>\n",
       "      <td>0.441482</td>\n",
       "      <td>-1.123244</td>\n",
       "      <td>-0.322989</td>\n",
       "      <td>-0.011324</td>\n",
       "      <td>0.327975</td>\n",
       "      <td>1.309118</td>\n",
       "    </tr>\n",
       "    <tr>\n",
       "      <th>PC4</th>\n",
       "      <td>45173.0</td>\n",
       "      <td>6.543417e-17</td>\n",
       "      <td>0.412196</td>\n",
       "      <td>-1.095083</td>\n",
       "      <td>-0.312973</td>\n",
       "      <td>0.008025</td>\n",
       "      <td>0.264765</td>\n",
       "      <td>1.178493</td>\n",
       "    </tr>\n",
       "    <tr>\n",
       "      <th>PC5</th>\n",
       "      <td>45173.0</td>\n",
       "      <td>2.768369e-17</td>\n",
       "      <td>0.366123</td>\n",
       "      <td>-0.330641</td>\n",
       "      <td>-0.186231</td>\n",
       "      <td>-0.144195</td>\n",
       "      <td>-0.084184</td>\n",
       "      <td>0.998287</td>\n",
       "    </tr>\n",
       "  </tbody>\n",
       "</table>\n",
       "</div>"
      ],
      "text/plain": [
       "       count          mean       std       min       25%       50%       75%  \\\n",
       "PC1  45173.0  5.536737e-17  0.544925 -1.087341 -0.434887 -0.003002  0.402405   \n",
       "PC2  45173.0 -1.510019e-17  0.500297 -0.910750 -0.402505 -0.083005  0.441430   \n",
       "PC3  45173.0 -1.510019e-17  0.441482 -1.123244 -0.322989 -0.011324  0.327975   \n",
       "PC4  45173.0  6.543417e-17  0.412196 -1.095083 -0.312973  0.008025  0.264765   \n",
       "PC5  45173.0  2.768369e-17  0.366123 -0.330641 -0.186231 -0.144195 -0.084184   \n",
       "\n",
       "          max  \n",
       "PC1  1.141635  \n",
       "PC2  1.037098  \n",
       "PC3  1.309118  \n",
       "PC4  1.178493  \n",
       "PC5  0.998287  "
      ]
     },
     "execution_count": 3,
     "metadata": {},
     "output_type": "execute_result"
    }
   ],
   "source": [
    "dfHier = pd.read_csv('dfPCAForModeling.csv')\n",
    "dfV = pd.read_csv('dfForVisualization.csv')\n",
    "print(f'Modeling DataFrame Shape and Index: {dfHier.shape} , {dfHier.index}')\n",
    "dfHier.describe().T"
   ]
  },
  {
   "cell_type": "code",
   "execution_count": 4,
   "metadata": {},
   "outputs": [],
   "source": [
    "# Linkage matrix\n",
    "Z = linkage(dfHier, method='ward')"
   ]
  },
  {
   "cell_type": "code",
   "execution_count": 7,
   "metadata": {},
   "outputs": [
    {
     "data": {
      "image/png": "[encoded data removed]",
      "text/plain": [
       "<Figure size 4000x1000 with 1 Axes>"
      ]
     },
     "metadata": {},
     "output_type": "display_data"
    }
   ],
   "source": [
    "dend, ax = plt.subplots(1, 1, figsize=(40, 10))\n",
    "dn = dendrogram(\n",
    "    Z,\n",
    "    truncate_mode='lastp',  # show only the last p merged clusters\n",
    "    p=12,  # show only the last p merged clusters\n",
    "    leaf_rotation=90.,\n",
    "    leaf_font_size=12.,\n",
    "    show_contracted=True,  # to get a distribution impression in truncated branches\n",
    "    ax = ax\n",
    ")"
   ]
  },
  {
   "cell_type": "code",
   "execution_count": 8,
   "metadata": {},
   "outputs": [],
   "source": [
    "# dend.savefig('img/heirplot/dendrogram.png', bbox_inches='tight')"
   ]
  },
  {
   "cell_type": "code",
   "execution_count": 9,
   "metadata": {},
   "outputs": [
    {
     "name": "stdout",
     "output_type": "stream",
     "text": [
      "Distance of Last 8 Clusters from linkage array: \n",
      "[[ 56.2506079 ]\n",
      " [ 62.25032627]\n",
      " [ 67.07444148]\n",
      " [ 74.74520694]\n",
      " [ 89.77347072]\n",
      " [110.41179567]\n",
      " [117.41185079]\n",
      " [129.89581609]]\n",
      "Distance between last 8 Clusters: \n",
      "[[ 2.85000042]\n",
      " [ 5.99971837]\n",
      " [ 4.82411521]\n",
      " [ 7.67076546]\n",
      " [15.02826378]\n",
      " [20.63832495]\n",
      " [ 7.00005512]\n",
      " [12.4839653 ]]\n"
     ]
    }
   ],
   "source": [
    "print('Distance of Last 8 Clusters from linkage array: ')\n",
    "print(Z[-8:, 2].reshape(8,1))\n",
    "print('Distance between last 8 Clusters: ')\n",
    "print(Z[-8:, 2].reshape(8,1) - Z[-9:-1, 2].reshape(8,1))"
   ]
  },
  {
   "cell_type": "markdown",
   "metadata": {},
   "source": [
    "#### **Determining Number of Clusters**\n",
    "\n",
    "As we can see from above, the point where the distance between clusters is the most obvious is from {74 to 89} (15.03) and from {89 to 110} (20.64).\n",
    "Since {89 to 110} has a bigger distance between clusters, we will say that our cut-off is at around 100 for better visualization."
   ]
  },
  {
   "cell_type": "code",
   "execution_count": 10,
   "metadata": {},
   "outputs": [],
   "source": [
    "def fancy_dendrogram(*args, **kwargs):\n",
    "    max_d = kwargs.pop('max_d', None)\n",
    "    if max_d and 'color_threshold' not in kwargs:\n",
    "        kwargs['color_threshold'] = max_d\n",
    "    annotate_above = kwargs.pop('annotate_above', 0)\n",
    "\n",
    "    ddata = dendrogram(*args, **kwargs)\n",
    "\n",
    "    if not kwargs.get('no_plot', False):\n",
    "        plt.title('Hierarchical Clustering Dendrogram (truncated)')\n",
    "        plt.xlabel('sample index or (cluster size)')\n",
    "        plt.ylabel('distance')\n",
    "        for i, d, c in zip(ddata['icoord'], ddata['dcoord'], ddata['color_list']):\n",
    "            x = 0.5 * sum(i[1:3])\n",
    "            y = d[1]\n",
    "            if y > annotate_above:\n",
    "                plt.plot(x, y, 'o', c=c)\n",
    "                plt.annotate(\"%.3g\" % y, (x, y), xytext=(0, -5),\n",
    "                             textcoords='offset points',\n",
    "                             va='top', ha='center')\n",
    "        if max_d:\n",
    "            plt.axhline(y=max_d, c='k')\n",
    "    return ddata"
   ]
  },
  {
   "cell_type": "code",
   "execution_count": 11,
   "metadata": {},
   "outputs": [
    {
     "data": {
      "image/png": "[encoded data removed]",
      "text/plain": [
       "<Figure size 4000x1000 with 1 Axes>"
      ]
     },
     "metadata": {},
     "output_type": "display_data"
    }
   ],
   "source": [
    "fdend, ax = plt.subplots(1, 1, figsize=(40, 10))\n",
    "max_d = 100\n",
    "fdn = fancy_dendrogram(\n",
    "    Z,\n",
    "    truncate_mode='lastp',\n",
    "    p=12,\n",
    "    leaf_rotation=90.,\n",
    "    leaf_font_size=12.,\n",
    "    show_contracted=True,\n",
    "    annotate_above=1000,  # useful in small plots so annotations don't overlap\n",
    "    max_d=max_d,\n",
    "    ax=ax\n",
    "    )"
   ]
  },
  {
   "cell_type": "code",
   "execution_count": 13,
   "metadata": {},
   "outputs": [],
   "source": [
    "dend.savefig('img/hierplot/dendrogram.png', bbox_inches='tight')\n",
    "fdend.savefig('img/hierplot/fancy_dendrogram.png', bbox_inches='tight')"
   ]
  },
  {
   "cell_type": "markdown",
   "metadata": {},
   "source": [
    "#### **Retrieving Clusters**\n",
    "\n",
    "Now that we know the cut-off, we will be using the function \"fcluster\"."
   ]
  },
  {
   "cell_type": "code",
   "execution_count": 14,
   "metadata": {},
   "outputs": [
    {
     "data": {
      "text/plain": [
       "array([1, 1, 3, ..., 4, 4, 4], dtype=int32)"
      ]
     },
     "execution_count": 14,
     "metadata": {},
     "output_type": "execute_result"
    }
   ],
   "source": [
    "max_d = 100\n",
    "clusters = fcluster(Z, max_d, criterion='distance')\n",
    "clusters"
   ]
  },
  {
   "cell_type": "code",
   "execution_count": 17,
   "metadata": {},
   "outputs": [
    {
     "data": {
      "text/html": [
       "<div>\n",
       "<style scoped>\n",
       "    .dataframe tbody tr th:only-of-type {\n",
       "        vertical-align: middle;\n",
       "    }\n",
       "\n",
       "    .dataframe tbody tr th {\n",
       "        vertical-align: top;\n",
       "    }\n",
       "\n",
       "    .dataframe thead th {\n",
       "        text-align: right;\n",
       "    }\n",
       "</style>\n",
       "<table border=\"1\" class=\"dataframe\">\n",
       "  <thead>\n",
       "    <tr style=\"text-align: right;\">\n",
       "      <th></th>\n",
       "      <th>age</th>\n",
       "      <th>balance</th>\n",
       "      <th>day</th>\n",
       "      <th>campaign</th>\n",
       "      <th>pdays</th>\n",
       "      <th>previous</th>\n",
       "      <th>job</th>\n",
       "      <th>marital</th>\n",
       "      <th>education</th>\n",
       "      <th>default</th>\n",
       "      <th>housing</th>\n",
       "      <th>loan</th>\n",
       "      <th>contact</th>\n",
       "      <th>month</th>\n",
       "      <th>poutcome</th>\n",
       "      <th>y</th>\n",
       "      <th>Cluster</th>\n",
       "    </tr>\n",
       "  </thead>\n",
       "  <tbody>\n",
       "    <tr>\n",
       "      <th>0</th>\n",
       "      <td>58</td>\n",
       "      <td>2143</td>\n",
       "      <td>5</td>\n",
       "      <td>1</td>\n",
       "      <td>0</td>\n",
       "      <td>0</td>\n",
       "      <td>2</td>\n",
       "      <td>1</td>\n",
       "      <td>2</td>\n",
       "      <td>0</td>\n",
       "      <td>1</td>\n",
       "      <td>0</td>\n",
       "      <td>0</td>\n",
       "      <td>4</td>\n",
       "      <td>0</td>\n",
       "      <td>0</td>\n",
       "      <td>1</td>\n",
       "    </tr>\n",
       "    <tr>\n",
       "      <th>1</th>\n",
       "      <td>44</td>\n",
       "      <td>29</td>\n",
       "      <td>5</td>\n",
       "      <td>1</td>\n",
       "      <td>0</td>\n",
       "      <td>0</td>\n",
       "      <td>1</td>\n",
       "      <td>0</td>\n",
       "      <td>1</td>\n",
       "      <td>0</td>\n",
       "      <td>1</td>\n",
       "      <td>0</td>\n",
       "      <td>0</td>\n",
       "      <td>4</td>\n",
       "      <td>0</td>\n",
       "      <td>0</td>\n",
       "      <td>1</td>\n",
       "    </tr>\n",
       "    <tr>\n",
       "      <th>2</th>\n",
       "      <td>33</td>\n",
       "      <td>2</td>\n",
       "      <td>5</td>\n",
       "      <td>1</td>\n",
       "      <td>0</td>\n",
       "      <td>0</td>\n",
       "      <td>2</td>\n",
       "      <td>1</td>\n",
       "      <td>1</td>\n",
       "      <td>0</td>\n",
       "      <td>1</td>\n",
       "      <td>1</td>\n",
       "      <td>0</td>\n",
       "      <td>4</td>\n",
       "      <td>0</td>\n",
       "      <td>0</td>\n",
       "      <td>3</td>\n",
       "    </tr>\n",
       "    <tr>\n",
       "      <th>3</th>\n",
       "      <td>47</td>\n",
       "      <td>1506</td>\n",
       "      <td>5</td>\n",
       "      <td>1</td>\n",
       "      <td>0</td>\n",
       "      <td>0</td>\n",
       "      <td>0</td>\n",
       "      <td>1</td>\n",
       "      <td>0</td>\n",
       "      <td>0</td>\n",
       "      <td>1</td>\n",
       "      <td>0</td>\n",
       "      <td>0</td>\n",
       "      <td>4</td>\n",
       "      <td>0</td>\n",
       "      <td>0</td>\n",
       "      <td>1</td>\n",
       "    </tr>\n",
       "    <tr>\n",
       "      <th>4</th>\n",
       "      <td>33</td>\n",
       "      <td>1</td>\n",
       "      <td>5</td>\n",
       "      <td>1</td>\n",
       "      <td>0</td>\n",
       "      <td>0</td>\n",
       "      <td>0</td>\n",
       "      <td>0</td>\n",
       "      <td>0</td>\n",
       "      <td>0</td>\n",
       "      <td>0</td>\n",
       "      <td>0</td>\n",
       "      <td>0</td>\n",
       "      <td>4</td>\n",
       "      <td>0</td>\n",
       "      <td>0</td>\n",
       "      <td>1</td>\n",
       "    </tr>\n",
       "  </tbody>\n",
       "</table>\n",
       "</div>"
      ],
      "text/plain": [
       "   age  balance  day  campaign  pdays  previous  job  marital  education  \\\n",
       "0   58     2143    5         1      0         0    2        1          2   \n",
       "1   44       29    5         1      0         0    1        0          1   \n",
       "2   33        2    5         1      0         0    2        1          1   \n",
       "3   47     1506    5         1      0         0    0        1          0   \n",
       "4   33        1    5         1      0         0    0        0          0   \n",
       "\n",
       "   default  housing  loan  contact  month  poutcome  y  Cluster  \n",
       "0        0        1     0        0      4         0  0        1  \n",
       "1        0        1     0        0      4         0  0        1  \n",
       "2        0        1     1        0      4         0  0        3  \n",
       "3        0        1     0        0      4         0  0        1  \n",
       "4        0        0     0        0      4         0  0        1  "
      ]
     },
     "execution_count": 17,
     "metadata": {},
     "output_type": "execute_result"
    }
   ],
   "source": [
    "dfV['Cluster'] = clusters\n",
    "dfV.to_csv('dfHierClusters.csv', index=False)\n",
    "dfV.head()"
   ]
  },
  {
   "cell_type": "code",
   "execution_count": 18,
   "metadata": {},
   "outputs": [],
   "source": [
    "def clusterVisualize(df, component1, component2 ,imgName=None):\n",
    "    dfV = df.copy()\n",
    "    fig, axd = plt.subplot_mosaic([[0,0],[1,2]], constrained_layout=True, figsize=(14,8))\n",
    "    fig.suptitle(f'{component1} vs {component2}', weight='bold', fontsize=16)\n",
    "\n",
    "    sns.scatterplot(data=dfV, x=component1, y=component2, hue='Cluster', palette='copper_r', ax=axd[0])\n",
    "    sns.violinplot(data=dfV, x='Cluster', y=component2, palette='copper_r', ax=axd[1])\n",
    "    sns.violinplot(data=dfV, x='Cluster', y=component1, palette='copper_r', ax=axd[2])\n",
    "    if imgName != None:\n",
    "        fig.savefig(\"img/\"+imgName+\".png\")"
   ]
  },
  {
   "cell_type": "code",
   "execution_count": 21,
   "metadata": {},
   "outputs": [],
   "source": [
    "cateCol = ['job', 'marital', 'education', 'default', 'housing', 'loan', 'contact', 'month', 'poutcome']\n",
    "numCol = ['age', 'balance', 'day', 'campaign', 'pdays', 'previous']\n",
    "with open ('checkGroupbyCluster_cate_hier.txt', 'w') as f:\n",
    "    for col in cateCol:\n",
    "        f.write(str(dfV[col].groupby(dfV['Cluster']).value_counts())+'\\n')\n",
    "        f.write('='*50 + '\\n')"
   ]
  },
  {
   "cell_type": "code",
   "execution_count": null,
   "metadata": {},
   "outputs": [],
   "source": [
    "for col in numCol:\n",
    "    for col2 in numCol:\n",
    "        if(col != col2):\n",
    "            clusterVisualize(dfV, col, col2, f'hierplot/numvsnum/{col}_vs_{col2}')"
   ]
  },
  {
   "cell_type": "code",
   "execution_count": null,
   "metadata": {},
   "outputs": [],
   "source": [
    "for col in cateCol:\n",
    "    for col2 in cateCol:\n",
    "        if(col != col2):\n",
    "            clusterVisualize(dfV, col, col2, f'hierplot/catevscate/{col}_vs_{col2}')"
   ]
  },
  {
   "cell_type": "code",
   "execution_count": null,
   "metadata": {},
   "outputs": [],
   "source": [
    "for col in numCol:\n",
    "    for col2 in cateCol:\n",
    "        clusterVisualize(dfV, col, col2, f'hierplot/numvscate/{col}_vs_{col2}')"
   ]
  },
  {
   "cell_type": "code",
   "execution_count": null,
   "metadata": {},
   "outputs": [],
   "source": [
    "figToSave = []\n",
    "fileName = []\n",
    "for fig in figToSave:\n",
    "    fig.savefig('img/'+fileName+'.png')"
   ]
  },
  {
   "cell_type": "markdown",
   "metadata": {},
   "source": [
    "#### **Model 4: Density-Based Spatial Clustering of Applications with Noise (DBSCAN)**"
   ]
  },
  {
   "cell_type": "code",
   "execution_count": null,
   "metadata": {},
   "outputs": [],
   "source": [
    "df = pd.read_csv('df.csv')"
   ]
  }
 ],
 "metadata": {
  "kernelspec": {
   "display_name": "Python 3.9.13 64-bit",
   "language": "python",
   "name": "python3"
  },
  "language_info": {
   "codemirror_mode": {
    "name": "ipython",
    "version": 3
   },
   "file_extension": ".py",
   "mimetype": "text/x-python",
   "name": "python",
   "nbconvert_exporter": "python",
   "pygments_lexer": "ipython3",
   "version": "3.9.13"
  },
  "orig_nbformat": 4,
  "vscode": {
   "interpreter": {
    "hash": "11938c6bc6919ae2720b4d5011047913343b08a43b18698fd82dedb0d4417594"
   }
  }
 },
 "nbformat": 4,
 "nbformat_minor": 2
}
