{
 "cells": [
  {
   "cell_type": "markdown",
   "metadata": {},
   "source": [
    "#### **Keras Neural Network**"
   ]
  },
  {
   "cell_type": "code",
   "execution_count": null,
   "metadata": {},
   "outputs": [],
   "source": [
    "tf.random.set_seed(0)"
   ]
  },
  {
   "cell_type": "code",
   "execution_count": null,
   "metadata": {},
   "outputs": [],
   "source": [
    "def createModel_tuner(hp):\n",
    "    model = Sequential()\n",
    "    for i in range(hp.Int('num_layers', 2, 10)):\n",
    "        model.add(Dense(units=hp.Int('units_' + str(i),\n",
    "                                        min_value=32,\n",
    "                                        max_value=512,\n",
    "                                        step=32),\n",
    "                            activation='relu'))\n",
    "    model.add(Dense(1, activation='sigmoid'))\n",
    "    model.compile(\n",
    "        optimizer=hp.Choice('optimizer', ['adam', 'sgd']),\n",
    "        loss='binary_crossentropy',\n",
    "        metrics=['accuracy'])\n",
    "    return model"
   ]
  },
  {
   "cell_type": "code",
   "execution_count": null,
   "metadata": {},
   "outputs": [
    {
     "name": "stdout",
     "output_type": "stream",
     "text": [
      "Search space summary\n",
      "Default search space size: 4\n",
      "num_layers (Int)\n",
      "{'default': None, 'conditions': [], 'min_value': 2, 'max_value': 10, 'step': 1, 'sampling': None}\n",
      "units_0 (Int)\n",
      "{'default': None, 'conditions': [], 'min_value': 32, 'max_value': 512, 'step': 32, 'sampling': None}\n",
      "units_1 (Int)\n",
      "{'default': None, 'conditions': [], 'min_value': 32, 'max_value': 512, 'step': 32, 'sampling': None}\n",
      "optimizer (Choice)\n",
      "{'default': 'adam', 'conditions': [], 'values': ['adam', 'sgd'], 'ordered': False}\n"
     ]
    }
   ],
   "source": [
    "tuner = RandomSearch(\n",
    "    createModel_tuner,\n",
    "    objective='val_accuracy',\n",
    "    max_trials=10,\n",
    "    directory='project',\n",
    "    project_name='suffer')\n",
    "\n",
    "tuner.search_space_summary()"
   ]
  },
  {
   "cell_type": "code",
   "execution_count": null,
   "metadata": {},
   "outputs": [
    {
     "name": "stdout",
     "output_type": "stream",
     "text": [
      "Trial 7 Complete [00h 13m 32s]\n",
      "val_accuracy: 0.8962233066558838\n",
      "\n",
      "Best val_accuracy So Far: 0.8966662883758545\n",
      "Total elapsed time: 01h 23m 00s\n",
      "\n",
      "Search: Running Trial #8\n",
      "\n",
      "Value             |Best Value So Far |Hyperparameter\n",
      "6                 |3                 |num_layers\n",
      "416               |128               |units_0\n",
      "256               |480               |units_1\n",
      "sgd               |adam              |optimizer\n",
      "64                |320               |units_2\n",
      "160               |352               |units_3\n",
      "320               |192               |units_4\n",
      "480               |320               |units_5\n",
      "224               |480               |units_6\n",
      "160               |384               |units_7\n",
      "128               |320               |units_8\n",
      "\n",
      "Epoch 1/70\n",
      "1129/1129 [==============================] - 15s 12ms/step - loss: 0.3840 - accuracy: 0.8825 - val_loss: 0.3445 - val_accuracy: 0.8835\n",
      "Epoch 2/70\n",
      "1129/1129 [==============================] - 11s 10ms/step - loss: 0.3430 - accuracy: 0.8833 - val_loss: 0.3413 - val_accuracy: 0.8835\n",
      "Epoch 3/70\n",
      " 694/1129 [=================>............] - ETA: 3s - loss: 0.3371 - accuracy: 0.8840"
     ]
    }
   ],
   "source": [
    "tuner.search(x_train, y_train, epochs=70, batch_size=32, validation_data=(x_test, y_test))"
   ]
  },
  {
   "cell_type": "code",
   "execution_count": null,
   "metadata": {},
   "outputs": [],
   "source": [
    "tuner.results_summary(num_trials=5)"
   ]
  },
  {
   "cell_type": "code",
   "execution_count": null,
   "metadata": {},
   "outputs": [],
   "source": [
    "kerasNN_tuner_pred = (tuner.get_best_models()[0].predict(x_test)).round().astype(int)\n",
    "print(\"Classification report on Test data with Keras NN Model with Adam Optimizer\\n=======================\")\n",
    "print(classification_report(y_true=y_test, y_pred=kerasNN_tuner_pred))"
   ]
  },
  {
   "cell_type": "code",
   "execution_count": null,
   "metadata": {},
   "outputs": [],
   "source": [
    "def createModel_tuner2(hp):\n",
    "    model = Sequential()\n",
    "    for i in range(hp.Int('num_layers', 2, 10)):\n",
    "        model.add(Dense(units=hp.Int('units_' + str(i),\n",
    "                                        min_value=16,\n",
    "                                        max_value=512,\n",
    "                                        step=32),\n",
    "                            activation='relu'))\n",
    "    model.add(Dense(1, activation='sigmoid'))\n",
    "    model.compile(\n",
    "        optimizer=Adam(learning_rate=hp.Float('learning_rate', min_value=1e-4, max_value=1e-2, sampling='LOG', default=1e-3)),\n",
    "        loss='binary_crossentropy',\n",
    "        metrics=['accuracy'])\n",
    "    return model"
   ]
  },
  {
   "cell_type": "code",
   "execution_count": null,
   "metadata": {},
   "outputs": [],
   "source": [
    "tunerAdam = RandomSearch(\n",
    "    createModel_tuner2,\n",
    "    objective='val_accuracy',\n",
    "    max_trials=5,\n",
    "    directory='project',\n",
    "    project_name='sufferAdam')\n",
    "\n",
    "tunerAdam.search_space_summary()"
   ]
  },
  {
   "cell_type": "code",
   "execution_count": null,
   "metadata": {},
   "outputs": [],
   "source": [
    "tunerAdam.search(x_train, y_train, epochs=70, batch_size=32, validation_data=(x_test, y_test))"
   ]
  },
  {
   "cell_type": "code",
   "execution_count": null,
   "metadata": {},
   "outputs": [],
   "source": [
    "tunerAdam.results_summary(num_trials=3)"
   ]
  },
  {
   "cell_type": "code",
   "execution_count": null,
   "metadata": {},
   "outputs": [],
   "source": [
    "kerasNN_adam_pred = (tunerAdam.get_best_models()[0].predict(x_test)).round().astype(int)\n",
    "print(\"Classification report on Test data with Keras NN Model with Adam Optimizer\\n=======================\")\n",
    "print(classification_report(y_true=y_test, y_pred=kerasNN_adam_pred))"
   ]
  },
  {
   "cell_type": "code",
   "execution_count": null,
   "metadata": {},
   "outputs": [],
   "source": [
    "def createModel_tuned(IL, HL):\n",
    "    model = Sequential(name=\"Tuned_Model\")\n",
    "    model.add(Dense(IL, input_shape=(x_train.shape[1],), activation='relu', name=\"Input_Layer\"))\n",
    "    for c, i in enumerate(HL):\n",
    "        model.add(Dense(units=i, activation='relu', name=f'Hidden_Layer_{c}'))\n",
    "    model.add(Dense(1, activation='sigmoid', name=\"Output_Layer\"))\n",
    "    model.compile(\n",
    "        optimizer=Adam(learning_rate=0.0001),\n",
    "        loss='binary_crossentropy',\n",
    "        metrics=['accuracy'])\n",
    "    return model"
   ]
  },
  {
   "cell_type": "code",
   "execution_count": null,
   "metadata": {},
   "outputs": [],
   "source": [
    "tuned_model = createModel_tuned(512, [448, 384, 320, 256, 192, 128, 64, 32, 16, 8])\n",
    "tuned_model.summary()"
   ]
  },
  {
   "cell_type": "code",
   "execution_count": null,
   "metadata": {},
   "outputs": [],
   "source": [
    "history_tuned = tuned_model.fit(x_train, y_train, epochs=70, batch_size=32, validation_data=(x_test, y_test), use_multiprocessing=True)"
   ]
  },
  {
   "cell_type": "code",
   "execution_count": null,
   "metadata": {},
   "outputs": [],
   "source": [
    "# Get training and test loss histories\n",
    "training_loss = history_tuned.history['loss']\n",
    "test_loss = history_tuned.history['val_loss']\n",
    "training_acc = history_tuned.history['accuracy']\n",
    "test_acc = history_tuned.history['val_accuracy']\n",
    "\n",
    "# Create count of the number of epochs\n",
    "epoch_count = range(1, len(training_loss) + 1)\n",
    "\n",
    "# Visualize loss history\n",
    "plt.figure(figsize=(24, 12))\n",
    "plt.subplot(1, 2, 1)\n",
    "plt.plot(epoch_count, training_loss, 'r--')\n",
    "plt.plot(epoch_count, test_loss, 'b-')\n",
    "plt.legend(['Training Loss', 'Test Loss'])\n",
    "plt.xlabel('Epoch')\n",
    "plt.ylabel('Loss')\n",
    "plt.subplot(1, 2, 2)\n",
    "plt.plot(epoch_count, training_acc, 'r--')\n",
    "plt.plot(epoch_count, test_acc, 'b-')\n",
    "plt.legend(['Training Accuracy', 'Test Accuracy'])\n",
    "plt.xlabel('Epoch')\n",
    "plt.ylabel('Accuracy')\n",
    "plt.show()"
   ]
  },
  {
   "cell_type": "code",
   "execution_count": null,
   "metadata": {},
   "outputs": [],
   "source": [
    "kerasNN_tuned_pred = (tuned_model.predict(x_test)).round().astype(int)\n",
    "print(\"Classification report on Test data with Keras NN Tuned Model\\n=======================\")\n",
    "print(classification_report(y_true=y_test, y_pred=kerasNN_tuned_pred))"
   ]
  },
  {
   "cell_type": "code",
   "execution_count": null,
   "metadata": {},
   "outputs": [],
   "source": [
    "tuned_model2 = createModel_tuned(64, [16])\n",
    "tuned_model2.summary()"
   ]
  },
  {
   "cell_type": "code",
   "execution_count": null,
   "metadata": {},
   "outputs": [],
   "source": [
    "history_tuned2 = tuned_model2.fit(x_train, y_train, epochs=70, batch_size=32, validation_data=(x_test, y_test), use_multiprocessing=True)"
   ]
  },
  {
   "cell_type": "code",
   "execution_count": null,
   "metadata": {},
   "outputs": [],
   "source": [
    "# Get training and test loss histories\n",
    "training_loss = history_tuned2.history['loss']\n",
    "test_loss = history_tuned2.history['val_loss']\n",
    "training_acc = history_tuned2.history['accuracy']\n",
    "test_acc = history_tuned2.history['val_accuracy']\n",
    "\n",
    "# Create count of the number of epochs\n",
    "epoch_count = range(1, len(training_loss) + 1)\n",
    "\n",
    "# Visualize loss history\n",
    "plt.figure(figsize=(24, 12))\n",
    "plt.subplot(1, 2, 1)\n",
    "plt.plot(epoch_count, training_loss, 'r--')\n",
    "plt.plot(epoch_count, test_loss, 'b-')\n",
    "plt.legend(['Training Loss', 'Test Loss'])\n",
    "plt.xlabel('Epoch')\n",
    "plt.ylabel('Loss')\n",
    "plt.subplot(1, 2, 2)\n",
    "plt.plot(epoch_count, training_acc, 'r--')\n",
    "plt.plot(epoch_count, test_acc, 'b-')\n",
    "plt.legend(['Training Accuracy', 'Test Accuracy'])\n",
    "plt.xlabel('Epoch')\n",
    "plt.ylabel('Accuracy')\n",
    "plt.show()"
   ]
  },
  {
   "cell_type": "code",
   "execution_count": null,
   "metadata": {},
   "outputs": [],
   "source": [
    "kerasNN_tuned2_pred = (tuned_model2.predict(x_test)).round().astype(int)\n",
    "print(\"Classification report on Test data with Keras NN Tuned Model 2\\n=======================\")\n",
    "print(classification_report(y_true=y_test, y_pred=kerasNN_tuned2_pred))"
   ]
  }
 ],
 "metadata": {
  "kernelspec": {
   "display_name": "Python 3.9.13 ('pyml')",
   "language": "python",
   "name": "python3"
  },
  "language_info": {
   "name": "python",
   "version": "3.9.13"
  },
  "orig_nbformat": 4,
  "vscode": {
   "interpreter": {
    "hash": "1236da61b61376ff1bd0a1c44019e891356fc7f957275c0e89aa284cb1bdefd9"
   }
  }
 },
 "nbformat": 4,
 "nbformat_minor": 2
}
