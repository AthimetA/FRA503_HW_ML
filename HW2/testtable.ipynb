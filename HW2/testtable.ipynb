{
 "cells": [
  {
   "cell_type": "markdown",
   "metadata": {},
   "source": [
    "<table>\n",
    "    <thead>\n",
    "        <tr>\n",
    "            <th>Layer 1</th>\n",
    "            <th>Layer 2</th>\n",
    "            <th>Layer 3</th>\n",
    "        </tr>\n",
    "    </thead>\n",
    "    <tbody>\n",
    "        <tr>\n",
    "            <td rowspan=4>L1 Name</td>\n",
    "            <td rowspan=2>L2 Name A</td>\n",
    "            <td>L3 Name A</td>\n",
    "        </tr>\n",
    "        <tr>\n",
    "            <td>L3 Name B</td>\n",
    "        </tr>\n",
    "        <tr>\n",
    "            <td rowspan=2>L2 Name B</td>\n",
    "            <td>L3 Name C</td>\n",
    "        </tr>\n",
    "        <tr>\n",
    "            <td>L3 Name D</td>\n",
    "        </tr>\n",
    "    </tbody>\n",
    "</table>"
   ]
  }
 ],
 "metadata": {
  "kernelspec": {
   "display_name": "Python 3.9.13 64-bit",
   "language": "python",
   "name": "python3"
  },
  "language_info": {
   "codemirror_mode": {
    "name": "ipython",
    "version": 3
   },
   "file_extension": ".py",
   "mimetype": "text/x-python",
   "name": "python",
   "nbconvert_exporter": "python",
   "pygments_lexer": "ipython3",
   "version": "3.9.13"
  },
  "orig_nbformat": 4,
  "vscode": {
   "interpreter": {
    "hash": "11938c6bc6919ae2720b4d5011047913343b08a43b18698fd82dedb0d4417594"
   }
  }
 },
 "nbformat": 4,
 "nbformat_minor": 2
}
